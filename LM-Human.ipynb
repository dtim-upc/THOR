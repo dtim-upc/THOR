{
  "cells": [
    {
      "cell_type": "markdown",
      "metadata": {
        "id": "view-in-github",
        "colab_type": "text"
      },
      "source": [
        "<a href=\"https://colab.research.google.com/github/dtim-upc/THOR/blob/main/LM-Human.ipynb\" target=\"_parent\"><img src=\"https://colab.research.google.com/assets/colab-badge.svg\" alt=\"Open In Colab\"/></a>"
      ]
    },
    {
      "cell_type": "code",
      "execution_count": null,
      "metadata": {
        "id": "hPt_dJlgQ94B"
      },
      "outputs": [],
      "source": [
        "# General Libraries\n",
        "import pandas as pd\n",
        "import srsly\n",
        "import json\n",
        "import os\n",
        "import re\n",
        "import csv\n",
        "import time\n",
        "from nervaluate import Evaluator\n",
        "import warnings\n",
        "import wandb\n",
        "\n",
        "# Spacy Related Imports\n",
        "import spacy\n",
        "from spacy.util import minibatch, compounding, compile_infix_regex, get_words_and_spaces\n",
        "from spacy.tokens import Span, DocBin, Doc\n",
        "from spacy.vocab import Vocab\n",
        "from spacy.tokenizer import Tokenizer\n",
        "from spacy.lang.en import English\n",
        "from spacy.scorer import Scorer\n",
        "from spacy.training import Example\n",
        "from print_dict import pd as pdic\n",
        "\n",
        "# RDFLib libraries\n",
        "from rdflib import Graph\n",
        "import pprint\n",
        "from rdflib import RDFS\n",
        "from rdflib import URIRef\n",
        "from rdflib.namespace import RDF"
      ]
    },
    {
      "cell_type": "code",
      "execution_count": null,
      "metadata": {
        "id": "XwHpOAVtt2Op"
      },
      "outputs": [],
      "source": [
        "# wandb.login()"
      ]
    },
    {
      "cell_type": "markdown",
      "metadata": {
        "id": "FsLNf7TUMeGm"
      },
      "source": [
        "# Data Conversion Part\n",
        "#### From Docanno Annotated Data for NER and RE into Spacy NER"
      ]
    },
    {
      "cell_type": "code",
      "execution_count": null,
      "metadata": {
        "id": "MamxT9nRnL0w"
      },
      "outputs": [],
      "source": [
        "TRAIN_DIR = 'dataset/train'\n",
        "VALID_DIR = 'dataset/val'\n",
        "TEST_DIR = 'dataset/test_mayoclinic'\n",
        "CONFIG_DIR = 'config'\n",
        "OUTPUT_DIR = 'dataset'\n",
        "SCHEMA_FILE = \"dataset/schema/Disease_Schema_Extended.ttl\"\n",
        "# STRUCTURED_DATA_DIR = \"dataset/csv\""
      ]
    },
    {
      "cell_type": "code",
      "execution_count": null,
      "metadata": {
        "colab": {
          "base_uri": "https://localhost:8080/"
        },
        "id": "Ff5LVLwARZpM",
        "outputId": "80b5c356-7096-4463-c095-055b2de4d83b"
      },
      "outputs": [
        {
          "name": "stdout",
          "output_type": "stream",
          "text": [
            "['Disease_E', 'Anatomy_E', 'Cause_E', 'Code_E', 'Diagnosis_E', 'Precaution_E', 'Riskfactor_E', 'Symptom_E', 'Medicine_E', 'Composition_E', 'Complication_E', 'Surgery_E']\n"
          ]
        }
      ],
      "source": [
        "\"\"\" This is just to SHOW the Named Entities - No Real Purpose \"\"\"\n",
        "ENTITY_LABELS = []\n",
        "for lbl in srsly.read_json(CONFIG_DIR + '/label_config_Entity.json'):\n",
        "  ENTITY_LABELS.append(lbl['text'])\n",
        "print(ENTITY_LABELS)"
      ]
    },
    {
      "cell_type": "code",
      "execution_count": null,
      "metadata": {
        "id": "8R23z1MypYhw"
      },
      "outputs": [],
      "source": [
        "def trim_entity_spans(text, spans):\n",
        "  '''Data Cleaning: Removes leading and trailing white spaces from entity spans.'''\n",
        "  invalid_span_tokens = re.compile(r'\\s')\n",
        "\n",
        "  valid_spans = []\n",
        "  for start, end, label in spans:\n",
        "    #print(start, end, label)\n",
        "\n",
        "    valid_start = start\n",
        "    valid_end = end\n",
        "\n",
        "    # fixes leading and trailing white-spaces in the span\n",
        "    while valid_start < len(text)-1 and invalid_span_tokens.match(text[valid_start]):\n",
        "      valid_start += 1\n",
        "    while valid_end > 1 and valid_end < len(text) and invalid_span_tokens.match(text[valid_end - 1]):\n",
        "      valid_end -= 1\n",
        "\n",
        "    if valid_start < valid_end:\n",
        "        #print(text[valid_start:valid_end], valid_start, valid_end, label)\n",
        "        valid_spans.append((valid_start, valid_end, label))\n",
        "\n",
        "  return valid_spans"
      ]
    },
    {
      "cell_type": "code",
      "execution_count": null,
      "metadata": {
        "id": "kpRb1eO0t2Os"
      },
      "outputs": [],
      "source": [
        "# def read_json(DATA_DIR):\n",
        "# '''This function solves the issues with JSON Dumping non-ASCII characters'''\n",
        "#     i=1\n",
        "#     for json_line in srsly.read_jsonl(DATA_DIR+'/predition_spacy.json'):\n",
        "\n",
        "#         with open(DATA_DIR+f'/doc-{i}.json', 'w', encoding='utf8') as json_file:\n",
        "#             json.dump(json_line, json_file, ensure_ascii=False)\n",
        "#         i+=1\n",
        "\n",
        "# read_json(TRAIN_DIR)"
      ]
    },
    {
      "cell_type": "code",
      "execution_count": null,
      "metadata": {
        "id": "qJo_JVZYt2Ot"
      },
      "outputs": [],
      "source": [
        "def map_to_spacy_ner_db(DATA_DIR, is_spacy=False):\n",
        "    \"\"\"\n",
        "    This function takes a directory of Docanno or Spacy annotated JSON/JSONL datasets for NER/RE\n",
        "    and converts them into SpaCy DocBin Object which is Trainable via commandline\n",
        "\n",
        "    Parameters:\n",
        "    DATA_DIR = string containing the directory of the JSON/JSONL files\n",
        "    is_spacy = 'True' if the files are already in 'Spacy' JSON format\n",
        "    \"\"\"\n",
        "    # Creates a blank Tokenizer with just the English vocab\n",
        "    nlp = spacy.blank(\"en\")\n",
        "\n",
        "    Doc.set_extension(\"rel\", default={}, force=True)\n",
        "    vocab = Vocab()\n",
        "\n",
        "    word_count = 0\n",
        "    no_doc = 0\n",
        "    missing_doc = 0\n",
        "    no_entities = 0\n",
        "    error_cnt = 0\n",
        "\n",
        "    # the DocBin will store the example documents\n",
        "    db = DocBin()\n",
        "\n",
        "    for dirname, _, filenames in os.walk(DATA_DIR):\n",
        "        for filename in filenames:\n",
        "            file_path = os.path.join(dirname, filename)\n",
        "            \"\"\" Iterate through the Jsonl file to create serialize Docbin object / .spacy IOB File \"\"\"\n",
        "            for json_line in srsly.read_jsonl(file_path):\n",
        "\n",
        "                # parsing the docanno JSON data (per-line)\n",
        "                text = json_line[\"text\"]\n",
        "                spans = json_line[\"entities\"]\n",
        "\n",
        "                # if the datasets are not in Spacy JSON format\n",
        "                if not is_spacy:\n",
        "                    new_spans = []\n",
        "                    for span in spans:\n",
        "                        new_spans.append((span[\"start_offset\"], span[\"end_offset\"], span[\"label\"]))\n",
        "                    spans = new_spans\n",
        "\n",
        "                # cleaning and validating the leading and trailing spaces from the annotated entities\n",
        "                spans = trim_entity_spans(text, spans)\n",
        "\n",
        "                \"\"\" Parsing tokens from Text \"\"\"\n",
        "                tokens = nlp(text)\n",
        "\n",
        "                entities = []\n",
        "\n",
        "                spaces = [True if tok.whitespace_ else False for tok in tokens]\n",
        "                words = [t.text for t in tokens]\n",
        "                doc = Doc(nlp.vocab, words=words, spaces=spaces)\n",
        "\n",
        "                for start, end, label in spans:\n",
        "                    \"\"\" The modes should be: strict, contract, and expand \"\"\"\n",
        "                    # print(eg['text'][int(span[\"start_offset\"]):int(span[\"end_offset\"])])\n",
        "                    entity = doc.char_span(\n",
        "                        start, end, label=label, alignment_mode=\"contract\")\n",
        "\n",
        "                    # Not considering the spans which are Erroneous\n",
        "                    if entity is None:\n",
        "                        error_cnt += 1\n",
        "                        #print(f\"Entity is None for Doc {no_doc+1}\\n\")\n",
        "\n",
        "                    else:\n",
        "                        no_entities += 1\n",
        "                        entities.append(entity)\n",
        "\n",
        "                # print(entities)\n",
        "                try:\n",
        "                    doc.ents = entities\n",
        "                    word_count += len(words)\n",
        "                except:\n",
        "                    #print(f\"=>> Error in Assigning Entities to Doc: {no_doc+1}\\n\")\n",
        "                    missing_doc += 1\n",
        "                    continue\n",
        "\n",
        "                db.add(doc)\n",
        "                no_doc += 1\n",
        "\n",
        "        print(f\"- Total Files: {len(filenames)} \\n- Processed Documents: {no_doc} \\n- Missed Documents: {missing_doc} \\n- Total Entities: {no_entities} \\n- Erroneous Entities (Ignored): {error_cnt} \\n- Total Words: {word_count}\")\n",
        "\n",
        "    return db\n"
      ]
    },
    {
      "cell_type": "code",
      "execution_count": null,
      "metadata": {
        "colab": {
          "base_uri": "https://localhost:8080/"
        },
        "id": "Y4NzFl50Wa9D",
        "outputId": "e92bb8f3-e779-45d4-f169-7820f72de4b6"
      },
      "outputs": [
        {
          "name": "stdout",
          "output_type": "stream",
          "text": [
            "Preparing Training Dataset:\n",
            "- Total Files: 240 \n",
            "- Processed Documents: 1438 \n",
            "- Missed Documents: 0 \n",
            "- Total Entities: 18539 \n",
            "- Erroneous Entities (Ignored): 33 \n",
            "- Total Words: 178882\n",
            "\n",
            "Preparing Validation Dataset:\n",
            "- Total Files: 61 \n",
            "- Processed Documents: 366 \n",
            "- Missed Documents: 0 \n",
            "- Total Entities: 3989 \n",
            "- Erroneous Entities (Ignored): 10 \n",
            "- Total Words: 41284\n",
            "\n",
            "Preparing Test Dataset from Mayoclinic:\n",
            "- Total Files: 13 \n",
            "- Processed Documents: 90 \n",
            "- Missed Documents: 0 \n",
            "- Total Entities: 2222 \n",
            "- Erroneous Entities (Ignored): 6 \n",
            "- Total Words: 19867\n"
          ]
        }
      ],
      "source": [
        "'''Saving Spacy Trainable Object File for NER'''\n",
        "print('Preparing Training Dataset:')\n",
        "# db_train = map_to_spacy_ner_db(TRAIN_DIR, is_spacy=True)\n",
        "db_train = map_to_spacy_ner_db(TRAIN_DIR)\n",
        "db_train.to_disk(OUTPUT_DIR + \"/disease_A-Z_train.spacy\")\n",
        "\n",
        "print('\\nPreparing Validation Dataset:')\n",
        "db_valid = map_to_spacy_ner_db(VALID_DIR)\n",
        "db_valid.to_disk(OUTPUT_DIR + \"/disease_A-Z_valid.spacy\")\n",
        "\n",
        "print('\\nPreparing Test Dataset from Mayoclinic:')\n",
        "db_test = map_to_spacy_ner_db(TEST_DIR)\n",
        "db_test.to_disk(OUTPUT_DIR + \"/disease_A-Z_test.spacy\")"
      ]
    },
    {
      "cell_type": "markdown",
      "metadata": {
        "id": "s4_72OGpMjs8"
      },
      "source": [
        "# Spacy Model Training Part"
      ]
    },
    {
      "cell_type": "code",
      "execution_count": null,
      "metadata": {
        "colab": {
          "base_uri": "https://localhost:8080/"
        },
        "id": "xEbhYAYmMnte",
        "outputId": "0c07b8a3-8974-4dff-a1c1-1b5fe1b0c3d4"
      },
      "outputs": [
        {
          "name": "stdout",
          "output_type": "stream",
          "text": [
            "[+] Auto-filled config with all values\n",
            "[+] Saved config\n",
            "config\\config.cfg\n",
            "You can now add your data and train your pipeline:\n",
            "python -m spacy train config.cfg --paths.train ./train.spacy --paths.dev ./dev.spacy\n"
          ]
        }
      ],
      "source": [
        "# Creates the training configuration file from the given base configuration. You can configure it yourself on:\n",
        "# https://spacy.io/usage/training#quickstart\n",
        "# We are using a GPU based training setting for Accuracy (RoBERTa model)\n",
        "\n",
        "!python -m spacy init fill-config config/base_config.cfg config/config.cfg"
      ]
    },
    {
      "cell_type": "code",
      "execution_count": null,
      "metadata": {
        "id": "Yf1qRT1-P9W8",
        "scrolled": true,
        "outputId": "da821ac0-ffe0-4dd0-cd52-ff1f8adb78a8"
      },
      "outputs": [
        {
          "name": "stdout",
          "output_type": "stream",
          "text": [
            "[i] Saving to output directory: model\n",
            "[i] Using GPU: 0\n",
            "\u001b[1m\n",
            "=========================== Initializing pipeline ===========================\u001b[0m\n",
            "[+] Initialized pipeline\n",
            "\u001b[1m\n",
            "============================= Training pipeline =============================\u001b[0m\n",
            "[i] Pipeline: ['transformer', 'ner']\n",
            "[i] Initial learn rate: 0.0\n",
            "E    #       LOSS TRANS...  LOSS NER  ENTS_F  ENTS_P  ENTS_R  SCORE \n",
            "---  ------  -------------  --------  ------  ------  ------  ------\n",
            "  0       0         934.47   1386.49    0.62    0.34    3.31    0.01\n",
            "  2     200      351775.37  108780.06   24.09   33.14   18.93    0.24\n",
            "  4     400      362104.50  60435.39   56.14   54.78   57.56    0.56\n",
            "  6     600       52582.05  38920.41   56.40   57.16   55.65    0.56\n",
            "  7     800       29825.90  29630.18   62.77   58.22   68.09    0.63\n",
            "  9    1000       18780.77  21975.26   62.53   58.75   66.83    0.63\n",
            " 11    1200       16680.93  17531.64   64.17   63.52   64.83    0.64\n",
            " 13    1400       13666.23  14010.38   63.71   62.07   65.43    0.64\n",
            " 15    1600       15073.74  12603.48   62.11   58.11   66.71    0.62\n",
            " 17    1800        9408.08   8932.61   62.93   60.06   66.08    0.63\n",
            " 19    2000       12453.95   7946.39   63.45   61.72   65.28    0.63\n",
            " 21    2200        7847.95   6503.53   62.94   59.47   66.83    0.63\n",
            " 23    2400       10333.61   7221.76   62.88   59.18   67.08    0.63\n",
            " 25    2600        5771.23   4628.36   62.16   58.72   66.03    0.62\n",
            " 27    2800        4382.96   3900.32   63.63   61.23   66.23    0.64\n",
            "[+] Saved pipeline to output directory\n",
            "model\\model-last\n",
            "Total Training Time = 2853.4627022743225 (sec)\n"
          ]
        },
        {
          "name": "stderr",
          "output_type": "stream",
          "text": [
            "[2023-11-05 18:03:00,042] [INFO] Set up nlp object from config\n",
            "[2023-11-05 18:03:00,678] [INFO] Pipeline: ['transformer', 'ner']\n",
            "[2023-11-05 18:03:00,681] [INFO] Created vocabulary\n",
            "[2023-11-05 18:03:00,693] [INFO] Finished initializing nlp object\n",
            "Some weights of the model checkpoint at roberta-base were not used when initializing RobertaModel: ['lm_head.dense.weight', 'lm_head.layer_norm.bias', 'lm_head.decoder.weight', 'lm_head.layer_norm.weight', 'lm_head.dense.bias', 'lm_head.bias']\n",
            "- This IS expected if you are initializing RobertaModel from the checkpoint of a model trained on another task or with another architecture (e.g. initializing a BertForSequenceClassification model from a BertForPreTraining model).\n",
            "- This IS NOT expected if you are initializing RobertaModel from the checkpoint of a model that you expect to be exactly identical (initializing a BertForSequenceClassification model from a BertForSequenceClassification model).\n",
            "[2023-11-05 18:03:11,810] [INFO] Initialized pipeline components: ['transformer', 'ner']\n",
            "wandb: Currently logged in as: ataur (disease-team). Use `wandb login --relogin` to force relogin\n",
            "wandb: wandb version 0.15.12 is available!  To upgrade, please run:\n",
            "wandb:  $ pip install wandb --upgrade\n",
            "wandb: Tracking run with wandb version 0.15.5\n",
            "wandb: Run data is saved locally in E:\\DRIVE\\STUDY\\DEDS_PhD\\PhD\\Project\\#PhD_Proj\\LM_Stacked\\wandb\\run-20231105_180312-bhgg5rnd\n",
            "wandb: Run `wandb offline` to turn off syncing.\n",
            "wandb: Syncing run eager-resonance-21\n",
            "wandb:  View project at https://wandb.ai/disease-team/THOR\n",
            "wandb:  View run at https://wandb.ai/disease-team/THOR/runs/bhgg5rnd\n",
            "wandb: Adding directory to artifact (.\\dataset)... Done. 0.2s\n",
            "wandb: Adding directory to artifact (.\\model\\model-last)... Done. 1.0s\n",
            "wandb: Adding directory to artifact (.\\model\\model-last)... Done. 1.0s\n",
            "wandb: Waiting for W&B process to finish... (success).\n",
            "wandb: \n",
            "wandb: Run summary:\n",
            "wandb:           ents_f 0.63632\n",
            "wandb:           ents_p 0.61228\n",
            "wandb:           ents_r 0.66232\n",
            "wandb:         loss_ner 3900.31555\n",
            "wandb: loss_transformer 4382.95614\n",
            "wandb:            score 0.63632\n",
            "wandb:            speed 8068.58382\n",
            "wandb:        token_acc 1.0\n",
            "wandb:          token_f 1.0\n",
            "wandb:          token_p 1.0\n",
            "wandb:          token_r 1.0\n",
            "wandb: \n",
            "wandb:  View run eager-resonance-21 at: https://wandb.ai/disease-team/THOR/runs/bhgg5rnd\n",
            "wandb: Synced 6 W&B file(s), 0 media file(s), 355 artifact file(s) and 0 other file(s)\n",
            "wandb: Find logs at: .\\wandb\\run-20231105_180312-bhgg5rnd\\logs\n"
          ]
        }
      ],
      "source": [
        "'''\n",
        "WARNING: Training Will Take Time -\n",
        "Trains a SpaCy NER model on our training data - Please REMOVE\n",
        "--gpu-id 0 if want to run this in CPU\n",
        "'''\n",
        "\n",
        "train_start_time = time.time()\n",
        "\n",
        "!python -m spacy train config/config.cfg --gpu-id 0 --output model --paths.train dataset/disease_A-Z_train.spacy --paths.dev dataset/disease_A-Z_valid.spacy\n",
        "\n",
        "train_end_time = time.time()\n",
        "print(f'Total Training Time = {train_end_time - train_start_time} (sec)')"
      ]
    },
    {
      "cell_type": "code",
      "execution_count": null,
      "metadata": {
        "id": "CB16GLeDvhzB"
      },
      "outputs": [],
      "source": [
        "# loading the best model from the directory (saved during the training)\n",
        "# Please download it from here: https://drive.google.com/file/d/1JlrIfJycQwQ3k9rLlOAIhYEWo9EIQExz/view?usp=sharing\n",
        "\n",
        "nlp_ner = spacy.load(\"model/model-best\")"
      ]
    },
    {
      "cell_type": "code",
      "execution_count": null,
      "metadata": {
        "colab": {
          "base_uri": "https://localhost:8080/",
          "height": 122
        },
        "id": "EtJiJSA3vpFh",
        "outputId": "b2419b7e-25c2-440c-b622-fc09e4aaade7"
      },
      "outputs": [
        {
          "data": {
            "text/html": [
              "<span class=\"tex2jax_ignore\"><div class=\"entities\" style=\"line-height: 2.5; direction: ltr\">\n",
              "<mark class=\"entity\" style=\"background: yellow; padding: 0.45em 0.6em; margin: 0 0.25em; line-height: 1; border-radius: 0.35em;\">\n",
              "    Tuberculosis\n",
              "    <span style=\"font-size: 0.8em; font-weight: bold; line-height: 1; border-radius: 0.35em; vertical-align: middle; margin-left: 0.5rem\">Disease_E</span>\n",
              "</mark>\n",
              " generally damages the \n",
              "<mark class=\"entity\" style=\"background: silver; padding: 0.45em 0.6em; margin: 0 0.25em; line-height: 1; border-radius: 0.35em;\">\n",
              "    lungs\n",
              "    <span style=\"font-size: 0.8em; font-weight: bold; line-height: 1; border-radius: 0.35em; vertical-align: middle; margin-left: 0.5rem\">Anatomy_E</span>\n",
              "</mark>\n",
              ", but it can also \n",
              "<mark class=\"entity\" style=\"background: #D845FB; padding: 0.45em 0.6em; margin: 0 0.25em; line-height: 1; border-radius: 0.35em;\">\n",
              "    impair other parts of the body\n",
              "    <span style=\"font-size: 0.8em; font-weight: bold; line-height: 1; border-radius: 0.35em; vertical-align: middle; margin-left: 0.5rem\">Complication_E</span>\n",
              "</mark>\n",
              " such as \n",
              "<mark class=\"entity\" style=\"background: silver; padding: 0.45em 0.6em; margin: 0 0.25em; line-height: 1; border-radius: 0.35em;\">\n",
              "    brain\n",
              "    <span style=\"font-size: 0.8em; font-weight: bold; line-height: 1; border-radius: 0.35em; vertical-align: middle; margin-left: 0.5rem\">Anatomy_E</span>\n",
              "</mark>\n",
              " and \n",
              "<mark class=\"entity\" style=\"background: silver; padding: 0.45em 0.6em; margin: 0 0.25em; line-height: 1; border-radius: 0.35em;\">\n",
              "    spine\n",
              "    <span style=\"font-size: 0.8em; font-weight: bold; line-height: 1; border-radius: 0.35em; vertical-align: middle; margin-left: 0.5rem\">Anatomy_E</span>\n",
              "</mark>\n",
              ". Typical signs of active \n",
              "<mark class=\"entity\" style=\"background: yellow; padding: 0.45em 0.6em; margin: 0 0.25em; line-height: 1; border-radius: 0.35em;\">\n",
              "    Tuberculosis\n",
              "    <span style=\"font-size: 0.8em; font-weight: bold; line-height: 1; border-radius: 0.35em; vertical-align: middle; margin-left: 0.5rem\">Disease_E</span>\n",
              "</mark>\n",
              " include \n",
              "<mark class=\"entity\" style=\"background: orange; padding: 0.45em 0.6em; margin: 0 0.25em; line-height: 1; border-radius: 0.35em;\">\n",
              "    chronic cough with blood-containing mucus\n",
              "    <span style=\"font-size: 0.8em; font-weight: bold; line-height: 1; border-radius: 0.35em; vertical-align: middle; margin-left: 0.5rem\">Symptom_E</span>\n",
              "</mark>\n",
              ", \n",
              "<mark class=\"entity\" style=\"background: orange; padding: 0.45em 0.6em; margin: 0 0.25em; line-height: 1; border-radius: 0.35em;\">\n",
              "    fever\n",
              "    <span style=\"font-size: 0.8em; font-weight: bold; line-height: 1; border-radius: 0.35em; vertical-align: middle; margin-left: 0.5rem\">Symptom_E</span>\n",
              "</mark>\n",
              ", \n",
              "<mark class=\"entity\" style=\"background: orange; padding: 0.45em 0.6em; margin: 0 0.25em; line-height: 1; border-radius: 0.35em;\">\n",
              "    night sweats\n",
              "    <span style=\"font-size: 0.8em; font-weight: bold; line-height: 1; border-radius: 0.35em; vertical-align: middle; margin-left: 0.5rem\">Symptom_E</span>\n",
              "</mark>\n",
              ", and \n",
              "<mark class=\"entity\" style=\"background: orange; padding: 0.45em 0.6em; margin: 0 0.25em; line-height: 1; border-radius: 0.35em;\">\n",
              "    weight loss\n",
              "    <span style=\"font-size: 0.8em; font-weight: bold; line-height: 1; border-radius: 0.35em; vertical-align: middle; margin-left: 0.5rem\">Symptom_E</span>\n",
              "</mark>\n",
              ". \n",
              "<mark class=\"entity\" style=\"background: yellow; padding: 0.45em 0.6em; margin: 0 0.25em; line-height: 1; border-radius: 0.35em;\">\n",
              "    Tuberculosis\n",
              "    <span style=\"font-size: 0.8em; font-weight: bold; line-height: 1; border-radius: 0.35em; vertical-align: middle; margin-left: 0.5rem\">Disease_E</span>\n",
              "</mark>\n",
              " damages the \n",
              "<mark class=\"entity\" style=\"background: silver; padding: 0.45em 0.6em; margin: 0 0.25em; line-height: 1; border-radius: 0.35em;\">\n",
              "    lungs\n",
              "    <span style=\"font-size: 0.8em; font-weight: bold; line-height: 1; border-radius: 0.35em; vertical-align: middle; margin-left: 0.5rem\">Anatomy_E</span>\n",
              "</mark>\n",
              " whereas \n",
              "<mark class=\"entity\" style=\"background: yellow; padding: 0.45em 0.6em; margin: 0 0.25em; line-height: 1; border-radius: 0.35em;\">\n",
              "    Malaria\n",
              "    <span style=\"font-size: 0.8em; font-weight: bold; line-height: 1; border-radius: 0.35em; vertical-align: middle; margin-left: 0.5rem\">Disease_E</span>\n",
              "</mark>\n",
              " could detriment both \n",
              "<mark class=\"entity\" style=\"background: silver; padding: 0.45em 0.6em; margin: 0 0.25em; line-height: 1; border-radius: 0.35em;\">\n",
              "    kidneys\n",
              "    <span style=\"font-size: 0.8em; font-weight: bold; line-height: 1; border-radius: 0.35em; vertical-align: middle; margin-left: 0.5rem\">Anatomy_E</span>\n",
              "</mark>\n",
              " by impairing the \n",
              "<mark class=\"entity\" style=\"background: silver; padding: 0.45em 0.6em; margin: 0 0.25em; line-height: 1; border-radius: 0.35em;\">\n",
              "    liver\n",
              "    <span style=\"font-size: 0.8em; font-weight: bold; line-height: 1; border-radius: 0.35em; vertical-align: middle; margin-left: 0.5rem\">Anatomy_E</span>\n",
              "</mark>\n",
              ".</div></span>"
            ],
            "text/plain": [
              "<IPython.core.display.HTML object>"
            ]
          },
          "metadata": {},
          "output_type": "display_data"
        }
      ],
      "source": [
        "# Inferencing and visualizing some sample text using the trained model\n",
        "text_inf = \"Tuberculosis generally damages the lungs, but it can also impair other parts of the body such as brain and spine. Typical signs of active Tuberculosis include chronic cough with blood-containing mucus, fever, night sweats, and weight loss. Tuberculosis damages the lungs whereas Malaria could detriment both kidneys by impairing the liver.\"\n",
        "\n",
        "doc_inf = nlp_ner(text_inf)\n",
        "\n",
        "colors = {'Disease_E': 'yellow', 'Anatomy_E': 'silver', 'Cause_E': '#0D9CB4',\n",
        "          'Code_E': '#5813C7', 'Diagnosis_E': '#0D350E', 'Precaution_E': '#1AA436',\n",
        "          'Riskfactor_E': '#1AE0F9', 'Symptom_E': 'orange', 'Medicine_E': '#BADCA1',\n",
        "          'Composition_E': '#78A2E5', 'Complication_E': '#D845FB', 'Surgery_E': '#54B69E'}\n",
        "options = {\"colors\": colors}\n",
        "\n",
        "spacy.displacy.render(doc_inf, style=\"ent\", options=options, jupyter=True)"
      ]
    },
    {
      "cell_type": "code",
      "execution_count": null,
      "metadata": {
        "colab": {
          "base_uri": "https://localhost:8080/",
          "height": 122
        },
        "id": "AukfFpwT6Bg7",
        "outputId": "da6caf5c-db35-4d2c-f680-4697729bc05c"
      },
      "outputs": [
        {
          "data": {
            "text/html": [
              "<span class=\"tex2jax_ignore\"><div class=\"entities\" style=\"line-height: 2.5; direction: ltr\">\n",
              "<mark class=\"entity\" style=\"background: yellow; padding: 0.45em 0.6em; margin: 0 0.25em; line-height: 1; border-radius: 0.35em;\">\n",
              "    Chagas (CHAH-gus) disease\n",
              "    <span style=\"font-size: 0.8em; font-weight: bold; line-height: 1; border-radius: 0.35em; vertical-align: middle; margin-left: 0.5rem\">Disease_E</span>\n",
              "</mark>\n",
              " is an \n",
              "<mark class=\"entity\" style=\"background: #D845FB; padding: 0.45em 0.6em; margin: 0 0.25em; line-height: 1; border-radius: 0.35em;\">\n",
              "    inflammatory, infectious disease\n",
              "    <span style=\"font-size: 0.8em; font-weight: bold; line-height: 1; border-radius: 0.35em; vertical-align: middle; margin-left: 0.5rem\">Complication_E</span>\n",
              "</mark>\n",
              " caused by the parasite Trypanosoma cruzi. \n",
              "<mark class=\"entity\" style=\"background: #0D9CB4; padding: 0.45em 0.6em; margin: 0 0.25em; line-height: 1; border-radius: 0.35em;\">\n",
              "    This parasite\n",
              "    <span style=\"font-size: 0.8em; font-weight: bold; line-height: 1; border-radius: 0.35em; vertical-align: middle; margin-left: 0.5rem\">Cause_E</span>\n",
              "</mark>\n",
              " is found in the feces of the triatomine (reduviid) bug. This bug is also known as the 'kissing bug'. \n",
              "<mark class=\"entity\" style=\"background: yellow; padding: 0.45em 0.6em; margin: 0 0.25em; line-height: 1; border-radius: 0.35em;\">\n",
              "    Chagas disease\n",
              "    <span style=\"font-size: 0.8em; font-weight: bold; line-height: 1; border-radius: 0.35em; vertical-align: middle; margin-left: 0.5rem\">Disease_E</span>\n",
              "</mark>\n",
              " is common in South America, Central America and Mexico, the primary home of the triatomine bug. Rare cases of \n",
              "<mark class=\"entity\" style=\"background: yellow; padding: 0.45em 0.6em; margin: 0 0.25em; line-height: 1; border-radius: 0.35em;\">\n",
              "    Chagas disease\n",
              "    <span style=\"font-size: 0.8em; font-weight: bold; line-height: 1; border-radius: 0.35em; vertical-align: middle; margin-left: 0.5rem\">Disease_E</span>\n",
              "</mark>\n",
              " have also been found in the southern United States.</div></span>"
            ],
            "text/plain": [
              "<IPython.core.display.HTML object>"
            ]
          },
          "metadata": {},
          "output_type": "display_data"
        }
      ],
      "source": [
        "# Inferencing and visualizing some sample text using the trained model\n",
        "text_inf = \"Chagas (CHAH-gus) disease is an inflammatory, infectious disease caused by the parasite Trypanosoma cruzi. This parasite is found in the feces of the triatomine (reduviid) bug. This bug is also known as the 'kissing bug'. Chagas disease is common in South America, Central America and Mexico, the primary home of the triatomine bug. Rare cases of Chagas disease have also been found in the southern United States.\"\n",
        "\n",
        "doc_inf = nlp_ner(text_inf)\n",
        "\n",
        "colors = {'Disease_E': 'yellow', 'Anatomy_E': 'silver', 'Cause_E': '#0D9CB4',\n",
        "          'Code_E': '#5813C7', 'Diagnosis_E': '#0D350E', 'Precaution_E': '#1AA436',\n",
        "          'Riskfactor_E': '#1AE0F9', 'Symptom_E': 'orange', 'Medicine_E': '#BADCA1',\n",
        "          'Composition_E': '#78A2E5', 'Complication_E': '#D845FB', 'Surgery_E': '#54B69E'}\n",
        "options = {\"colors\": colors}\n",
        "\n",
        "spacy.displacy.render(doc_inf, style=\"ent\", options=options, jupyter=True)"
      ]
    },
    {
      "cell_type": "code",
      "execution_count": null,
      "metadata": {
        "colab": {
          "base_uri": "https://localhost:8080/"
        },
        "id": "6MqiTgch_TWk",
        "outputId": "ac52ea33-7c96-4181-df68-54eeaf8b404c"
      },
      "outputs": [
        {
          "name": "stdout",
          "output_type": "stream",
          "text": [
            "[i] Using GPU: 0\n",
            "\u001b[1m\n",
            "================================== Results ==================================\u001b[0m\n",
            "\n",
            "TOK     100.00\n",
            "NER P   63.52 \n",
            "NER R   64.83 \n",
            "NER F   64.17 \n",
            "SPEED   4180  \n",
            "\n",
            "\u001b[1m\n",
            "=============================== NER (per type) ===============================\u001b[0m\n",
            "\n",
            "                     P       R       F\n",
            "Disease_E        80.38   87.44   83.76\n",
            "Cause_E          47.43   43.25   45.24\n",
            "Complication_E   45.23   45.40   45.32\n",
            "Anatomy_E        41.58   37.91   39.66\n",
            "Diagnosis_E      68.15   63.06   65.50\n",
            "Symptom_E        70.75   79.79   75.00\n",
            "Medicine_E       58.02   65.33   61.46\n",
            "Surgery_E        74.42   71.91   73.14\n",
            "Riskfactor_E     49.06   31.14   38.10\n",
            "Composition_E     0.00    0.00    0.00\n",
            "Precaution_E     48.68   51.40   50.00\n",
            "\n",
            "\n",
            "Total Validation Time = 18.46764373779297 (sec)\n"
          ]
        }
      ],
      "source": [
        "'''Evaluating the model separately - Using Validation Data'''\n",
        "start_time = time.time()\n",
        "\n",
        "!python -m spacy evaluate --gpu-id 0 model/model-best/ dataset/disease_A-Z_valid.spacy\n",
        "\n",
        "end_time = time.time()\n",
        "print(f'\\nTotal Validation Time = {end_time - start_time} (sec)')"
      ]
    },
    {
      "cell_type": "code",
      "execution_count": null,
      "metadata": {
        "colab": {
          "base_uri": "https://localhost:8080/"
        },
        "id": "nmLGFJ7wK_o1",
        "outputId": "cb87386b-3964-4eac-f8ff-581aa2a77608"
      },
      "outputs": [
        {
          "name": "stdout",
          "output_type": "stream",
          "text": [
            "[i] Using GPU: 0\n",
            "\u001b[1m\n",
            "================================== Results ==================================\u001b[0m\n",
            "\n",
            "TOK     100.00\n",
            "NER P   57.47 \n",
            "NER R   47.25 \n",
            "NER F   51.86 \n",
            "SPEED   2819  \n",
            "\n",
            "\u001b[1m\n",
            "=============================== NER (per type) ===============================\u001b[0m\n",
            "\n",
            "                     P       R       F\n",
            "Disease_E        78.24   82.44   80.29\n",
            "Anatomy_E        46.94   31.17   37.46\n",
            "Cause_E          34.85   48.94   40.71\n",
            "Complication_E   54.79   20.83   30.19\n",
            "Symptom_E        39.11   57.66   46.61\n",
            "Riskfactor_E     58.33   41.18   48.28\n",
            "Diagnosis_E      75.00   61.70   67.70\n",
            "Surgery_E        59.41   70.59   64.52\n",
            "Precaution_E     35.25   59.72   44.33\n",
            "Medicine_E       55.94   42.55   48.34\n",
            "Composition_E    60.00   13.85   22.50\n",
            "\n",
            "\n",
            "Total Test Time = 14.116291999816895 (sec)\n"
          ]
        }
      ],
      "source": [
        "'''Evaluating the model separately - Using Test Data'''\n",
        "start_time = time.time()\n",
        "\n",
        "!python -m spacy evaluate --gpu-id 0 model/model-best/ dataset/disease_A-Z_test.spacy\n",
        "\n",
        "end_time = time.time()\n",
        "print(f'\\nTotal Test Time = {end_time - start_time} (sec)')"
      ]
    },
    {
      "cell_type": "markdown",
      "metadata": {
        "id": "utAK07PIgTr5"
      },
      "source": [
        "# Evaluation using the Test/Validation Data [without cmd]\n",
        "\n",
        "### Check the following Tutorial:\n",
        "https://github.com/wjbmattingly/spacy_tutorials_3x/blob/main/02_02_formal_test.ipynb"
      ]
    },
    {
      "cell_type": "code",
      "execution_count": null,
      "metadata": {
        "id": "LqGJHtgPsgpY"
      },
      "outputs": [],
      "source": [
        "def load_data(file_path: str, nlp):\n",
        "  '''This function loads data from SpaCy docbin formatted files into spacy compitable JSON format'''\n",
        "  doc_bin = DocBin().from_disk(file_path)\n",
        "  samples, entities_count = [], 0\n",
        "  for doc in doc_bin.get_docs(nlp.vocab):\n",
        "    sample = {\n",
        "      \"text\": doc.text,\n",
        "      \"entities\": []\n",
        "    }\n",
        "    if len(doc.ents) > 0:\n",
        "      entities = [(e.start_char, e.end_char, e.label_) for e in doc.ents]\n",
        "      sample[\"entities\"] = entities\n",
        "      entities_count += len(entities)\n",
        "    else:\n",
        "      warnings.warn(\"Sample without entities!\")\n",
        "    samples.append(sample)\n",
        "  return samples, entities_count"
      ]
    },
    {
      "cell_type": "code",
      "execution_count": null,
      "metadata": {
        "id": "HYmDFW0fsiRe"
      },
      "outputs": [],
      "source": [
        "samples_val, entities_count_val = load_data(OUTPUT_DIR + \"/disease_A-Z_valid.spacy\", nlp_ner)\n",
        "samples_test, entities_count_test = load_data(OUTPUT_DIR + \"/disease_A-Z_test.spacy\", nlp_ner)"
      ]
    },
    {
      "cell_type": "code",
      "execution_count": null,
      "metadata": {
        "colab": {
          "base_uri": "https://localhost:8080/"
        },
        "id": "hYSv0zQnt9Fu",
        "outputId": "ea19f89d-3073-4426-c9de-6913e6e140f0"
      },
      "outputs": [
        {
          "data": {
            "text/plain": [
              "{'text': \"#Causes - Abdominal aortic aneurysm - BD50.4Z\\nAneurysms can develop anywhere along the aorta, but most aortic aneurysms occur in the part of the aorta that's in the belly area (abdomen). Several things can play a role in the development of an abdominal aortic aneurysm, including: Hardening of the arteries (atherosclerosis). Atherosclerosis occurs when fat and other substances build up on the lining of a blood vessel. High blood pressure. High blood pressure can damage and weaken the aorta's walls. Blood vessel diseases. These are diseases that cause blood vessels to become inflamed. Infection in the aorta. Rarely, a bacterial or fungal infection might cause an abdominal aortic aneurysms. Trauma. For example, being injured in a car accident can cause an abdominal aortic aneurysms. \",\n",
              " 'entities': [(10, 35, 'Disease_E'),\n",
              "  (46, 55, 'Complication_E'),\n",
              "  (87, 92, 'Anatomy_E'),\n",
              "  (103, 119, 'Complication_E'),\n",
              "  (133, 150, 'Anatomy_E'),\n",
              "  (165, 185, 'Anatomy_E'),\n",
              "  (243, 268, 'Disease_E'),\n",
              "  (281, 324, 'Cause_E'),\n",
              "  (326, 341, 'Complication_E'),\n",
              "  (407, 419, 'Anatomy_E'),\n",
              "  (421, 440, 'Complication_E'),\n",
              "  (442, 461, 'Complication_E'),\n",
              "  (488, 501, 'Anatomy_E'),\n",
              "  (503, 524, 'Disease_E'),\n",
              "  (526, 544, 'Disease_E'),\n",
              "  (556, 588, 'Complication_E'),\n",
              "  (590, 612, 'Complication_E'),\n",
              "  (622, 653, 'Cause_E'),\n",
              "  (666, 695, 'Disease_E'),\n",
              "  (697, 703, 'Complication_E'),\n",
              "  (718, 749, 'Cause_E'),\n",
              "  (763, 789, 'Disease_E')]}"
            ]
          },
          "execution_count": 24,
          "metadata": {},
          "output_type": "execute_result"
        }
      ],
      "source": [
        "# Looking into one particular samples from the ground truth of the validation set\n",
        "ground = samples_test[0]\n",
        "ground"
      ]
    },
    {
      "cell_type": "code",
      "execution_count": null,
      "metadata": {
        "colab": {
          "base_uri": "https://localhost:8080/"
        },
        "id": "4SP-gt6B9t7k",
        "outputId": "02368e15-0077-4f7e-e09a-fddf2528ab3f"
      },
      "outputs": [
        {
          "name": "stdout",
          "output_type": "stream",
          "text": [
            "#Causes - Abdominal aortic aneurysm - BD50.4Z\n",
            "Aneurysms can develop anywhere along the aorta, but most aortic aneurysms occur in the part of the aorta that's in the belly area (abdomen). Several things can play a role in the development of an abdominal aortic aneurysm, including: Hardening of the arteries (atherosclerosis). Atherosclerosis occurs when fat and other substances build up on the lining of a blood vessel. High blood pressure. High blood pressure can damage and weaken the aorta's walls. Blood vessel diseases. These are diseases that cause blood vessels to become inflamed. Infection in the aorta. Rarely, a bacterial or fungal infection might cause an abdominal aortic aneurysms. Trauma. For example, being injured in a car accident can cause an abdominal aortic aneurysms. \n",
            "\n",
            "Phrase --> Predicted Entity\n",
            "\n",
            "Abdominal aortic aneurysm --> Anatomy_E\n",
            "Aneurysms --> Disease_E\n",
            "aortic aneurysms --> Disease_E\n",
            "belly area --> Anatomy_E\n",
            "abdomen --> Anatomy_E\n",
            "abdominal aortic aneurysm --> Anatomy_E\n",
            "atherosclerosis --> Cause_E\n",
            "Atherosclerosis --> Cause_E\n",
            "fat --> Precaution_E\n",
            "blood vessel --> Anatomy_E\n",
            "High blood pressure --> Cause_E\n",
            "High blood pressure --> Cause_E\n",
            "Blood vessel diseases --> Anatomy_E\n",
            "blood vessels --> Anatomy_E\n",
            "Infection --> Disease_E\n",
            "bacterial or fungal infection --> Disease_E\n",
            "abdominal aortic --> Anatomy_E\n",
            "Trauma --> Riskfactor_E\n",
            "abdominal aortic --> Anatomy_E\n"
          ]
        }
      ],
      "source": [
        "# predicting the text of the above single sample with the model\n",
        "pred = nlp_ner(ground['text'])\n",
        "\n",
        "print(ground['text'])\n",
        "\n",
        "print('\\nPhrase --> Predicted Entity\\n')\n",
        "for ent in pred.ents:\n",
        "  print(ent.text, '-->', ent.label_)"
      ]
    },
    {
      "cell_type": "code",
      "execution_count": null,
      "metadata": {
        "id": "t1Iq7LinFd8h"
      },
      "outputs": [],
      "source": [
        "def evaluate(ner_model, samples):\n",
        "  '''Given a trained spacy ner model along with json formatted data, this function will evaluate the model on the data'''\n",
        "  scorer = Scorer(ner_model)\n",
        "  example = []\n",
        "  for sample in samples:\n",
        "    pred = ner_model(sample['text'])\n",
        "    #print(type(pred))\n",
        "    temp_ex = Example.from_dict(pred, {'entities': sample['entities']})\n",
        "    example.append(temp_ex)\n",
        "  scores = scorer.score(example)\n",
        "  return scores"
      ]
    },
    {
      "cell_type": "code",
      "execution_count": null,
      "metadata": {
        "id": "jEX8TZHHJ7a5"
      },
      "outputs": [],
      "source": [
        "# results = evaluate(nlp_ner, samples_val, )"
      ]
    },
    {
      "cell_type": "code",
      "execution_count": null,
      "metadata": {
        "id": "L3SjYGpWKQt1"
      },
      "outputs": [],
      "source": [
        "# from print_dict import pd as pdic\n",
        "# pdic(results)"
      ]
    },
    {
      "cell_type": "markdown",
      "metadata": {
        "id": "VSXEYkl9t2Oy"
      },
      "source": [
        "# SemEval Evaluation Scripts"
      ]
    },
    {
      "cell_type": "code",
      "execution_count": null,
      "metadata": {
        "id": "ZdL0eeu1t2Oy"
      },
      "outputs": [],
      "source": [
        "def list_to_spacy_ner_doc(ner_pred):\n",
        "  '''\n",
        "  This function takes a list of directory of NER predictions of the form\n",
        "  {'text': '...', 'entities':[(start, end, tag)]} and converts them into SpaCy Doc Object\n",
        "  '''\n",
        "  # Creates a blank Tokenizer with just the English vocab\n",
        "  nlp = spacy.blank(\"en\")\n",
        "\n",
        "  Doc.set_extension(\"rel\", default={},force=True)\n",
        "  vocab = Vocab()\n",
        "\n",
        "  # try:\n",
        "  # parsing the docanno JSON data (per-line)\n",
        "  text = ner_pred[\"text\"]\n",
        "  spans = ner_pred[\"entities\"]\n",
        "\n",
        "  \"\"\" Parsing tokens from Text \"\"\"\n",
        "  tokens = nlp(text)\n",
        "\n",
        "  entities = []\n",
        "\n",
        "  spaces = [True if tok.whitespace_ else False for tok in tokens]\n",
        "  words = [t.text for t in tokens]\n",
        "  doc = Doc(nlp.vocab, words=words, spaces=spaces)\n",
        "\n",
        "  for start, end, label in spans:\n",
        "    \"\"\" The modes should be: strict, contract, and expand \"\"\"\n",
        "      # print(eg['text'][int(span[\"start_offset\"]):int(span[\"end_offset\"])])\n",
        "    entity = doc.char_span(start, end, label=label, alignment_mode='contract')\n",
        "\n",
        "    # Not considering the spans which are Erroneous\n",
        "    if entity is None:\n",
        "      # disease_name = text.split('\\n')[0]\n",
        "      # print(f'No Entity Found in File: {disease_name};\\n Span = {start}-{end}; Phrase = {doc.text[start:end]}; Label = {label}\\n')\n",
        "      continue\n",
        "    else:\n",
        "      entities.append(entity)\n",
        "\n",
        "  # print(entities[0].label_)\n",
        "  try:\n",
        "    doc.ents = entities\n",
        "  except:\n",
        "    print(\"=>> Error\")\n",
        "    print(text)\n",
        "\n",
        "  # except:\n",
        "  #   print('Error While Loading Predicted List...')\n",
        "\n",
        "  return doc"
      ]
    },
    {
      "cell_type": "code",
      "execution_count": null,
      "metadata": {
        "id": "YDaw_LU3t2Oy"
      },
      "outputs": [],
      "source": [
        "def render_sample_pred(ner_doc):\n",
        "  spacy.displacy.render(ner_doc, style=\"ent\", options=options, jupyter=True)"
      ]
    },
    {
      "cell_type": "code",
      "execution_count": null,
      "metadata": {
        "id": "ZDD_V9gDt2Oy",
        "outputId": "31c43025-0c98-435b-8f62-f93b86c2d9bb"
      },
      "outputs": [
        {
          "name": "stdout",
          "output_type": "stream",
          "text": [
            "{'text': \"#Causes - Abdominal aortic aneurysm - BD50.4Z\\nAneurysms can develop anywhere along the aorta, but most aortic aneurysms occur in the part of the aorta that's in the belly area (abdomen). Several things can play a role in the development of an abdominal aortic aneurysm, including: Hardening of the arteries (atherosclerosis). Atherosclerosis occurs when fat and other substances build up on the lining of a blood vessel. High blood pressure. High blood pressure can damage and weaken the aorta's walls. Blood vessel diseases. These are diseases that cause blood vessels to become inflamed. Infection in the aorta. Rarely, a bacterial or fungal infection might cause an abdominal aortic aneurysms. Trauma. For example, being injured in a car accident can cause an abdominal aortic aneurysms. \", 'entities': [(10, 35, 'Disease_E'), (46, 55, 'Complication_E'), (87, 92, 'Anatomy_E'), (103, 119, 'Complication_E'), (133, 150, 'Anatomy_E'), (165, 185, 'Anatomy_E'), (243, 268, 'Disease_E'), (281, 324, 'Cause_E'), (326, 341, 'Complication_E'), (407, 419, 'Anatomy_E'), (421, 440, 'Complication_E'), (442, 461, 'Complication_E'), (488, 501, 'Anatomy_E'), (503, 524, 'Disease_E'), (526, 544, 'Disease_E'), (556, 588, 'Complication_E'), (590, 612, 'Complication_E'), (622, 653, 'Cause_E'), (666, 695, 'Disease_E'), (697, 703, 'Complication_E'), (718, 749, 'Cause_E'), (763, 789, 'Disease_E')]}\n",
            "\n",
            "#Causes - Abdominal aortic aneurysm - BD50.4Z\n",
            "Aneurysms can develop anywhere along the aorta, but most aortic aneurysms occur in the part of the aorta that's in the belly area (abdomen). Several things can play a role in the development of an abdominal aortic aneurysm, including: Hardening of the arteries (atherosclerosis). Atherosclerosis occurs when fat and other substances build up on the lining of a blood vessel. High blood pressure. High blood pressure can damage and weaken the aorta's walls. Blood vessel diseases. These are diseases that cause blood vessels to become inflamed. Infection in the aorta. Rarely, a bacterial or fungal infection might cause an abdominal aortic aneurysms. Trauma. For example, being injured in a car accident can cause an abdominal aortic aneurysms. \n",
            "\n",
            "Phrase --> Predicted Entity\n",
            "\n",
            "Abdominal aortic aneurysm --> Anatomy_E\n",
            "Aneurysms --> Disease_E\n",
            "aortic aneurysms --> Disease_E\n",
            "belly area --> Anatomy_E\n",
            "abdomen --> Anatomy_E\n",
            "abdominal aortic aneurysm --> Anatomy_E\n",
            "atherosclerosis --> Cause_E\n",
            "Atherosclerosis --> Cause_E\n",
            "fat --> Precaution_E\n",
            "blood vessel --> Anatomy_E\n",
            "High blood pressure --> Cause_E\n",
            "High blood pressure --> Cause_E\n",
            "Blood vessel diseases --> Anatomy_E\n",
            "blood vessels --> Anatomy_E\n",
            "Infection --> Disease_E\n",
            "bacterial or fungal infection --> Disease_E\n",
            "abdominal aortic --> Anatomy_E\n",
            "Trauma --> Riskfactor_E\n",
            "abdominal aortic --> Anatomy_E\n"
          ]
        }
      ],
      "source": [
        "# Looking into one particular samples from the ground truth of the validation set\n",
        "ground = samples_test[0]\n",
        "print(ground)\n",
        "print()\n",
        "\n",
        "pred = nlp_ner(ground['text'])\n",
        "print(pred)\n",
        "\n",
        "print('\\nPhrase --> Predicted Entity\\n')\n",
        "for ent in pred.ents:\n",
        "  print(ent.text, '-->', ent.label_)"
      ]
    },
    {
      "cell_type": "code",
      "execution_count": null,
      "metadata": {
        "id": "WbgLEY0qt2Oy",
        "outputId": "6febda52-4e9c-432b-84a1-d3105cbb26ff"
      },
      "outputs": [
        {
          "name": "stdout",
          "output_type": "stream",
          "text": [
            "\n",
            "########### Prediction ###########\n",
            "\n"
          ]
        },
        {
          "data": {
            "text/html": [
              "<span class=\"tex2jax_ignore\"><div class=\"entities\" style=\"line-height: 2.5; direction: ltr\">#Causes - \n",
              "<mark class=\"entity\" style=\"background: silver; padding: 0.45em 0.6em; margin: 0 0.25em; line-height: 1; border-radius: 0.35em;\">\n",
              "    Abdominal aortic aneurysm\n",
              "    <span style=\"font-size: 0.8em; font-weight: bold; line-height: 1; border-radius: 0.35em; vertical-align: middle; margin-left: 0.5rem\">Anatomy_E</span>\n",
              "</mark>\n",
              " - BD50.4Z</br>\n",
              "<mark class=\"entity\" style=\"background: yellow; padding: 0.45em 0.6em; margin: 0 0.25em; line-height: 1; border-radius: 0.35em;\">\n",
              "    Aneurysms\n",
              "    <span style=\"font-size: 0.8em; font-weight: bold; line-height: 1; border-radius: 0.35em; vertical-align: middle; margin-left: 0.5rem\">Disease_E</span>\n",
              "</mark>\n",
              " can develop anywhere along the aorta, but most \n",
              "<mark class=\"entity\" style=\"background: yellow; padding: 0.45em 0.6em; margin: 0 0.25em; line-height: 1; border-radius: 0.35em;\">\n",
              "    aortic aneurysms\n",
              "    <span style=\"font-size: 0.8em; font-weight: bold; line-height: 1; border-radius: 0.35em; vertical-align: middle; margin-left: 0.5rem\">Disease_E</span>\n",
              "</mark>\n",
              " occur in the part of the aorta that's in the \n",
              "<mark class=\"entity\" style=\"background: silver; padding: 0.45em 0.6em; margin: 0 0.25em; line-height: 1; border-radius: 0.35em;\">\n",
              "    belly area\n",
              "    <span style=\"font-size: 0.8em; font-weight: bold; line-height: 1; border-radius: 0.35em; vertical-align: middle; margin-left: 0.5rem\">Anatomy_E</span>\n",
              "</mark>\n",
              " (\n",
              "<mark class=\"entity\" style=\"background: silver; padding: 0.45em 0.6em; margin: 0 0.25em; line-height: 1; border-radius: 0.35em;\">\n",
              "    abdomen\n",
              "    <span style=\"font-size: 0.8em; font-weight: bold; line-height: 1; border-radius: 0.35em; vertical-align: middle; margin-left: 0.5rem\">Anatomy_E</span>\n",
              "</mark>\n",
              "). Several things can play a role in the development of an \n",
              "<mark class=\"entity\" style=\"background: silver; padding: 0.45em 0.6em; margin: 0 0.25em; line-height: 1; border-radius: 0.35em;\">\n",
              "    abdominal aortic aneurysm\n",
              "    <span style=\"font-size: 0.8em; font-weight: bold; line-height: 1; border-radius: 0.35em; vertical-align: middle; margin-left: 0.5rem\">Anatomy_E</span>\n",
              "</mark>\n",
              ", including: Hardening of the arteries (\n",
              "<mark class=\"entity\" style=\"background: #0D9CB4; padding: 0.45em 0.6em; margin: 0 0.25em; line-height: 1; border-radius: 0.35em;\">\n",
              "    atherosclerosis\n",
              "    <span style=\"font-size: 0.8em; font-weight: bold; line-height: 1; border-radius: 0.35em; vertical-align: middle; margin-left: 0.5rem\">Cause_E</span>\n",
              "</mark>\n",
              "). \n",
              "<mark class=\"entity\" style=\"background: #0D9CB4; padding: 0.45em 0.6em; margin: 0 0.25em; line-height: 1; border-radius: 0.35em;\">\n",
              "    Atherosclerosis\n",
              "    <span style=\"font-size: 0.8em; font-weight: bold; line-height: 1; border-radius: 0.35em; vertical-align: middle; margin-left: 0.5rem\">Cause_E</span>\n",
              "</mark>\n",
              " occurs when \n",
              "<mark class=\"entity\" style=\"background: #1AA436; padding: 0.45em 0.6em; margin: 0 0.25em; line-height: 1; border-radius: 0.35em;\">\n",
              "    fat\n",
              "    <span style=\"font-size: 0.8em; font-weight: bold; line-height: 1; border-radius: 0.35em; vertical-align: middle; margin-left: 0.5rem\">Precaution_E</span>\n",
              "</mark>\n",
              " and other substances build up on the lining of a \n",
              "<mark class=\"entity\" style=\"background: silver; padding: 0.45em 0.6em; margin: 0 0.25em; line-height: 1; border-radius: 0.35em;\">\n",
              "    blood vessel\n",
              "    <span style=\"font-size: 0.8em; font-weight: bold; line-height: 1; border-radius: 0.35em; vertical-align: middle; margin-left: 0.5rem\">Anatomy_E</span>\n",
              "</mark>\n",
              ". \n",
              "<mark class=\"entity\" style=\"background: #0D9CB4; padding: 0.45em 0.6em; margin: 0 0.25em; line-height: 1; border-radius: 0.35em;\">\n",
              "    High blood pressure\n",
              "    <span style=\"font-size: 0.8em; font-weight: bold; line-height: 1; border-radius: 0.35em; vertical-align: middle; margin-left: 0.5rem\">Cause_E</span>\n",
              "</mark>\n",
              ". \n",
              "<mark class=\"entity\" style=\"background: #0D9CB4; padding: 0.45em 0.6em; margin: 0 0.25em; line-height: 1; border-radius: 0.35em;\">\n",
              "    High blood pressure\n",
              "    <span style=\"font-size: 0.8em; font-weight: bold; line-height: 1; border-radius: 0.35em; vertical-align: middle; margin-left: 0.5rem\">Cause_E</span>\n",
              "</mark>\n",
              " can damage and weaken the aorta's walls. \n",
              "<mark class=\"entity\" style=\"background: silver; padding: 0.45em 0.6em; margin: 0 0.25em; line-height: 1; border-radius: 0.35em;\">\n",
              "    Blood vessel diseases\n",
              "    <span style=\"font-size: 0.8em; font-weight: bold; line-height: 1; border-radius: 0.35em; vertical-align: middle; margin-left: 0.5rem\">Anatomy_E</span>\n",
              "</mark>\n",
              ". These are diseases that cause \n",
              "<mark class=\"entity\" style=\"background: silver; padding: 0.45em 0.6em; margin: 0 0.25em; line-height: 1; border-radius: 0.35em;\">\n",
              "    blood vessels\n",
              "    <span style=\"font-size: 0.8em; font-weight: bold; line-height: 1; border-radius: 0.35em; vertical-align: middle; margin-left: 0.5rem\">Anatomy_E</span>\n",
              "</mark>\n",
              " to become inflamed. \n",
              "<mark class=\"entity\" style=\"background: yellow; padding: 0.45em 0.6em; margin: 0 0.25em; line-height: 1; border-radius: 0.35em;\">\n",
              "    Infection\n",
              "    <span style=\"font-size: 0.8em; font-weight: bold; line-height: 1; border-radius: 0.35em; vertical-align: middle; margin-left: 0.5rem\">Disease_E</span>\n",
              "</mark>\n",
              " in the aorta. Rarely, a \n",
              "<mark class=\"entity\" style=\"background: yellow; padding: 0.45em 0.6em; margin: 0 0.25em; line-height: 1; border-radius: 0.35em;\">\n",
              "    bacterial or fungal infection\n",
              "    <span style=\"font-size: 0.8em; font-weight: bold; line-height: 1; border-radius: 0.35em; vertical-align: middle; margin-left: 0.5rem\">Disease_E</span>\n",
              "</mark>\n",
              " might cause an \n",
              "<mark class=\"entity\" style=\"background: silver; padding: 0.45em 0.6em; margin: 0 0.25em; line-height: 1; border-radius: 0.35em;\">\n",
              "    abdominal aortic\n",
              "    <span style=\"font-size: 0.8em; font-weight: bold; line-height: 1; border-radius: 0.35em; vertical-align: middle; margin-left: 0.5rem\">Anatomy_E</span>\n",
              "</mark>\n",
              " aneurysms. \n",
              "<mark class=\"entity\" style=\"background: #1AE0F9; padding: 0.45em 0.6em; margin: 0 0.25em; line-height: 1; border-radius: 0.35em;\">\n",
              "    Trauma\n",
              "    <span style=\"font-size: 0.8em; font-weight: bold; line-height: 1; border-radius: 0.35em; vertical-align: middle; margin-left: 0.5rem\">Riskfactor_E</span>\n",
              "</mark>\n",
              ". For example, being injured in a car accident can cause an \n",
              "<mark class=\"entity\" style=\"background: silver; padding: 0.45em 0.6em; margin: 0 0.25em; line-height: 1; border-radius: 0.35em;\">\n",
              "    abdominal aortic\n",
              "    <span style=\"font-size: 0.8em; font-weight: bold; line-height: 1; border-radius: 0.35em; vertical-align: middle; margin-left: 0.5rem\">Anatomy_E</span>\n",
              "</mark>\n",
              " aneurysms. </div></span>"
            ],
            "text/plain": [
              "<IPython.core.display.HTML object>"
            ]
          },
          "metadata": {},
          "output_type": "display_data"
        },
        {
          "name": "stdout",
          "output_type": "stream",
          "text": [
            "\n",
            "########### Ground Truth ###########\n",
            "\n"
          ]
        },
        {
          "data": {
            "text/html": [
              "<span class=\"tex2jax_ignore\"><div class=\"entities\" style=\"line-height: 2.5; direction: ltr\">#Causes - \n",
              "<mark class=\"entity\" style=\"background: yellow; padding: 0.45em 0.6em; margin: 0 0.25em; line-height: 1; border-radius: 0.35em;\">\n",
              "    Abdominal aortic aneurysm\n",
              "    <span style=\"font-size: 0.8em; font-weight: bold; line-height: 1; border-radius: 0.35em; vertical-align: middle; margin-left: 0.5rem\">Disease_E</span>\n",
              "</mark>\n",
              " - BD50.4Z</br>\n",
              "<mark class=\"entity\" style=\"background: #D845FB; padding: 0.45em 0.6em; margin: 0 0.25em; line-height: 1; border-radius: 0.35em;\">\n",
              "    Aneurysms\n",
              "    <span style=\"font-size: 0.8em; font-weight: bold; line-height: 1; border-radius: 0.35em; vertical-align: middle; margin-left: 0.5rem\">Complication_E</span>\n",
              "</mark>\n",
              " can develop anywhere along the \n",
              "<mark class=\"entity\" style=\"background: silver; padding: 0.45em 0.6em; margin: 0 0.25em; line-height: 1; border-radius: 0.35em;\">\n",
              "    aorta\n",
              "    <span style=\"font-size: 0.8em; font-weight: bold; line-height: 1; border-radius: 0.35em; vertical-align: middle; margin-left: 0.5rem\">Anatomy_E</span>\n",
              "</mark>\n",
              ", but most \n",
              "<mark class=\"entity\" style=\"background: #D845FB; padding: 0.45em 0.6em; margin: 0 0.25em; line-height: 1; border-radius: 0.35em;\">\n",
              "    aortic aneurysms\n",
              "    <span style=\"font-size: 0.8em; font-weight: bold; line-height: 1; border-radius: 0.35em; vertical-align: middle; margin-left: 0.5rem\">Complication_E</span>\n",
              "</mark>\n",
              " occur in the \n",
              "<mark class=\"entity\" style=\"background: silver; padding: 0.45em 0.6em; margin: 0 0.25em; line-height: 1; border-radius: 0.35em;\">\n",
              "    part of the aorta\n",
              "    <span style=\"font-size: 0.8em; font-weight: bold; line-height: 1; border-radius: 0.35em; vertical-align: middle; margin-left: 0.5rem\">Anatomy_E</span>\n",
              "</mark>\n",
              " that's in the \n",
              "<mark class=\"entity\" style=\"background: silver; padding: 0.45em 0.6em; margin: 0 0.25em; line-height: 1; border-radius: 0.35em;\">\n",
              "    belly area (abdomen)\n",
              "    <span style=\"font-size: 0.8em; font-weight: bold; line-height: 1; border-radius: 0.35em; vertical-align: middle; margin-left: 0.5rem\">Anatomy_E</span>\n",
              "</mark>\n",
              ". Several things can play a role in the development of an \n",
              "<mark class=\"entity\" style=\"background: yellow; padding: 0.45em 0.6em; margin: 0 0.25em; line-height: 1; border-radius: 0.35em;\">\n",
              "    abdominal aortic aneurysm\n",
              "    <span style=\"font-size: 0.8em; font-weight: bold; line-height: 1; border-radius: 0.35em; vertical-align: middle; margin-left: 0.5rem\">Disease_E</span>\n",
              "</mark>\n",
              ", including: \n",
              "<mark class=\"entity\" style=\"background: #0D9CB4; padding: 0.45em 0.6em; margin: 0 0.25em; line-height: 1; border-radius: 0.35em;\">\n",
              "    Hardening of the arteries (atherosclerosis)\n",
              "    <span style=\"font-size: 0.8em; font-weight: bold; line-height: 1; border-radius: 0.35em; vertical-align: middle; margin-left: 0.5rem\">Cause_E</span>\n",
              "</mark>\n",
              ". \n",
              "<mark class=\"entity\" style=\"background: #D845FB; padding: 0.45em 0.6em; margin: 0 0.25em; line-height: 1; border-radius: 0.35em;\">\n",
              "    Atherosclerosis\n",
              "    <span style=\"font-size: 0.8em; font-weight: bold; line-height: 1; border-radius: 0.35em; vertical-align: middle; margin-left: 0.5rem\">Complication_E</span>\n",
              "</mark>\n",
              " occurs when fat and other substances build up on the lining of a \n",
              "<mark class=\"entity\" style=\"background: silver; padding: 0.45em 0.6em; margin: 0 0.25em; line-height: 1; border-radius: 0.35em;\">\n",
              "    blood vessel\n",
              "    <span style=\"font-size: 0.8em; font-weight: bold; line-height: 1; border-radius: 0.35em; vertical-align: middle; margin-left: 0.5rem\">Anatomy_E</span>\n",
              "</mark>\n",
              ". \n",
              "<mark class=\"entity\" style=\"background: #D845FB; padding: 0.45em 0.6em; margin: 0 0.25em; line-height: 1; border-radius: 0.35em;\">\n",
              "    High blood pressure\n",
              "    <span style=\"font-size: 0.8em; font-weight: bold; line-height: 1; border-radius: 0.35em; vertical-align: middle; margin-left: 0.5rem\">Complication_E</span>\n",
              "</mark>\n",
              ". \n",
              "<mark class=\"entity\" style=\"background: #D845FB; padding: 0.45em 0.6em; margin: 0 0.25em; line-height: 1; border-radius: 0.35em;\">\n",
              "    High blood pressure\n",
              "    <span style=\"font-size: 0.8em; font-weight: bold; line-height: 1; border-radius: 0.35em; vertical-align: middle; margin-left: 0.5rem\">Complication_E</span>\n",
              "</mark>\n",
              " can damage and weaken the \n",
              "<mark class=\"entity\" style=\"background: silver; padding: 0.45em 0.6em; margin: 0 0.25em; line-height: 1; border-radius: 0.35em;\">\n",
              "    aorta's walls\n",
              "    <span style=\"font-size: 0.8em; font-weight: bold; line-height: 1; border-radius: 0.35em; vertical-align: middle; margin-left: 0.5rem\">Anatomy_E</span>\n",
              "</mark>\n",
              ". \n",
              "<mark class=\"entity\" style=\"background: yellow; padding: 0.45em 0.6em; margin: 0 0.25em; line-height: 1; border-radius: 0.35em;\">\n",
              "    Blood vessel diseases\n",
              "    <span style=\"font-size: 0.8em; font-weight: bold; line-height: 1; border-radius: 0.35em; vertical-align: middle; margin-left: 0.5rem\">Disease_E</span>\n",
              "</mark>\n",
              ". \n",
              "<mark class=\"entity\" style=\"background: yellow; padding: 0.45em 0.6em; margin: 0 0.25em; line-height: 1; border-radius: 0.35em;\">\n",
              "    These are diseases\n",
              "    <span style=\"font-size: 0.8em; font-weight: bold; line-height: 1; border-radius: 0.35em; vertical-align: middle; margin-left: 0.5rem\">Disease_E</span>\n",
              "</mark>\n",
              " that cause \n",
              "<mark class=\"entity\" style=\"background: #D845FB; padding: 0.45em 0.6em; margin: 0 0.25em; line-height: 1; border-radius: 0.35em;\">\n",
              "    blood vessels to become inflamed\n",
              "    <span style=\"font-size: 0.8em; font-weight: bold; line-height: 1; border-radius: 0.35em; vertical-align: middle; margin-left: 0.5rem\">Complication_E</span>\n",
              "</mark>\n",
              ". \n",
              "<mark class=\"entity\" style=\"background: #D845FB; padding: 0.45em 0.6em; margin: 0 0.25em; line-height: 1; border-radius: 0.35em;\">\n",
              "    Infection in the aorta\n",
              "    <span style=\"font-size: 0.8em; font-weight: bold; line-height: 1; border-radius: 0.35em; vertical-align: middle; margin-left: 0.5rem\">Complication_E</span>\n",
              "</mark>\n",
              ". Rarely, \n",
              "<mark class=\"entity\" style=\"background: #0D9CB4; padding: 0.45em 0.6em; margin: 0 0.25em; line-height: 1; border-radius: 0.35em;\">\n",
              "    a bacterial or fungal infection\n",
              "    <span style=\"font-size: 0.8em; font-weight: bold; line-height: 1; border-radius: 0.35em; vertical-align: middle; margin-left: 0.5rem\">Cause_E</span>\n",
              "</mark>\n",
              " might cause \n",
              "<mark class=\"entity\" style=\"background: yellow; padding: 0.45em 0.6em; margin: 0 0.25em; line-height: 1; border-radius: 0.35em;\">\n",
              "    an abdominal aortic aneurysms\n",
              "    <span style=\"font-size: 0.8em; font-weight: bold; line-height: 1; border-radius: 0.35em; vertical-align: middle; margin-left: 0.5rem\">Disease_E</span>\n",
              "</mark>\n",
              ". \n",
              "<mark class=\"entity\" style=\"background: #D845FB; padding: 0.45em 0.6em; margin: 0 0.25em; line-height: 1; border-radius: 0.35em;\">\n",
              "    Trauma\n",
              "    <span style=\"font-size: 0.8em; font-weight: bold; line-height: 1; border-radius: 0.35em; vertical-align: middle; margin-left: 0.5rem\">Complication_E</span>\n",
              "</mark>\n",
              ". For example, \n",
              "<mark class=\"entity\" style=\"background: #0D9CB4; padding: 0.45em 0.6em; margin: 0 0.25em; line-height: 1; border-radius: 0.35em;\">\n",
              "    being injured in a car accident\n",
              "    <span style=\"font-size: 0.8em; font-weight: bold; line-height: 1; border-radius: 0.35em; vertical-align: middle; margin-left: 0.5rem\">Cause_E</span>\n",
              "</mark>\n",
              " can cause an \n",
              "<mark class=\"entity\" style=\"background: yellow; padding: 0.45em 0.6em; margin: 0 0.25em; line-height: 1; border-radius: 0.35em;\">\n",
              "    abdominal aortic aneurysms\n",
              "    <span style=\"font-size: 0.8em; font-weight: bold; line-height: 1; border-radius: 0.35em; vertical-align: middle; margin-left: 0.5rem\">Disease_E</span>\n",
              "</mark>\n",
              ". </div></span>"
            ],
            "text/plain": [
              "<IPython.core.display.HTML object>"
            ]
          },
          "metadata": {},
          "output_type": "display_data"
        }
      ],
      "source": [
        "# Visualizing the NER Predictions against the Ground Truth 'samples'\n",
        "print('\\n########### Prediction ###########\\n')\n",
        "render_sample_pred(pred)\n",
        "print('\\n########### Ground Truth ###########\\n')\n",
        "render_sample_pred(list_to_spacy_ner_doc(ground))"
      ]
    },
    {
      "cell_type": "code",
      "execution_count": null,
      "metadata": {
        "id": "i_gv52gSt2Oy"
      },
      "outputs": [],
      "source": [
        "def spacy_evaluate(ner_predictions, samples, show_res=False):\n",
        "  '''Spacy Evaluation Function - Not going to use it\n",
        "  Given a trained spacy ner model along with json formatted data, this function will evaluate the model on the data'''\n",
        "  scorer = Scorer()\n",
        "  example = []\n",
        "  for pred, sample in zip(ner_predictions, samples):\n",
        "    # print(pred)\n",
        "    pred_doc = list_to_spacy_ner_doc(pred)\n",
        "\n",
        "    if show_res:\n",
        "      print('\\n########### Prediction ###########\\n')\n",
        "      render_sample_pred(pred_doc)\n",
        "      print('\\n########### Ground Truth ###########\\n')\n",
        "      render_sample_pred(list_to_spacy_ner_doc(sample))\n",
        "\n",
        "    temp_ex = Example.from_dict(pred_doc, {'entities': sample['entities']})\n",
        "    example.append(temp_ex)\n",
        "\n",
        "  scores = scorer.score(example)\n",
        "  return scores"
      ]
    },
    {
      "cell_type": "code",
      "execution_count": null,
      "metadata": {
        "id": "wdUEhuUIt2Oz"
      },
      "outputs": [],
      "source": [
        "def save_predictions(ner_predictions, filename, semeval_format=True):\n",
        "  # Saving the predictions as JSON - each dictionary on a line\n",
        "  semeval_ent = []\n",
        "  with open(OUTPUT_DIR+'/'+filename, 'w') as json_file:\n",
        "    for pred in ner_predictions:\n",
        "      tmp_ent = []\n",
        "      if semeval_format:\n",
        "        # prodigy format to work with nereval library - for SemEval 2013 - 9.1 task.\n",
        "        for ent in pred['entities']:\n",
        "          # saved in this format: [{\"label\": \"PER\", \"start\": 2, \"end\": 4}, ... ]\n",
        "          tmp_ent.append({\"label\": ent[2], \"start\": ent[0], \"end\": ent[1]})\n",
        "\n",
        "        semeval_ent.append(tmp_ent)\n",
        "\n",
        "      else:\n",
        "        # Spacy Doc object to work with nereval library - for SemEval 2013 - 9.1 task.\n",
        "        for ent in pred.ents:\n",
        "          # saved in this format: [{\"label\": \"PER\", \"start\": 2, \"end\": 4}, ... ]\n",
        "          tmp_ent.append({\"label\": ent.label_, \"start\": ent.start_char, \"end\": ent.end_char})\n",
        "\n",
        "        semeval_ent.append(tmp_ent)\n",
        "\n",
        "    # dumping it into a JSON file\n",
        "    json_file.write(json.dumps(semeval_ent))\n",
        "\n",
        "  return semeval_ent\n",
        "  # # This is single line JSON Dump of the entile list of dictionary - parser cannot parse it directly\n",
        "  # with open(OUTPUT_DIR+'/predition.jsonl', 'w') as fout:\n",
        "  #     json.dump(ner_predictions, fout)"
      ]
    },
    {
      "cell_type": "code",
      "execution_count": null,
      "metadata": {
        "id": "BgBt4_wqt2Oz"
      },
      "outputs": [],
      "source": [
        "def preprocess_results(results_by_tag):\n",
        "    results_by_entity = []\n",
        "    for entity in ENTITY_LABELS:\n",
        "        if entity != 'Code_E':\n",
        "            df = pd.DataFrame(results_by_tag[entity])\n",
        "            df = df.round(decimals = 2)\n",
        "            df.insert(0,'Entity','')\n",
        "            df['Entity'] = entity\n",
        "            results_by_entity.append(df)\n",
        "    return results_by_entity"
      ]
    },
    {
      "cell_type": "code",
      "execution_count": null,
      "metadata": {
        "id": "lPoZyOlWt2Oz"
      },
      "outputs": [],
      "source": [
        "def semeval_evaluation(true, pred):\n",
        "    evaluator = Evaluator(true, pred, tags=ENTITY_LABELS)\n",
        "    results, results_by_tag = evaluator.evaluate()\n",
        "\n",
        "    results = pd.DataFrame(results)\n",
        "    results.to_excel(OUTPUT_DIR+'/'+'overall_benchmark.xlsx')\n",
        "\n",
        "    results_by_entity = pd.concat(preprocess_results(results_by_tag))\n",
        "    results_by_entity.to_excel(OUTPUT_DIR+'/'+'entity_benchmark.xlsx')\n",
        "\n",
        "    return results, results_by_entity"
      ]
    },
    {
      "cell_type": "markdown",
      "metadata": {
        "id": "3qc6DzjJt2Oz"
      },
      "source": [
        "### Validation Evaluation"
      ]
    },
    {
      "cell_type": "code",
      "execution_count": null,
      "metadata": {
        "id": "VPAAJfWZt2Oz"
      },
      "outputs": [],
      "source": [
        "start_time = time.time()\n",
        "# Saving the predictions in a list for Validation Set\n",
        "ner_predictions_val = []\n",
        "\n",
        "for sample in samples_val:\n",
        "    ner_predictions_val.append(nlp_ner(sample['text']))"
      ]
    },
    {
      "cell_type": "code",
      "execution_count": null,
      "metadata": {
        "id": "8iFyvDlvt2Oz",
        "outputId": "6432db4d-d110-445a-9d17-3fd3d60d36c4"
      },
      "outputs": [
        {
          "name": "stdout",
          "output_type": "stream",
          "text": [
            "(untreated or partially treated acute tonsillitis, infection)\n"
          ]
        }
      ],
      "source": [
        "print(ner_predictions_val[0].ents)"
      ]
    },
    {
      "cell_type": "code",
      "execution_count": null,
      "metadata": {
        "id": "U2hcYo2Dt2Oz"
      },
      "outputs": [],
      "source": [
        "# saving the grond and predictions into a JSONL file for later evaluation.\n",
        "semeval_ground_val = save_predictions(samples_val, filename= 'ground_val.jsonl')\n",
        "semeval_pred_val = save_predictions(ner_predictions_val, filename='predition_val.jsonl', semeval_format=False)"
      ]
    },
    {
      "cell_type": "code",
      "execution_count": null,
      "metadata": {
        "id": "vyanGXO9t2O6",
        "outputId": "5996f09b-bf86-4265-a0e9-e08bd4857e7c"
      },
      "outputs": [
        {
          "name": "stdout",
          "output_type": "stream",
          "text": [
            "\n",
            "Total Test Time = 40.12122464179993 (sec)\n"
          ]
        }
      ],
      "source": [
        "# Validation evaluation following SemEval 2013 metrics\n",
        "results, results_by_entity = semeval_evaluation(true=semeval_ground_val, pred=semeval_pred_val)\n",
        "end_time = time.time()\n",
        "print(f'\\nTotal Test Time = {end_time - start_time} (sec)')"
      ]
    },
    {
      "cell_type": "markdown",
      "metadata": {
        "id": "cFGbz6nIt2O6"
      },
      "source": [
        "### Test Evaluation"
      ]
    },
    {
      "cell_type": "code",
      "execution_count": null,
      "metadata": {
        "id": "TQVgUQmUt2O6"
      },
      "outputs": [],
      "source": [
        "start_time = time.time()\n",
        "# Saving the predictions in a list for Test Set\n",
        "ner_predictions_test = []\n",
        "\n",
        "for sample in samples_test:\n",
        "    ner_predictions_test.append(nlp_ner(sample['text']))"
      ]
    },
    {
      "cell_type": "code",
      "execution_count": null,
      "metadata": {
        "id": "dNQSDjpIt2O6"
      },
      "outputs": [],
      "source": [
        "# saving the grond and predictions into a JSONL file for later evaluation.\n",
        "semeval_ground_test = save_predictions(samples_test, filename= 'ground_test.jsonl')\n",
        "semeval_pred_test = save_predictions(ner_predictions_test, filename='predition_test.jsonl', semeval_format=False)"
      ]
    },
    {
      "cell_type": "code",
      "execution_count": null,
      "metadata": {
        "id": "qe0kPs2-t2O7",
        "outputId": "ad64efcd-c1b3-42f6-849b-e905b524aa9c"
      },
      "outputs": [
        {
          "name": "stdout",
          "output_type": "stream",
          "text": [
            "\n",
            "Total Test Time = 21.095012426376343 (sec)\n"
          ]
        }
      ],
      "source": [
        "# Test evaluation following SemEval 2013 metrics\n",
        "results, results_by_entity = semeval_evaluation(true=semeval_ground_test, pred=semeval_pred_test)\n",
        "\n",
        "end_time = time.time()\n",
        "print(f'\\nTotal Test Time = {end_time - start_time} (sec)')"
      ]
    }
  ],
  "metadata": {
    "colab": {
      "provenance": [],
      "include_colab_link": true
    },
    "kernelspec": {
      "display_name": "Python 3 (ipykernel)",
      "language": "python",
      "name": "python3"
    },
    "language_info": {
      "codemirror_mode": {
        "name": "ipython",
        "version": 3
      },
      "file_extension": ".py",
      "mimetype": "text/x-python",
      "name": "python",
      "nbconvert_exporter": "python",
      "pygments_lexer": "ipython3",
      "version": "3.9.16"
    }
  },
  "nbformat": 4,
  "nbformat_minor": 0
}