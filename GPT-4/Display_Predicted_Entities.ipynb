{
 "cells": [
  {
   "cell_type": "code",
   "execution_count": 1,
   "metadata": {},
   "outputs": [],
   "source": [
    "import json\n",
    "import spacy\n",
    "from spacy import displacy"
   ]
  },
  {
   "cell_type": "code",
   "execution_count": 2,
   "metadata": {},
   "outputs": [],
   "source": [
    "def find_entity_positions_GPT(text, entities, entity_types):\n",
    "    \n",
    "    entity_positions = []\n",
    "    start_index = 0\n",
    "    end_index = 0\n",
    "    \n",
    "    for i, entity in enumerate(entities):            \n",
    "        # only start searching from the last found entities inside the text\n",
    "        #print(entity)\n",
    "        found_index = text[end_index:].find(entity)\n",
    "        if found_index == -1:  # if entity not found in text\n",
    "            del entity_types[i]\n",
    "        else:\n",
    "            start_index = end_index + found_index\n",
    "            end_index = start_index + len(entity)\n",
    "            entity_positions.append([start_index, end_index])\n",
    "        \n",
    "    \n",
    "    return entity_positions, entity_types"
   ]
  },
  {
   "cell_type": "code",
   "execution_count": 4,
   "metadata": {},
   "outputs": [],
   "source": [
    "def find_entity_positions_UniNER(text, entities, entity_types):\n",
    "    \n",
    "    # Initializing a dictionary to store the first occurrence of each entity type for each entity\n",
    "    entity_dict = {}\n",
    "    for entity, entity_type in zip(entities, entity_types):\n",
    "        if entity not in entity_dict:\n",
    "            entity_dict[entity] = entity_type\n",
    "\n",
    "    # List to store the entity indices along with their types\n",
    "    entity_indices = []\n",
    "    new_entity_types = []\n",
    "\n",
    "    for entity, entity_type in entity_dict.items():\n",
    "        start_index = 0\n",
    "        while True:\n",
    "            start_index = text.find(entity, start_index)\n",
    "            if start_index == -1:\n",
    "                break\n",
    "            end_index = start_index + len(entity)\n",
    "            entity_indices.append([start_index, end_index])\n",
    "            new_entity_types.append(entity_type)\n",
    "            start_index = end_index  # Move to the next position for the next search\n",
    "\n",
    "    # Displaying the result\n",
    "    # print(len(entity_indices))\n",
    "    # print(entity_indices)\n",
    "    return entity_indices, new_entity_types"
   ]
  },
  {
   "cell_type": "code",
   "execution_count": 5,
   "metadata": {},
   "outputs": [],
   "source": [
    "def construct_json(entity_types, entity_positions):\n",
    "    \n",
    "    ENTITY_CLASS = ['Disease_E', 'Anatomy_E', 'Cause_E', 'Diagnosis_E', 'Precaution_E', 'Riskfactor_E', 'Symptom_E', 'Medicine_E', 'Composition_E', 'Complication_E', 'Surgery_E']\n",
    "\n",
    "    # Mapping entities to their types\n",
    "    entities_with_types = [[*entity_positions[i], entity_types[i]] for i in range(len(entity_positions))]\n",
    "    \n",
    "    for start, end, entity_type in entities_with_types:\n",
    "        # checking for the halucination problem of GPT [-_-]\n",
    "        if entity_type not in ENTITY_CLASS:\n",
    "            print(f'Fault in Predicted Entity Types = {entity_type}')\n",
    "            entities_with_types = []\n",
    "            break\n",
    "        \n",
    "    # Constructing the JSON structure\n",
    "    output = {\n",
    "        \"text\": text,\n",
    "        \"entities\": entities_with_types\n",
    "    }\n",
    "\n",
    "    json_output = json.dumps(output, ensure_ascii=False)\n",
    "    print(json_output)\n",
    "    \n",
    "    return output"
   ]
  },
  {
   "cell_type": "code",
   "execution_count": 6,
   "metadata": {},
   "outputs": [],
   "source": [
    "def visualize_entities(data):\n",
    "    # Create a SpaCy Doc object from the text and entities\n",
    "    nlp = spacy.blank('en')\n",
    "    doc = nlp(data['text'])\n",
    "    entities = [(start, end, label) for start, end, label in data['entities']]\n",
    "    \n",
    "    # Create spans and check for None\n",
    "    spans = []\n",
    "    for start, end, label in entities:\n",
    "        span = doc.char_span(start, end, label=label)\n",
    "        if span is None:\n",
    "            print(f\"None span: start={start}, end={end}, label={label}, text={doc.text[start:end]}\")\n",
    "        else:\n",
    "            spans.append(span)\n",
    "    doc.set_ents(spans)\n",
    "\n",
    "    # Define a color scheme for the entities\n",
    "    colors = {\"Disease_E\": \"aqua\", \"Anatomy_E\": \"coral\", \"Cause_E\": \"lightgreen\", \"Diagnosis_E\": \"yellow\",\n",
    "              \"Precaution_E\": \"pink\", \"Riskfactor_E\": \"orange\", \"Symptom_E\": \"lightblue\", \"Medicine_E\": \"red\",\n",
    "              \"Composition_E\": \"green\", \"Complication_E\": \"blue\", \"Surgery_E\": \"purple\"}\n",
    "\n",
    "    options = {\"ents\": [\"Disease_E\", \"Anatomy_E\", \"Cause_E\", \"Diagnosis_E\", \"Precaution_E\", \"Riskfactor_E\",\n",
    "                        \"Symptom_E\", \"Medicine_E\", \"Composition_E\", \"Complication_E\", \"Surgery_E\"], \"colors\": colors}\n",
    "\n",
    "    # Visualize the entities\n",
    "    displacy.render(doc, style='ent', options=options, jupyter=True)"
   ]
  },
  {
   "cell_type": "code",
   "execution_count": 7,
   "metadata": {},
   "outputs": [
    {
     "name": "stdout",
     "output_type": "stream",
     "text": [
      "16\n",
      "16\n",
      "\n",
      "[[308, 323], [354, 419], [421, 440], [442, 461], [624, 653], [697, 703], [87, 92], [145, 150], [488, 493], [607, 612], [165, 175], [407, 419], [556, 568], [10, 35], [46, 55], [503, 524], [590, 612]]\n",
      "\n",
      "{\"text\": \"??????? - Abdominal aortic aneurysm - BD50.4Z\\nAneurysms can develop anywhere along the aorta, but most aortic aneurysms occur in the part of the aorta that's in the belly area (abdomen). Several things can play a role in the development of an abdominal aortic aneurysm, including: Hardening of the arteries (atherosclerosis). Atherosclerosis occurs when fat and other substances build up on the lining of a blood vessel. High blood pressure. High blood pressure can damage and weaken the aorta's walls. Blood vessel diseases. These are diseases that cause blood vessels to become inflamed. Infection in the aorta. Rarely, a bacterial or fungal infection might cause an abdominal aortic aneurysms. Trauma. For example, being injured in a car accident can cause an abdominal aortic aneurysms. \", \"entities\": [[308, 323, \"Cause_E\"], [354, 419, \"Cause_E\"], [421, 440, \"Cause_E\"], [442, 461, \"Cause_E\"], [624, 653, \"Cause_E\"], [697, 703, \"Cause_E\"], [87, 92, \"Anatomy_E\"], [145, 150, \"Anatomy_E\"], [488, 493, \"Anatomy_E\"], [607, 612, \"Anatomy_E\"], [165, 175, \"Anatomy_E\"], [407, 419, \"Anatomy_E\"], [556, 568, \"Anatomy_E\"], [10, 35, \"Diagnosis_E\"], [46, 55, \"Disease_E\"], [503, 524, \"Disease_E\"], [590, 612, \"Disease_E\"]]}\n",
      "\n",
      "None span: start=556, end=568, label=Anatomy_E, text=blood vessel\n"
     ]
    },
    {
     "ename": "ValueError",
     "evalue": "[E1010] Unable to set entity information for token 82 which is included in more than one span in entities, blocked, missing or outside.",
     "output_type": "error",
     "traceback": [
      "\u001b[1;31m---------------------------------------------------------------------------\u001b[0m",
      "\u001b[1;31mValueError\u001b[0m                                Traceback (most recent call last)",
      "Cell \u001b[1;32mIn[7], line 21\u001b[0m\n\u001b[0;32m     18\u001b[0m \u001b[38;5;28mprint\u001b[39m()\n\u001b[0;32m     20\u001b[0m \u001b[38;5;66;03m# Visualizng entities in order to check if the output is correct of not.\u001b[39;00m\n\u001b[1;32m---> 21\u001b[0m \u001b[43mvisualize_entities\u001b[49m\u001b[43m(\u001b[49m\u001b[43mdata\u001b[49m\u001b[43m)\u001b[49m\n",
      "Cell \u001b[1;32mIn[6], line 15\u001b[0m, in \u001b[0;36mvisualize_entities\u001b[1;34m(data)\u001b[0m\n\u001b[0;32m     13\u001b[0m     \u001b[38;5;28;01melse\u001b[39;00m:\n\u001b[0;32m     14\u001b[0m         spans\u001b[38;5;241m.\u001b[39mappend(span)\n\u001b[1;32m---> 15\u001b[0m \u001b[43mdoc\u001b[49m\u001b[38;5;241;43m.\u001b[39;49m\u001b[43mset_ents\u001b[49m\u001b[43m(\u001b[49m\u001b[43mspans\u001b[49m\u001b[43m)\u001b[49m\n\u001b[0;32m     17\u001b[0m \u001b[38;5;66;03m# Define a color scheme for the entities\u001b[39;00m\n\u001b[0;32m     18\u001b[0m colors \u001b[38;5;241m=\u001b[39m {\u001b[38;5;124m\"\u001b[39m\u001b[38;5;124mDisease_E\u001b[39m\u001b[38;5;124m\"\u001b[39m: \u001b[38;5;124m\"\u001b[39m\u001b[38;5;124maqua\u001b[39m\u001b[38;5;124m\"\u001b[39m, \u001b[38;5;124m\"\u001b[39m\u001b[38;5;124mAnatomy_E\u001b[39m\u001b[38;5;124m\"\u001b[39m: \u001b[38;5;124m\"\u001b[39m\u001b[38;5;124mcoral\u001b[39m\u001b[38;5;124m\"\u001b[39m, \u001b[38;5;124m\"\u001b[39m\u001b[38;5;124mCause_E\u001b[39m\u001b[38;5;124m\"\u001b[39m: \u001b[38;5;124m\"\u001b[39m\u001b[38;5;124mlightgreen\u001b[39m\u001b[38;5;124m\"\u001b[39m, \u001b[38;5;124m\"\u001b[39m\u001b[38;5;124mDiagnosis_E\u001b[39m\u001b[38;5;124m\"\u001b[39m: \u001b[38;5;124m\"\u001b[39m\u001b[38;5;124myellow\u001b[39m\u001b[38;5;124m\"\u001b[39m,\n\u001b[0;32m     19\u001b[0m           \u001b[38;5;124m\"\u001b[39m\u001b[38;5;124mPrecaution_E\u001b[39m\u001b[38;5;124m\"\u001b[39m: \u001b[38;5;124m\"\u001b[39m\u001b[38;5;124mpink\u001b[39m\u001b[38;5;124m\"\u001b[39m, \u001b[38;5;124m\"\u001b[39m\u001b[38;5;124mRiskfactor_E\u001b[39m\u001b[38;5;124m\"\u001b[39m: \u001b[38;5;124m\"\u001b[39m\u001b[38;5;124morange\u001b[39m\u001b[38;5;124m\"\u001b[39m, \u001b[38;5;124m\"\u001b[39m\u001b[38;5;124mSymptom_E\u001b[39m\u001b[38;5;124m\"\u001b[39m: \u001b[38;5;124m\"\u001b[39m\u001b[38;5;124mlightblue\u001b[39m\u001b[38;5;124m\"\u001b[39m, \u001b[38;5;124m\"\u001b[39m\u001b[38;5;124mMedicine_E\u001b[39m\u001b[38;5;124m\"\u001b[39m: \u001b[38;5;124m\"\u001b[39m\u001b[38;5;124mred\u001b[39m\u001b[38;5;124m\"\u001b[39m,\n\u001b[0;32m     20\u001b[0m           \u001b[38;5;124m\"\u001b[39m\u001b[38;5;124mComposition_E\u001b[39m\u001b[38;5;124m\"\u001b[39m: \u001b[38;5;124m\"\u001b[39m\u001b[38;5;124mgreen\u001b[39m\u001b[38;5;124m\"\u001b[39m, \u001b[38;5;124m\"\u001b[39m\u001b[38;5;124mComplication_E\u001b[39m\u001b[38;5;124m\"\u001b[39m: \u001b[38;5;124m\"\u001b[39m\u001b[38;5;124mblue\u001b[39m\u001b[38;5;124m\"\u001b[39m, \u001b[38;5;124m\"\u001b[39m\u001b[38;5;124mSurgery_E\u001b[39m\u001b[38;5;124m\"\u001b[39m: \u001b[38;5;124m\"\u001b[39m\u001b[38;5;124mpurple\u001b[39m\u001b[38;5;124m\"\u001b[39m}\n",
      "File \u001b[1;32m~\\anaconda3\\envs\\thor\\lib\\site-packages\\spacy\\tokens\\doc.pyx:800\u001b[0m, in \u001b[0;36mspacy.tokens.doc.Doc.set_ents\u001b[1;34m()\u001b[0m\n",
      "\u001b[1;31mValueError\u001b[0m: [E1010] Unable to set entity information for token 82 which is included in more than one span in entities, blocked, missing or outside."
     ]
    }
   ],
   "source": [
    "text = \"??????? - Abdominal aortic aneurysm - BD50.4Z\\nAneurysms can develop anywhere along the aorta, but most aortic aneurysms occur in the part of the aorta that's in the belly area (abdomen). Several things can play a role in the development of an abdominal aortic aneurysm, including: Hardening of the arteries (atherosclerosis). Atherosclerosis occurs when fat and other substances build up on the lining of a blood vessel. High blood pressure. High blood pressure can damage and weaken the aorta's walls. Blood vessel diseases. These are diseases that cause blood vessels to become inflamed. Infection in the aorta. Rarely, a bacterial or fungal infection might cause an abdominal aortic aneurysms. Trauma. For example, being injured in a car accident can cause an abdominal aortic aneurysms. \"\n",
    "\n",
    "entities = ['atherosclerosis', 'fat and other substances build up on the lining of a blood vessel', 'High blood pressure', 'bacterial or fungal infection', 'Trauma', 'aorta', 'belly area', 'blood vessel', 'Abdominal aortic aneurysm', 'Abdominal aortic aneurysm', 'Aneurysms', 'atherosclerosis', 'High blood pressure', 'Blood vessel diseases', 'Infection in the aorta', 'Trauma']\n",
    "entity_types = ['Cause_E', 'Cause_E', 'Cause_E', 'Cause_E', 'Cause_E', 'Anatomy_E', 'Anatomy_E', 'Anatomy_E', 'Diagnosis_E', 'Disease_E', 'Disease_E', 'Disease_E', 'Disease_E', 'Disease_E', 'Disease_E', 'Disease_E']\n",
    "\n",
    "print(len(entities))\n",
    "print(len(entity_types))\n",
    "print()\n",
    "\n",
    "# entity_positions, entity_types = find_entity_positionsGPT(text, entities, entity_types)\n",
    "entity_positions, entity_types = find_entity_positions_UniNER(text, entities, entity_types)\n",
    "\n",
    "print(entity_positions)\n",
    "print()\n",
    "\n",
    "# Constructing the JSON - this will be saved and used to compare the predictions later\n",
    "data = construct_json(entity_types, entity_positions)\n",
    "print()\n",
    "\n",
    "# Visualizng entities in order to check if the output is correct of not.\n",
    "visualize_entities(data)"
   ]
  },
  {
   "cell_type": "code",
   "execution_count": null,
   "metadata": {},
   "outputs": [],
   "source": []
  }
 ],
 "metadata": {
  "kernelspec": {
   "display_name": "Python 3 (ipykernel)",
   "language": "python",
   "name": "python3"
  },
  "language_info": {
   "codemirror_mode": {
    "name": "ipython",
    "version": 3
   },
   "file_extension": ".py",
   "mimetype": "text/x-python",
   "name": "python",
   "nbconvert_exporter": "python",
   "pygments_lexer": "ipython3",
   "version": "3.9.16"
  }
 },
 "nbformat": 4,
 "nbformat_minor": 2
}
