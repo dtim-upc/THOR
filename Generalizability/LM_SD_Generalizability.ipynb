{
 "cells": [
  {
   "cell_type": "code",
   "execution_count": 1,
   "metadata": {
    "colab": {
     "base_uri": "https://localhost:8080/"
    },
    "id": "cEPgxpD8qZD9",
    "outputId": "b25c20f5-71a4-4bd7-b7ed-f1d6d8782c9d"
   },
   "outputs": [
    {
     "name": "stdout",
     "output_type": "stream",
     "text": [
      "You are running this script on your local machine!\n"
     ]
    }
   ],
   "source": [
    "import os\n",
    "isColab = True\n",
    "try:\n",
    "  # running on CoLAB Hosted runtime\n",
    "  print(os.environ['HOSTNAME'])\n",
    "  print('Running on CoLAB Hosted runtime.')\n",
    "except:\n",
    "  # running on Local runtime\n",
    "  print('You are running this script on your local machine!')\n",
    "  isColab = False"
   ]
  },
  {
   "cell_type": "code",
   "execution_count": 2,
   "metadata": {
    "colab": {
     "base_uri": "https://localhost:8080/"
    },
    "id": "tXvIpeHBqZ2b",
    "outputId": "fd0be638-3704-4697-8a20-5e7ed1030f0a"
   },
   "outputs": [],
   "source": [
    "'''Installing/Upgrading the Libraries Not Available to CoLAB'''\n",
    "if isColab:\n",
    "  !pip install -U 'spacy'==3.6.1\n",
    "  # # Install this if you want to run on Colab GPU\n",
    "  # !pip install -U spacy[cuda-autodetect]\n",
    "  !pip install -U rdflib\n",
    "  !pip install -U spaczz\n",
    "  !pip install nervaluate\n",
    "  !pip install -U print-dict\n",
    "  !pip install -U wandb"
   ]
  },
  {
   "cell_type": "code",
   "execution_count": 3,
   "metadata": {
    "colab": {
     "base_uri": "https://localhost:8080/"
    },
    "id": "8BPPTJNjqd8k",
    "outputId": "cac49f79-b181-49f8-acbc-6472bc330ed6"
   },
   "outputs": [],
   "source": [
    "'''Downloading Model lg = larger - with word vectors'''\n",
    "if isColab:\n",
    "  !python -m spacy download en_core_web_lg\n",
    "  !python -m spacy download en_core_web_trf"
   ]
  },
  {
   "cell_type": "code",
   "execution_count": 4,
   "metadata": {
    "id": "hPt_dJlgQ94B"
   },
   "outputs": [],
   "source": [
    "# General Libraries\n",
    "import pandas as pd\n",
    "import srsly\n",
    "import json\n",
    "import os\n",
    "import re\n",
    "import csv\n",
    "import time\n",
    "from nervaluate import Evaluator\n",
    "import warnings\n",
    "import wandb\n",
    "import shutil\n",
    "\n",
    "# Spacy Related Imports\n",
    "import spacy\n",
    "from spacy.util import minibatch, compounding, compile_infix_regex, get_words_and_spaces\n",
    "from spacy.tokens import Span, DocBin, Doc\n",
    "from spacy.vocab import Vocab\n",
    "from spacy.tokenizer import Tokenizer\n",
    "from spacy.lang.en import English\n",
    "from spacy.scorer import Scorer\n",
    "from spacy.training import Example\n",
    "from print_dict import pd as pdic\n",
    "\n",
    "# RDFLib libraries\n",
    "from rdflib import Graph\n",
    "import pprint\n",
    "from rdflib import RDFS\n",
    "from rdflib import URIRef\n",
    "from rdflib.namespace import RDF"
   ]
  },
  {
   "cell_type": "code",
   "execution_count": 5,
   "metadata": {
    "id": "PofW5gHKqTcG"
   },
   "outputs": [],
   "source": [
    "# wandb.login()"
   ]
  },
  {
   "cell_type": "markdown",
   "metadata": {
    "id": "FsLNf7TUMeGm"
   },
   "source": [
    "# Data Conversion Part\n",
    "#### From Docanno Annotated Data for NER and RE into Spacy NER"
   ]
  },
  {
   "cell_type": "code",
   "execution_count": 6,
   "metadata": {
    "id": "ZGhTJT0gqhrA"
   },
   "outputs": [],
   "source": [
    "def create_out_dir(OUTPUT_DIR):\n",
    "  '''This function will be used to remove the outputs in different run'''\n",
    "  if os.path.exists(OUTPUT_DIR):\n",
    "    shutil.rmtree(OUTPUT_DIR)\n",
    "\n",
    "  os.makedirs(OUTPUT_DIR)"
   ]
  },
  {
   "cell_type": "code",
   "execution_count": 7,
   "metadata": {
    "id": "SWt9s5uIqkhb"
   },
   "outputs": [],
   "source": [
    "# Defining some of the Directories... Please also check the Main function at the bottom\n",
    "COLAB_DIR = \"\"\n",
    "if isColab:\n",
    "  COLAB_DIR = \"/content/\"\n",
    "\n",
    "data_path = COLAB_DIR+\"dataset\"\n",
    "if not os.path.exists(data_path):\n",
    "  '''Downloading the Dataset into CoLab temporary directory'''\n",
    "  !mkdir /content/dataset\n",
    "  !mkdir /content/dataset/train\n",
    "  !mkdir /content/dataset/val\n",
    "  !mkdir /content/dataset/test\n",
    "  !mkdir /content/config"
   ]
  },
  {
   "cell_type": "code",
   "execution_count": 8,
   "metadata": {
    "id": "MamxT9nRnL0w"
   },
   "outputs": [],
   "source": [
    "TRAIN_DIR = COLAB_DIR+'dataset/train'\n",
    "VALID_DIR = COLAB_DIR+'dataset/val'\n",
    "TEST_DIR = COLAB_DIR+'dataset/test'\n",
    "CONFIG_DIR = COLAB_DIR+'config'\n",
    "OUTPUT_DIR = COLAB_DIR+'dataset'"
   ]
  },
  {
   "cell_type": "code",
   "execution_count": 9,
   "metadata": {
    "colab": {
     "base_uri": "https://localhost:8080/"
    },
    "id": "Ff5LVLwARZpM",
    "outputId": "29b0d34e-3402-4f6d-dcaf-1c1254f1de9b"
   },
   "outputs": [
    {
     "name": "stdout",
     "output_type": "stream",
     "text": [
      "['NAME', 'LOCATION', 'COLLEGE NAME', 'SKILLS', 'LANGUAGE', 'WORKED AS', 'YEARS OF EXPERIENCE', 'DEGREE', 'CERTIFICATION', 'UNIVERSITY', 'COMPANIES WORKED AT', 'AWARDS']\n"
     ]
    }
   ],
   "source": [
    "\"\"\" This is just to SHOW the Named Entities - No Real Purpose \"\"\"\n",
    "ENTITY_LABELS = []\n",
    "for lbl in srsly.read_json(CONFIG_DIR + '/label_config_Entity.json'):\n",
    "  ENTITY_LABELS.append(lbl['text'])\n",
    "print(ENTITY_LABELS)"
   ]
  },
  {
   "cell_type": "code",
   "execution_count": 10,
   "metadata": {
    "id": "8R23z1MypYhw"
   },
   "outputs": [],
   "source": [
    "def trim_entity_spans(text, spans):\n",
    "  '''Data Cleaning: Removes leading and trailing white spaces from entity spans.'''\n",
    "  invalid_span_tokens = re.compile(r'\\s')\n",
    "\n",
    "  valid_spans = []\n",
    "  for start, end, label in spans:\n",
    "    valid_start = start\n",
    "    valid_end = end\n",
    "    while valid_start < len(text) and invalid_span_tokens.match(text[valid_start]):\n",
    "      valid_start += 1\n",
    "    while valid_end > 1 and invalid_span_tokens.match(text[valid_end - 1]):\n",
    "      valid_end -= 1\n",
    "\n",
    "    if valid_start < valid_end:\n",
    "      valid_spans.append((valid_start, valid_end, label))\n",
    "\n",
    "  return valid_spans"
   ]
  },
  {
   "cell_type": "code",
   "execution_count": 11,
   "metadata": {
    "id": "tKpws7x-Rq8j"
   },
   "outputs": [],
   "source": [
    "def docanno_to_spacy_ner_db(DATA_DIR):\n",
    "  '''\n",
    "  This function takes a directory of docanno annotated datasets for NER/RE\n",
    "  and converts them into SpaCy DocBin Object which is Trainable via commandline\n",
    "  '''\n",
    "  # Creates a blank Tokenizer with just the English vocab\n",
    "  nlp = spacy.blank(\"en\")\n",
    "\n",
    "  Doc.set_extension(\"rel\", default={},force=True)\n",
    "  vocab = Vocab()\n",
    "\n",
    "  word_count = 0\n",
    "  no_files = 0\n",
    "  no_doc = 0\n",
    "  no_entities = 0\n",
    "  error_cnt = 0\n",
    "\n",
    "  # the DocBin will store the example documents\n",
    "  db = DocBin()\n",
    "\n",
    "  for dirname, _, filenames in os.walk(DATA_DIR):\n",
    "    for filename in filenames:\n",
    "      file_path = os.path.join(dirname, filename)\n",
    "\n",
    "      try:\n",
    "        \"\"\" Iterate through the Jsonl file to create serialize Docbin object / .spacy IOB File \"\"\"\n",
    "        for json_line in srsly.read_jsonl(file_path):\n",
    "\n",
    "          # parsing the docanno JSON data (per-line)\n",
    "          text = json_line[\"text\"]\n",
    "          entities = json_line[\"entities\"]\n",
    "          # id = json_line[\"id\"]\n",
    "\n",
    "          new_spans = []\n",
    "          for span in entities:\n",
    "            new_spans.append((span[0], span[1], span[2]))\n",
    "\n",
    "          # cleaning and validating the leading and trailing spaces from the annotated entities\n",
    "          valid_spans = trim_entity_spans(text, new_spans)\n",
    "\n",
    "          \"\"\" Parsing tokens from Text \"\"\"\n",
    "          tokens = nlp(text)\n",
    "\n",
    "          entities = []\n",
    "\n",
    "          spaces = [True if tok.whitespace_ else False for tok in tokens]\n",
    "          words = [t.text for t in tokens]\n",
    "          doc = Doc(nlp.vocab, words=words, spaces=spaces)\n",
    "\n",
    "          for start, end, label in valid_spans:\n",
    "            \"\"\" The modes should be: strict, contract, and expand \"\"\"\n",
    "            # print(eg['text'][int(span[\"start_offset\"]):int(span[\"end_offset\"])])\n",
    "            entity = doc.char_span(start, end, label=label, alignment_mode='contract')\n",
    "\n",
    "            # Not considering the spans which are Erroneous\n",
    "            if entity is None:\n",
    "              error_cnt += 1\n",
    "              # print(tokens)\n",
    "              # file_name = ttext.split('\\n')[0]\n",
    "              #print(f'Error Found in Span: {(start, end, label)} -- Part: {tokens[start: end]}')\n",
    "\n",
    "            else:\n",
    "              no_entities += 1\n",
    "              entities.append(entity)\n",
    "\n",
    "          # print(entities)\n",
    "          try:\n",
    "            doc.ents = entities\n",
    "            word_count += len(words)\n",
    "          except:\n",
    "            print()\n",
    "            # print(entities)\n",
    "            print(f\"Cannot Assign Entities\")\n",
    "            continue\n",
    "\n",
    "          db.add(doc)\n",
    "          no_doc += 1\n",
    "\n",
    "      except:\n",
    "        print('Error While Loading JSON Data From Input Directory. Please check if you have other file type...')\n",
    "\n",
    "      no_files +=1\n",
    "  print(f\"- Files: {no_files} \\n- Processed Documents: {no_doc} \\n- Total Entities: {no_entities} \\n- Erroneous Entities (Ignored): {error_cnt} \\n- Total Words: {word_count}\")\n",
    "\n",
    "  return doc, db"
   ]
  },
  {
   "cell_type": "code",
   "execution_count": 13,
   "metadata": {
    "colab": {
     "base_uri": "https://localhost:8080/"
    },
    "id": "Y4NzFl50Wa9D",
    "outputId": "a509701a-1cf7-4996-b3ad-db98442a4ef9"
   },
   "outputs": [
    {
     "name": "stdout",
     "output_type": "stream",
     "text": [
      "Preparing Training Dataset from Structured Data:\n",
      "- Files: 12 \n",
      "- Processed Documents: 3106 \n",
      "- Total Entities: 3106 \n",
      "- Erroneous Entities (Ignored): 0 \n",
      "- Total Words: 8523\n",
      "\n",
      "Preparing Validation Dataset from Ground Truth Validation:\n",
      "- Files: 12 \n",
      "- Processed Documents: 3106 \n",
      "- Total Entities: 3106 \n",
      "- Erroneous Entities (Ignored): 0 \n",
      "- Total Words: 8523\n",
      "\n",
      "Preparing Test Dataset from Ground Truth Test:\n",
      "- Files: 1 \n",
      "- Processed Documents: 20 \n",
      "- Total Entities: 2140 \n",
      "- Erroneous Entities (Ignored): 107 \n",
      "- Total Words: 38459\n"
     ]
    }
   ],
   "source": [
    "'''Saving Spacy Trainable Object File for NER'''\n",
    "print('Preparing Training Dataset from Structured Data:')\n",
    "doc_train, db_train = docanno_to_spacy_ner_db(TRAIN_DIR)\n",
    "db_train.to_disk(OUTPUT_DIR + \"/disease_A-Z_train.spacy\")\n",
    "\n",
    "print('\\nPreparing Validation Dataset from Ground Truth Validation:')\n",
    "doc_valid, db_valid = docanno_to_spacy_ner_db(VALID_DIR)\n",
    "db_valid.to_disk(OUTPUT_DIR + \"/disease_A-Z_valid.spacy\")\n",
    "\n",
    "print('\\nPreparing Test Dataset from Ground Truth Test:')\n",
    "doc_test, db_test = docanno_to_spacy_ner_db(TEST_DIR)\n",
    "db_test.to_disk(OUTPUT_DIR + \"/disease_A-Z_test.spacy\")"
   ]
  },
  {
   "cell_type": "markdown",
   "metadata": {
    "id": "s4_72OGpMjs8"
   },
   "source": [
    "# Spacy Model Training Part"
   ]
  },
  {
   "cell_type": "code",
   "execution_count": 16,
   "metadata": {
    "id": "DejCSPdOqTcK"
   },
   "outputs": [],
   "source": [
    "# This is to debug the data in case they fail to be trained\n",
    "# !python -m spacy debug data \"/content/config/config.cfg\""
   ]
  },
  {
   "cell_type": "code",
   "execution_count": null,
   "metadata": {
    "id": "xEbhYAYmMnte"
   },
   "outputs": [],
   "source": [
    "# Creates the training configuration file from the given base configuration. You can configure it yourself on:\n",
    "# https://spacy.io/usage/training#quickstart\n",
    "# We are using a GPU based training setting for Accuracy (RoBERTa model)\n",
    "\n",
    "#!python -m spacy init fill-config config/base_config.cfg config/config.cfg"
   ]
  },
  {
   "cell_type": "code",
   "execution_count": 44,
   "metadata": {
    "colab": {
     "base_uri": "https://localhost:8080/"
    },
    "id": "Yf1qRT1-P9W8",
    "outputId": "7ceed2c5-ddc9-4b38-97a7-2c0d5cfca3c0"
   },
   "outputs": [
    {
     "name": "stdout",
     "output_type": "stream",
     "text": [
      "2024-02-26 14:44:00.981121: E external/local_xla/xla/stream_executor/cuda/cuda_dnn.cc:9261] Unable to register cuDNN factory: Attempting to register factory for plugin cuDNN when one has already been registered\n",
      "2024-02-26 14:44:00.981172: E external/local_xla/xla/stream_executor/cuda/cuda_fft.cc:607] Unable to register cuFFT factory: Attempting to register factory for plugin cuFFT when one has already been registered\n",
      "2024-02-26 14:44:00.982410: E external/local_xla/xla/stream_executor/cuda/cuda_blas.cc:1515] Unable to register cuBLAS factory: Attempting to register factory for plugin cuBLAS when one has already been registered\n",
      "2024-02-26 14:44:02.029356: W tensorflow/compiler/tf2tensorrt/utils/py_utils.cc:38] TF-TRT Warning: Could not find TensorRT\n",
      "\u001b[38;5;4mℹ Saving to output directory: /content/LM-SD_Model\u001b[0m\n",
      "\u001b[38;5;4mℹ Using GPU: 0\u001b[0m\n",
      "\u001b[1m\n",
      "=========================== Initializing pipeline ===========================\u001b[0m\n",
      "Some weights of the model checkpoint at roberta-base were not used when initializing RobertaModel: ['lm_head.layer_norm.bias', 'lm_head.layer_norm.weight', 'lm_head.dense.weight', 'lm_head.dense.bias', 'lm_head.bias']\n",
      "- This IS expected if you are initializing RobertaModel from the checkpoint of a model trained on another task or with another architecture (e.g. initializing a BertForSequenceClassification model from a BertForPreTraining model).\n",
      "- This IS NOT expected if you are initializing RobertaModel from the checkpoint of a model that you expect to be exactly identical (initializing a BertForSequenceClassification model from a BertForSequenceClassification model).\n",
      "Some weights of RobertaModel were not initialized from the model checkpoint at roberta-base and are newly initialized: ['roberta.pooler.dense.weight', 'roberta.pooler.dense.bias']\n",
      "You should probably TRAIN this model on a down-stream task to be able to use it for predictions and inference.\n",
      "\u001b[38;5;2m✔ Initialized pipeline\u001b[0m\n",
      "\u001b[1m\n",
      "============================= Training pipeline =============================\u001b[0m\n",
      "\u001b[38;5;4mℹ Pipeline: ['transformer', 'ner']\u001b[0m\n",
      "\u001b[38;5;4mℹ Initial learn rate: 0.0\u001b[0m\n",
      "E    #       LOSS TRANS...  LOSS NER  ENTS_F  ENTS_P  ENTS_R  SCORE \n",
      "---  ------  -------------  --------  ------  ------  ------  ------\n",
      "\u001b[34m\u001b[1mwandb\u001b[0m: Currently logged in as: \u001b[33mataur\u001b[0m (\u001b[33mdisease-team\u001b[0m). Use \u001b[1m`wandb login --relogin`\u001b[0m to force relogin\n",
      "\u001b[34m\u001b[1mwandb\u001b[0m: Tracking run with wandb version 0.16.3\n",
      "\u001b[34m\u001b[1mwandb\u001b[0m: Run data is saved locally in \u001b[35m\u001b[1m/content/wandb/run-20240226_144412-lkrcy6r5\u001b[0m\n",
      "\u001b[34m\u001b[1mwandb\u001b[0m: Run \u001b[1m`wandb offline`\u001b[0m to turn off syncing.\n",
      "\u001b[34m\u001b[1mwandb\u001b[0m: Syncing run \u001b[33mfluent-firebrand-57\u001b[0m\n",
      "\u001b[34m\u001b[1mwandb\u001b[0m: ⭐️ View project at \u001b[34m\u001b[4mhttps://wandb.ai/disease-team/THOR\u001b[0m\n",
      "\u001b[34m\u001b[1mwandb\u001b[0m: 🚀 View run at \u001b[34m\u001b[4mhttps://wandb.ai/disease-team/THOR/runs/lkrcy6r5\u001b[0m\n",
      "\u001b[34m\u001b[1mwandb\u001b[0m: Adding directory to artifact (./dataset)... Done. 0.0s\n",
      "  0       0          42.51     71.80    1.14    0.78    2.12    0.01\n",
      "  9     200       26464.88  35513.67   23.34   22.45   24.31    0.23\n",
      " 19     400       29028.09  28182.37   54.95   55.04   54.86    0.55\n",
      " 29     600       16847.11  17933.60   64.07   64.13   64.01    0.64\n",
      " 38     800       10860.83  11877.91   80.71   80.71   80.71    0.81\n",
      " 48    1000        5135.91   7194.38   88.86   88.86   88.86    0.89\n",
      "\u001b[34m\u001b[1mwandb\u001b[0m: Adding directory to artifact (/content/LM-SD_Model/model-last)... Done. 3.4s\n",
      " 57    1200        4416.60   5288.38   91.89   91.89   91.89    0.92\n",
      " 67    1400        3363.59   3729.71   93.90   93.88   93.92    0.94\n",
      " 77    1600        1841.87   2365.71   95.65   95.65   95.65    0.96\n",
      " 87    1800        2032.39   2206.61   96.62   96.62   96.62    0.97\n",
      " 96    2000        2690.73   2527.16   96.91   96.91   96.91    0.97\n",
      "\u001b[34m\u001b[1mwandb\u001b[0m: Adding directory to artifact (/content/LM-SD_Model/model-last)... Done. 2.9s\n",
      "106    2200        1317.34   1448.75   97.65   97.65   97.65    0.98\n",
      "116    2400        2293.54   1950.72   97.23   97.23   97.23    0.97\n",
      "125    2600        2222.69   1899.34   97.26   97.26   97.26    0.97\n",
      "\u001b[34m\u001b[1mwandb\u001b[0m:                                                                                \n",
      "\u001b[34m\u001b[1mwandb\u001b[0m: \n",
      "\u001b[34m\u001b[1mwandb\u001b[0m: Run history:\n",
      "\u001b[34m\u001b[1mwandb\u001b[0m:           ents_f ▁▃▅▆▇▇████████\n",
      "\u001b[34m\u001b[1mwandb\u001b[0m:           ents_p ▁▃▅▆▇▇████████\n",
      "\u001b[34m\u001b[1mwandb\u001b[0m:           ents_r ▁▃▅▆▇▇████████\n",
      "\u001b[34m\u001b[1mwandb\u001b[0m:         loss_ner ▁█▇▅▃▂▂▂▁▁▁▁▁▁\n",
      "\u001b[34m\u001b[1mwandb\u001b[0m: loss_transformer ▁▇█▅▄▂▂▂▁▁▂▁▂▂\n",
      "\u001b[34m\u001b[1mwandb\u001b[0m:            score ▁▃▅▆▇▇████████\n",
      "\u001b[34m\u001b[1mwandb\u001b[0m:            speed ▇█▅▅███▇▆▅▇▁▂▂\n",
      "\u001b[34m\u001b[1mwandb\u001b[0m:        token_acc ▁▁▁▁▁▁▁▁▁▁▁▁▁▁\n",
      "\u001b[34m\u001b[1mwandb\u001b[0m:          token_f ▁▁▁▁▁▁▁▁▁▁▁▁▁▁\n",
      "\u001b[34m\u001b[1mwandb\u001b[0m:          token_p ▁▁▁▁▁▁▁▁▁▁▁▁▁▁\n",
      "\u001b[34m\u001b[1mwandb\u001b[0m:          token_r ▁▁▁▁▁▁▁▁▁▁▁▁▁▁\n",
      "\u001b[34m\u001b[1mwandb\u001b[0m: \n",
      "\u001b[34m\u001b[1mwandb\u001b[0m: Run summary:\n",
      "\u001b[34m\u001b[1mwandb\u001b[0m:           ents_f 0.97263\n",
      "\u001b[34m\u001b[1mwandb\u001b[0m:           ents_p 0.97263\n",
      "\u001b[34m\u001b[1mwandb\u001b[0m:           ents_r 0.97263\n",
      "\u001b[34m\u001b[1mwandb\u001b[0m:         loss_ner 1899.3378\n",
      "\u001b[34m\u001b[1mwandb\u001b[0m: loss_transformer 2222.69068\n",
      "\u001b[34m\u001b[1mwandb\u001b[0m:            score 0.97263\n",
      "\u001b[34m\u001b[1mwandb\u001b[0m:            speed 1858.64795\n",
      "\u001b[34m\u001b[1mwandb\u001b[0m:        token_acc 1.0\n",
      "\u001b[34m\u001b[1mwandb\u001b[0m:          token_f 1.0\n",
      "\u001b[34m\u001b[1mwandb\u001b[0m:          token_p 1.0\n",
      "\u001b[34m\u001b[1mwandb\u001b[0m:          token_r 1.0\n",
      "\u001b[34m\u001b[1mwandb\u001b[0m: \n",
      "\u001b[34m\u001b[1mwandb\u001b[0m: 🚀 View run \u001b[33mfluent-firebrand-57\u001b[0m at: \u001b[34m\u001b[4mhttps://wandb.ai/disease-team/THOR/runs/lkrcy6r5\u001b[0m\n",
      "\u001b[34m\u001b[1mwandb\u001b[0m: Synced 5 W&B file(s), 0 media file(s), 58 artifact file(s) and 0 other file(s)\n",
      "\u001b[34m\u001b[1mwandb\u001b[0m: Find logs at: \u001b[35m\u001b[1m./wandb/run-20240226_144412-lkrcy6r5/logs\u001b[0m\n",
      "\u001b[38;5;2m✔ Saved pipeline to output directory\u001b[0m\n",
      "/content/LM-SD_Model/model-last\n",
      "Total Training Time = 1364.3487813472748 (sec)\n"
     ]
    }
   ],
   "source": [
    "'''\n",
    "WARNING: Training Will Take Time -\n",
    "Trains a SpaCy NER model on our training data - Please REMOVE\n",
    "--gpu-id 0 if want to run this in CPU\n",
    "'''\n",
    "# This will remove the Models from previous run - comment it out if you want the model to retain\n",
    "#create_out_dir(COLAB_DIR+\"LM-SD_Model\")\n",
    "\n",
    "train_start_time = time.time()\n",
    "\n",
    "#!python -m spacy train config/config.cfg --gpu-id 0 --output /content/LM-SD_Model --paths.train dataset/disease_A-Z_train.spacy --paths.dev dataset/disease_A-Z_valid.spacy\n",
    "\n",
    "train_end_time = time.time()\n",
    "print(f'Total Training Time = {train_end_time - train_start_time} (sec)')"
   ]
  },
  {
   "cell_type": "code",
   "execution_count": 45,
   "metadata": {
    "colab": {
     "base_uri": "https://localhost:8080/"
    },
    "id": "9SQ01uk9rO-R",
    "outputId": "dbc3aaa8-3526-4149-eb94-e76d29e469d7"
   },
   "outputs": [
    {
     "name": "stdout",
     "output_type": "stream",
     "text": [
      "  adding: content/LM-SD_Model/model-best/ (stored 0%)\n",
      "  adding: content/LM-SD_Model/model-best/tokenizer (deflated 81%)\n",
      "  adding: content/LM-SD_Model/model-best/meta.json (deflated 67%)\n",
      "  adding: content/LM-SD_Model/model-best/transformer/ (stored 0%)\n",
      "  adding: content/LM-SD_Model/model-best/transformer/model (deflated 15%)\n",
      "  adding: content/LM-SD_Model/model-best/transformer/cfg (stored 0%)\n",
      "  adding: content/LM-SD_Model/model-best/ner/ (stored 0%)\n",
      "  adding: content/LM-SD_Model/model-best/ner/moves (deflated 74%)\n",
      "  adding: content/LM-SD_Model/model-best/ner/model (deflated 8%)\n",
      "  adding: content/LM-SD_Model/model-best/ner/cfg (deflated 33%)\n",
      "  adding: content/LM-SD_Model/model-best/config.cfg (deflated 61%)\n",
      "  adding: content/LM-SD_Model/model-best/vocab/ (stored 0%)\n",
      "  adding: content/LM-SD_Model/model-best/vocab/strings.json (deflated 70%)\n",
      "  adding: content/LM-SD_Model/model-best/vocab/key2row (stored 0%)\n",
      "  adding: content/LM-SD_Model/model-best/vocab/lookups.bin (stored 0%)\n",
      "  adding: content/LM-SD_Model/model-best/vocab/vectors (deflated 45%)\n",
      "  adding: content/LM-SD_Model/model-best/vocab/vectors.cfg (stored 0%)\n"
     ]
    }
   ],
   "source": [
    "#!zip -r /content/LM-SD_Model/model-best.zip /content/LM-SD_Model/model-best"
   ]
  },
  {
   "cell_type": "code",
   "execution_count": 15,
   "metadata": {
    "id": "CB16GLeDvhzB"
   },
   "outputs": [],
   "source": [
    "# loading the best model from the directory (saved during the training)\n",
    "# Please download it from here: https://drive.google.com/file/d/1JlrIfJycQwQ3k9rLlOAIhYEWo9EIQExz/view?usp=sharing\n",
    "\n",
    "nlp_ner = spacy.load(COLAB_DIR+\"LM-SD_Model/model-best\")"
   ]
  },
  {
   "cell_type": "code",
   "execution_count": 16,
   "metadata": {
    "id": "URCuPrMorbPd"
   },
   "outputs": [],
   "source": [
    "'''Assigns different colors to the Entities during visualization.'''\n",
    "\n",
    "color_list = ['yellow', 'white', 'orange', '#008000', '#800000', '#0D9CB4', '#5813C7', '#0D350E', '#1AA436',\n",
    "          '#1AE0F9', '#BADCA1', '#78A2E5', '#D845FB', '#54B69E', '#800080', '#FF00FF', '#000080']\n",
    "\n",
    "colors = dict(zip(ENTITY_LABELS, color_list))\n",
    "options = {\"colors\": colors}"
   ]
  },
  {
   "cell_type": "code",
   "execution_count": 17,
   "metadata": {
    "colab": {
     "base_uri": "https://localhost:8080/",
     "height": 87
    },
    "id": "EtJiJSA3vpFh",
    "outputId": "44b8dc5d-1d86-4e36-cf34-40ec955bea72"
   },
   "outputs": [
    {
     "data": {
      "text/html": [
       "<span class=\"tex2jax_ignore\"><div class=\"entities\" style=\"line-height: 2.5; direction: ltr\">\n",
       "<mark class=\"entity\" style=\"background: #1AE0F9; padding: 0.45em 0.6em; margin: 0 0.25em; line-height: 1; border-radius: 0.35em;\">\n",
       "    Bikram Adhikari,Network Operations Center Engineer at Vianet Communications,Kathmandu, Bāgmatī, Nepal,Experience,Vianet Communications,Network Operations Center Engineer,Education,Purbanchal Vishwavidalaya,Bachelor in Information Technology\n",
       "    <span style=\"font-size: 0.8em; font-weight: bold; line-height: 1; border-radius: 0.35em; vertical-align: middle; margin-left: 0.5rem\">UNIVERSITY</span>\n",
       "</mark>\n",
       "</div></span>"
      ],
      "text/plain": [
       "<IPython.core.display.HTML object>"
      ]
     },
     "metadata": {},
     "output_type": "display_data"
    }
   ],
   "source": [
    "# Inferencing and visualizing some sample text using the trained model\n",
    "text_inf = \"Bikram Adhikari,Network Operations Center Engineer at Vianet Communications,Kathmandu, Bāgmatī, Nepal,Experience,Vianet Communications,Network Operations Center Engineer,Education,Purbanchal Vishwavidalaya,Bachelor in Information Technology\"\n",
    "doc_inf = nlp_ner(text_inf)\n",
    "\n",
    "spacy.displacy.render(doc_inf, style=\"ent\", options=options, jupyter=True)"
   ]
  },
  {
   "cell_type": "code",
   "execution_count": null,
   "metadata": {
    "colab": {
     "base_uri": "https://localhost:8080/"
    },
    "id": "nmLGFJ7wK_o1",
    "outputId": "7827091a-161f-4442-a92d-6df3bac2dadf"
   },
   "outputs": [],
   "source": [
    "'''\n",
    "Strict Evaluation of the model separately - Using Ground Truth Test Data\n",
    "This Evaluation Score does not consider Partial Match\n",
    "'''\n",
    "start_time = time.time()\n",
    "\n",
    "!python -m spacy evaluate --gpu-id 0 LM-SD_Model/model-best/ dataset/disease_A-Z_test.spacy\n",
    "\n",
    "end_time = time.time()\n",
    "print(f'\\nTotal Test Time = {end_time - start_time} (sec)')"
   ]
  },
  {
   "cell_type": "markdown",
   "metadata": {
    "id": "utAK07PIgTr5"
   },
   "source": [
    "# Evaluation using the Test/Validation Data [without cmd]\n",
    "## Need to Implement the Confusion Matrix (Sklearn)\n",
    "\n",
    "### Check the following Tutorial:\n",
    "https://github.com/wjbmattingly/spacy_tutorials_3x/blob/main/02_02_formal_test.ipynb"
   ]
  },
  {
   "cell_type": "code",
   "execution_count": 19,
   "metadata": {
    "id": "LqGJHtgPsgpY"
   },
   "outputs": [],
   "source": [
    "def load_data(file_path: str, nlp):\n",
    "  '''This function loads data from SpaCy docbin formatted files into spacy compitable JSON format'''\n",
    "  doc_bin = DocBin().from_disk(file_path)\n",
    "  samples, entities_count = [], 0\n",
    "  for doc in doc_bin.get_docs(nlp.vocab):\n",
    "    sample = {\n",
    "      \"text\": doc.text,\n",
    "      \"entities\": []\n",
    "    }\n",
    "    if len(doc.ents) > 0:\n",
    "      entities = [(e.start_char, e.end_char, e.label_) for e in doc.ents]\n",
    "      sample[\"entities\"] = entities\n",
    "      entities_count += len(entities)\n",
    "    else:\n",
    "      warnings.warn(\"Sample without entities!\")\n",
    "    samples.append(sample)\n",
    "  return samples, entities_count"
   ]
  },
  {
   "cell_type": "code",
   "execution_count": 20,
   "metadata": {
    "id": "HYmDFW0fsiRe"
   },
   "outputs": [],
   "source": [
    "samples_val, entities_count_val = load_data(OUTPUT_DIR + \"/disease_A-Z_valid.spacy\", nlp_ner)\n",
    "samples_test, entities_count_test = load_data(OUTPUT_DIR + \"/disease_A-Z_test.spacy\", nlp_ner)"
   ]
  },
  {
   "cell_type": "code",
   "execution_count": 21,
   "metadata": {
    "colab": {
     "base_uri": "https://localhost:8080/"
    },
    "id": "hYSv0zQnt9Fu",
    "outputId": "46a3bb87-bf0e-4249-a488-08ff631d3c3a"
   },
   "outputs": [
    {
     "data": {
      "text/plain": [
       "{'text': \"\\xa0 \\xa0,Contact,www.linkedin.com/in/bikram-,adhikari-61716b240  (LinkedIn) Bikram Adhikari,Network Operations Center Engineer at Vianet Communications,Kathmandu, Bāgmatī, Nepal,Experience,Vianet Communications,Network Operations Center Engineer,Education,Purbanchal Vishwavidalaya,Bachelor in Information Technology,\\xa0Information Technology \\xa0·\\xa0(December,2011\\xa0-\\xa0December 2015),\\xa0 Page 1 of 1, \\xa0 \\xa0,Contact,www.linkedin.com/in/bipin-,rai-0821a1201  (LinkedIn),Top Skills,JavaScript,Project Management,English Bipin Rai,Full Stack Developer | React JS | Node JS,Kathmandu,Experience,Scrypt Spider,Frontend Web Developer,July 2021\\xa0-\\xa0Present\\xa0 (1 year 1 month),Kathmandu, Bāgmatī, Nepal,Education,Vedas College,Bachelor's,\\xa0Computer Science \\xa0·\\xa0(2016\\xa0-\\xa02021),\\xa0 Page 1 of 1, \\xa0 \\xa0,Contact,www.linkedin.com/in/suresh-,tamang-6636b4134  (LinkedIn),Top Skills,React.js,React Native,laravel Suresh Tamang,React | React Native | Blockchain Enthusiast |,Nepal,Summary,I love to accept challenges and learn new technology that help to,solve the problem of society. I love to keep update according to,technology in society like blockchain and AI.,Experience,Yojana Technologies,React Native Developer,February 2020\\xa0-\\xa0Present\\xa0 (2 years 6 months),Lalitpur, Bāgmatī, Nepal,Kasumok Co., Ltd.,Mobile Application Developer,July 2019\\xa0-\\xa0January 2020\\xa0 (7 months),Nepal,PolicyNepal,Programmer,April 2018\\xa0-\\xa0July 2019\\xa0 (1 year 4 months),kathmandu,Education,Morgan College Kathmandu,Bachelor's degree,\\xa0BIM \\xa0·\\xa0(2013\\xa0-\\xa02015),\\xa0 Page 1 of 1, \\xa0 \\xa0,Contact,www.linkedin.com/in/,kaushalrmishra  (LinkedIn),Top Skills,Python,C++,Machine Learning,Certifications,Using Python to Access Web Data,Using Databases with Python,Convolutional Neural Networks,Introduction to Deep Learning,Matrix Algebra for Engineers,Publications,Nepali Speech Recognition using,CNN and Sequence Models,Encoder decoder based nepali news,headline generation Kaushal Raj Mishra,Machine Learning Engineer Looking For New Job Opportunities,Kathmandu,Summary,An enthusisatic learner: willing to learn anything that I find intriguing.,Currently working in Machine Learning and Artificial Intelligence.,Experience,Freelance,Machine Learning Engineer,April 2022\\xa0-\\xa0Present\\xa0 (4 months),Fusemachines,2 years 4 months,Machine Learning Engineer,February 2021\\xa0-\\xa0May 2022\\xa0 (1 year 4 months),Kathmandu, Bāgmatī, Nepal,Machine Learning Engineer Associate,February 2020\\xa0-\\xa0February 2021\\xa0 (1 year 1 month),Kathmandu, Nepal,Deerwalk Inc.,Software Intern,January 2019\\xa0-\\xa0September 2019\\xa0 (9 months),Nepal,Education,Pulchowk Campus,Bachelor of Engineering - BE,\\xa0Electronics and Communication,Engineering \\xa0·\\xa0(2015\\xa0-\\xa02019),NAAMII Winter AI School 2019,Computer Science \\xa0·\\xa0(2018\\xa0-\\xa02019),\\xa0 Page 1 of 1, \\xa0 \\xa0,Contact,www.linkedin.com/in/zhenmo,(LinkedIn),Top Skills,Project Management,PMP,Business Intelligence,Certifications,Access Data Model Certification,Clarity Data Model Certification,Project Management Professional,(PMP),Certified Information Systems,Auditor (CISA),Caboodle Data Model Certification Zhen M.,Manager of Enterprise Data Warehouse at Thomas Jefferson,University / Jefferson Health,Philadelphia, Pennsylvania, United States,Summary,IT Professional with extensive experience in technology,management and proven ability to align technical solutions with,business goals in complex and large-scale organizations worldwide,Strong in professional services, project management, technical,leadership, data analytics, development, and issue resolution in,working in international environments with efficient communications,skills.,Specialties: Cloud Transformation, Data Warehousing, Data,Engineering, Data Analytics, Business Intelligence, Project,Management, Professional Services, Resource Management,,Integration, and Identity & Access Management etc.,Certified by PMI and has an active PMP credential.,Certified by ISACA and has an active CISA designation.,Experience,Thomas Jefferson University Hospitals,6 years 11 months,Manager of Enterprise Data Warehouse,November 2021\\xa0-\\xa0Present\\xa0 (9 months),Greater Philadelphia Area,Establishes robust and intelligent Enterprise Data Warehouse in highly,complex environments that connect to healthcare organization data across,clinical, academic, research, and operational systems by creating innovation &,business intelligence-driven solutions and versatile data models.,Data Warehouse Architect,November 2018\\xa0-\\xa0November 2021\\xa0 (3 years 1 month),Greater Philadelphia Area,\\xa0 Page 1 of 2\\xa0 \\xa0,Senior Data Modeler,September 2015\\xa0-\\xa0November 2018\\xa0 (3 years 3 months),Greater Philadelphia Area,Swansee Group,IT Director / Business Intelligence Consultant,July 2014\\xa0-\\xa0September 2015\\xa0 (1 year 3 months),Swansee Group is an IT Solutions and Services company that specializes in,Business Intelligence, Data Analytics, and Data Management.,Skyworth TTG,6 years 8 months,Director of Global Professional Services,January 2013\\xa0-\\xa0February 2014\\xa0 (1 year 2 months),Skyworth TTG is a global IT security company which specializes in the,technologies used between organizations to enable secure, open and robust,business corporation.,Director of Professional Services, China,April 2010\\xa0-\\xa0January 2013\\xa0 (2 years 10 months),Delivery Manager,July 2007\\xa0-\\xa0March 2010\\xa0 (2 years 9 months),IBM,IT Specialist,December 2005\\xa0-\\xa0July 2007\\xa0 (1 year 8 months),Education,University of Bristol,Master’s Degree,\\xa0Computer Science,Beijing Technology and Business University,Bachelor’s Degree,\\xa0Mechanical Engineering and Automation,\\xa0 Page 2 of 2,\",\n",
       " 'entities': [(71, 86, 'NAME'),\n",
       "  (87, 121, 'SKILLS'),\n",
       "  (147, 172, 'LOCATION'),\n",
       "  (184, 205, 'COMPANIES WORKED AT'),\n",
       "  (206, 240, 'WORKED AS'),\n",
       "  (251, 276, 'UNIVERSITY'),\n",
       "  (277, 335, 'DEGREE'),\n",
       "  (462, 472, 'SKILLS'),\n",
       "  (473, 491, 'SKILLS'),\n",
       "  (492, 499, 'SKILLS'),\n",
       "  (500, 509, 'NAME'),\n",
       "  (510, 530, 'SKILLS'),\n",
       "  (533, 541, 'SKILLS'),\n",
       "  (544, 551, 'SKILLS'),\n",
       "  (552, 561, 'LOCATION'),\n",
       "  (573, 586, 'COMPANIES WORKED AT'),\n",
       "  (587, 609, 'WORKED AS'),\n",
       "  (632, 640, 'YEARS OF EXPERIENCE'),\n",
       "  (684, 697, 'COLLEGE NAME'),\n",
       "  (698, 726, 'DEGREE'),\n",
       "  (839, 847, 'SKILLS'),\n",
       "  (848, 860, 'SKILLS'),\n",
       "  (861, 868, 'SKILLS'),\n",
       "  (869, 882, 'NAME'),\n",
       "  (883, 888, 'SKILLS'),\n",
       "  (891, 903, 'SKILLS'),\n",
       "  (1132, 1151, 'COMPANIES WORKED AT'),\n",
       "  (1152, 1174, 'WORKED AS'),\n",
       "  (1201, 1210, 'YEARS OF EXPERIENCE'),\n",
       "  (1244, 1261, 'COMPANIES WORKED AT'),\n",
       "  (1269, 1290, 'WORKED AS'),\n",
       "  (1318, 1319, 'YEARS OF EXPERIENCE'),\n",
       "  (1334, 1345, 'COMPANIES WORKED AT'),\n",
       "  (1346, 1356, 'WORKED AS'),\n",
       "  (1382, 1390, 'YEARS OF EXPERIENCE'),\n",
       "  (1419, 1443, 'COLLEGE NAME'),\n",
       "  (1444, 1466, 'DEGREE'),\n",
       "  (1570, 1576, 'SKILLS'),\n",
       "  (1589, 1597, 'SKILLS'),\n",
       "  (1613, 1644, 'CERTIFICATION'),\n",
       "  (1645, 1672, 'CERTIFICATION'),\n",
       "  (1673, 1702, 'CERTIFICATION'),\n",
       "  (1703, 1732, 'CERTIFICATION'),\n",
       "  (1733, 1761, 'CERTIFICATION'),\n",
       "  (1885, 1903, 'NAME'),\n",
       "  (1904, 1929, 'SKILLS'),\n",
       "  (1964, 1973, 'LOCATION'),\n",
       "  (2135, 2144, 'COMPANIES WORKED AT'),\n",
       "  (2145, 2170, 'WORKED AS'),\n",
       "  (2194, 2195, 'YEARS OF EXPERIENCE'),\n",
       "  (2234, 2259, 'WORKED AS'),\n",
       "  (2287, 2295, 'YEARS OF EXPERIENCE'),\n",
       "  (2330, 2365, 'WORKED AS'),\n",
       "  (2398, 2406, 'YEARS OF EXPERIENCE'),\n",
       "  (2431, 2444, 'COMPANIES WORKED AT'),\n",
       "  (2454, 2460, 'WORKED AS'),\n",
       "  (2493, 2494, 'YEARS OF EXPERIENCE'),\n",
       "  (2519, 2534, 'COLLEGE NAME'),\n",
       "  (2535, 2606, 'DEGREE'),\n",
       "  (2763, 2781, 'SKILLS'),\n",
       "  (2782, 2785, 'SKILLS'),\n",
       "  (2786, 2807, 'SKILLS'),\n",
       "  (2823, 2854, 'CERTIFICATION'),\n",
       "  (2855, 2887, 'CERTIFICATION'),\n",
       "  (2888, 2906, 'CERTIFICATION'),\n",
       "  (2936, 2965, 'CERTIFICATION'),\n",
       "  (2980, 3004, 'CERTIFICATION'),\n",
       "  (3005, 3009, 'NAME'),\n",
       "  (3100, 3141, 'LOCATION'),\n",
       "  (3882, 3909, 'COMPANIES WORKED AT'),\n",
       "  (3938, 3974, 'WORKED AS'),\n",
       "  (4001, 4002, 'YEARS OF EXPERIENCE'),\n",
       "  (4331, 4350, 'WORKED AS'),\n",
       "  (4383, 4392, 'YEARS OF EXPERIENCE'),\n",
       "  (4443, 4462, 'WORKED AS'),\n",
       "  (4496, 4505, 'YEARS OF EXPERIENCE'),\n",
       "  (4540, 4553, 'COMPANIES WORKED AT'),\n",
       "  (4554, 4600, 'WORKED AS'),\n",
       "  (4630, 4638, 'YEARS OF EXPERIENCE'),\n",
       "  (4811, 4851, 'WORKED AS'),\n",
       "  (4883, 4891, 'YEARS OF EXPERIENCE'),\n",
       "  (5075, 5106, 'WORKED AS'),\n",
       "  (5135, 5145, 'YEARS OF EXPERIENCE'),\n",
       "  (5163, 5170, 'WORKED AS'),\n",
       "  (5196, 5205, 'YEARS OF EXPERIENCE'),\n",
       "  (5218, 5231, 'WORKED AS'),\n",
       "  (5260, 5268, 'YEARS OF EXPERIENCE'),\n",
       "  (5287, 5308, 'UNIVERSITY'),\n",
       "  (5309, 5342, 'DEGREE'),\n",
       "  (5343, 5385, 'UNIVERSITY'),\n",
       "  (5386, 5442, 'DEGREE')]}"
      ]
     },
     "execution_count": 21,
     "metadata": {},
     "output_type": "execute_result"
    }
   ],
   "source": [
    "# Looking into one particular samples from the ground truth of the validation set\n",
    "ground = samples_test[0]\n",
    "ground"
   ]
  },
  {
   "cell_type": "code",
   "execution_count": 22,
   "metadata": {
    "colab": {
     "base_uri": "https://localhost:8080/"
    },
    "id": "4SP-gt6B9t7k",
    "outputId": "890f91a3-69f7-4523-bdf6-867a249f91b9"
   },
   "outputs": [
    {
     "name": "stdout",
     "output_type": "stream",
     "text": [
      "   ,Contact,www.linkedin.com/in/bikram-,adhikari-61716b240  (LinkedIn) Bikram Adhikari,Network Operations Center Engineer at Vianet Communications,Kathmandu, Bāgmatī, Nepal,Experience,Vianet Communications,Network Operations Center Engineer,Education,Purbanchal Vishwavidalaya,Bachelor in Information Technology, Information Technology  · (December,2011 - December 2015),  Page 1 of 1,    ,Contact,www.linkedin.com/in/bipin-,rai-0821a1201  (LinkedIn),Top Skills,JavaScript,Project Management,English Bipin Rai,Full Stack Developer | React JS | Node JS,Kathmandu,Experience,Scrypt Spider,Frontend Web Developer,July 2021 - Present  (1 year 1 month),Kathmandu, Bāgmatī, Nepal,Education,Vedas College,Bachelor's, Computer Science  · (2016 - 2021),  Page 1 of 1,    ,Contact,www.linkedin.com/in/suresh-,tamang-6636b4134  (LinkedIn),Top Skills,React.js,React Native,laravel Suresh Tamang,React | React Native | Blockchain Enthusiast |,Nepal,Summary,I love to accept challenges and learn new technology that help to,solve the problem of society. I love to keep update according to,technology in society like blockchain and AI.,Experience,Yojana Technologies,React Native Developer,February 2020 - Present  (2 years 6 months),Lalitpur, Bāgmatī, Nepal,Kasumok Co., Ltd.,Mobile Application Developer,July 2019 - January 2020  (7 months),Nepal,PolicyNepal,Programmer,April 2018 - July 2019  (1 year 4 months),kathmandu,Education,Morgan College Kathmandu,Bachelor's degree, BIM  · (2013 - 2015),  Page 1 of 1,    ,Contact,www.linkedin.com/in/,kaushalrmishra  (LinkedIn),Top Skills,Python,C++,Machine Learning,Certifications,Using Python to Access Web Data,Using Databases with Python,Convolutional Neural Networks,Introduction to Deep Learning,Matrix Algebra for Engineers,Publications,Nepali Speech Recognition using,CNN and Sequence Models,Encoder decoder based nepali news,headline generation Kaushal Raj Mishra,Machine Learning Engineer Looking For New Job Opportunities,Kathmandu,Summary,An enthusisatic learner: willing to learn anything that I find intriguing.,Currently working in Machine Learning and Artificial Intelligence.,Experience,Freelance,Machine Learning Engineer,April 2022 - Present  (4 months),Fusemachines,2 years 4 months,Machine Learning Engineer,February 2021 - May 2022  (1 year 4 months),Kathmandu, Bāgmatī, Nepal,Machine Learning Engineer Associate,February 2020 - February 2021  (1 year 1 month),Kathmandu, Nepal,Deerwalk Inc.,Software Intern,January 2019 - September 2019  (9 months),Nepal,Education,Pulchowk Campus,Bachelor of Engineering - BE, Electronics and Communication,Engineering  · (2015 - 2019),NAAMII Winter AI School 2019,Computer Science  · (2018 - 2019),  Page 1 of 1,    ,Contact,www.linkedin.com/in/zhenmo,(LinkedIn),Top Skills,Project Management,PMP,Business Intelligence,Certifications,Access Data Model Certification,Clarity Data Model Certification,Project Management Professional,(PMP),Certified Information Systems,Auditor (CISA),Caboodle Data Model Certification Zhen M.,Manager of Enterprise Data Warehouse at Thomas Jefferson,University / Jefferson Health,Philadelphia, Pennsylvania, United States,Summary,IT Professional with extensive experience in technology,management and proven ability to align technical solutions with,business goals in complex and large-scale organizations worldwide,Strong in professional services, project management, technical,leadership, data analytics, development, and issue resolution in,working in international environments with efficient communications,skills.,Specialties: Cloud Transformation, Data Warehousing, Data,Engineering, Data Analytics, Business Intelligence, Project,Management, Professional Services, Resource Management,,Integration, and Identity & Access Management etc.,Certified by PMI and has an active PMP credential.,Certified by ISACA and has an active CISA designation.,Experience,Thomas Jefferson University Hospitals,6 years 11 months,Manager of Enterprise Data Warehouse,November 2021 - Present  (9 months),Greater Philadelphia Area,Establishes robust and intelligent Enterprise Data Warehouse in highly,complex environments that connect to healthcare organization data across,clinical, academic, research, and operational systems by creating innovation &,business intelligence-driven solutions and versatile data models.,Data Warehouse Architect,November 2018 - November 2021  (3 years 1 month),Greater Philadelphia Area,  Page 1 of 2   ,Senior Data Modeler,September 2015 - November 2018  (3 years 3 months),Greater Philadelphia Area,Swansee Group,IT Director / Business Intelligence Consultant,July 2014 - September 2015  (1 year 3 months),Swansee Group is an IT Solutions and Services company that specializes in,Business Intelligence, Data Analytics, and Data Management.,Skyworth TTG,6 years 8 months,Director of Global Professional Services,January 2013 - February 2014  (1 year 2 months),Skyworth TTG is a global IT security company which specializes in the,technologies used between organizations to enable secure, open and robust,business corporation.,Director of Professional Services, China,April 2010 - January 2013  (2 years 10 months),Delivery Manager,July 2007 - March 2010  (2 years 9 months),IBM,IT Specialist,December 2005 - July 2007  (1 year 8 months),Education,University of Bristol,Master’s Degree, Computer Science,Beijing Technology and Business University,Bachelor’s Degree, Mechanical Engineering and Automation,  Page 2 of 2,\n",
      "\n",
      "Phrase --> Predicted Entity\n",
      "\n",
      ",Contact,www.linkedin.com/in/bikram-,adhikari-61716b240  (LinkedIn) Bikram Adhikari,Network Operations Center Engineer at Vianet Communications,Kathmandu, Bāgmatī, Nepal,Experience,Vianet Communications,Network Operations Center Engineer,Education,Purbanchal Vishwavidalaya,Bachelor in Information Technology, Information Technology  · (December,2011 - December 2015 --> WORKED AS\n",
      "),  Page 1 of 1,    ,Contact,www.linkedin.com/in/bipin-,rai-0821a1201  (LinkedIn),Top Skills,JavaScript,Project Management,English Bipin --> WORKED AS\n",
      "Rai,Full Stack Developer | React JS | Node JS,Kathmandu,Experience,Scrypt Spider,Frontend Web Developer,July 2021 - Present  (1 year 1 month),Kathmandu, Bāgmatī, Nepal,Education,Vedas College,Bachelor's, Computer Science  · (2016 - 2021),  Page 1 of 1,    ,Contact,www.linkedin.com/in/suresh-,tamang-6636b4134  (LinkedIn),Top Skills,React.js,React Native,laravel Suresh Tamang,React | React Native | Blockchain Enthusiast |,Nepal,Summary,I love to accept challenges and learn new technology that help to,solve the problem of society. --> DEGREE\n",
      "I love to keep update according to,technology in society --> CERTIFICATION\n",
      "blockchain and AI.,Experience,Yojana Technologies,React Native Developer --> CERTIFICATION\n",
      ",February 2020 - Present  (2 years 6 months),Lalitpur, Bāgmatī, Nepal,Kasumok Co., Ltd.,Mobile Application Developer,July 2019 - January 2020  (7 months),Nepal,PolicyNepal,Programmer,April 2018 - July 2019  (1 year 4 months),kathmandu,Education,Morgan College Kathmandu,Bachelor's degree, BIM  · (2013 - 2015),  Page 1 of 1, --> DEGREE\n",
      ",Contact,www.linkedin.com/in/,kaushalrmishra  (LinkedIn),Top Skills,Python,C++,Machine Learning,Certifications, --> CERTIFICATION\n",
      "Using Python to Access Web Data,Using Databases with Python,Convolutional Neural Networks,Introduction to Deep Learning,Matrix Algebra for Engineers,Publications,Nepali Speech Recognition using,CNN and Sequence Models,Encoder decoder based nepali news,headline generation Kaushal Raj Mishra,Machine Learning Engineer Looking For New Job Opportunities,Kathmandu,Summary,An enthusisatic learner: willing to learn anything that I find intriguing.,Currently --> CERTIFICATION\n",
      "working in Machine Learning and Artificial Intelligence.,Experience,Freelance,Machine Learning Engineer, --> WORKED AS\n",
      "April 2022 - Present  (4 months),Fusemachines,2 years 4 months,Machine Learning --> YEARS OF EXPERIENCE\n",
      "February 2021 - May 2022  (1 year 4 months),Kathmandu, --> YEARS OF EXPERIENCE\n",
      "Bāgmatī, Nepal,Machine --> COLLEGE NAME\n",
      "February 2020 - February 2021  (1 year 1 month),Kathmandu, Nepal,Deerwalk Inc.,Software Intern, --> YEARS OF EXPERIENCE\n",
      "January 2019 - September 2019  (9 months),Nepal,Education,Pulchowk Campus,Bachelor --> YEARS OF EXPERIENCE\n",
      "of Engineering - BE, Electronics and Communication,Engineering  · (2015 - 2019),NAAMII Winter AI School 2019,Computer Science  · (2018 - 2019),  Page 1 of 1,    ,Contact,www.linkedin.com/in/zhenmo,(LinkedIn),Top Skills,Project Management,PMP,Business Intelligence,Certifications,Access Data Model Certification,Clarity Data Model Certification,Project Management Professional,(PMP),Certified Information Systems,Auditor (CISA),Caboodle Data Model Certification Zhen M.,Manager of Enterprise Data Warehouse at Thomas Jefferson,University / Jefferson Health,Philadelphia, Pennsylvania, United States,Summary,IT Professional with extensive experience in technology,management and proven ability to align technical solutions with,business goals in complex and large-scale organizations worldwide, --> DEGREE\n",
      "Strong in professional services, project management, technical,leadership, data analytics, development, and issue resolution in,working in international environments with efficient communications,skills.,Specialties: Cloud Transformation, Data Warehousing, Data,Engineering, Data Analytics, Business Intelligence, Project,Management, Professional Services, Resource Management,,Integration, and Identity & Access Management etc.,Certified by PMI and has an active PMP credential.,Certified by ISACA and has an active CISA designation.,Experience,Thomas Jefferson University Hospitals,6 years 11 months,Manager of Enterprise Data Warehouse, --> CERTIFICATION\n",
      "November 2021 - Present  (9 months),Greater Philadelphia Area, --> YEARS OF EXPERIENCE\n",
      "Establishes robust and intelligent Enterprise Data Warehouse in highly,complex environments that connect to healthcare organization data across,clinical, academic, research, and operational systems by creating innovation &,business intelligence-driven solutions and versatile data models --> CERTIFICATION\n",
      ",Data Warehouse Architect,November 2018 - November 2021  (3 years 1 month),Greater Philadelphia Area,  Page 1 of 2   ,Senior Data Modeler,September 2015 - November 2018  (3 years 3 months),Greater Philadelphia Area,Swansee Group,IT Director / Business Intelligence Consultant,July 2014 - September 2015  (1 year 3 months),Swansee Group is an IT Solutions and Services company that specializes in,Business Intelligence, Data Analytics, and Data Management. --> WORKED AS\n",
      "TTG,6 years 8 months, --> YEARS OF EXPERIENCE\n",
      "Director of Global Professional Services, --> WORKED AS\n",
      "January 2013 - February 2014  (1 year 2 months),Skyworth --> YEARS OF EXPERIENCE\n",
      "a global IT security company which specializes in the,technologies used between organizations to enable secure, open and robust,business corporation.,Director of Professional Services, China, --> WORKED AS\n",
      "April 2010 - January 2013  (2 years 10 months),Delivery Manager,July 2007 - March 2010  (2 years 9 months),IBM,IT Specialist, --> YEARS OF EXPERIENCE\n",
      "December 2005 - July 2007  (1 year 8 months),Education,University of Bristol,Master’s Degree, Computer Science,Beijing Technology and Business University,Bachelor’s Degree, Mechanical Engineering and Automation,  Page 2 of 2, --> YEARS OF EXPERIENCE\n"
     ]
    }
   ],
   "source": [
    "# predicting the text of the above single sample with the model\n",
    "pred = nlp_ner(ground['text'])\n",
    "\n",
    "print(ground['text'])\n",
    "\n",
    "print('\\nPhrase --> Predicted Entity\\n')\n",
    "for ent in pred.ents:\n",
    "  print(ent.text, '-->', ent.label_)"
   ]
  },
  {
   "cell_type": "code",
   "execution_count": 23,
   "metadata": {
    "id": "t1Iq7LinFd8h"
   },
   "outputs": [],
   "source": [
    "def evaluate(ner_model, samples):\n",
    "  '''Given a trained spacy ner model along with json formatted data, this function will evaluate the model on the data'''\n",
    "  scorer = Scorer(ner_model)\n",
    "  example = []\n",
    "  for sample in samples:\n",
    "    pred = ner_model(sample['text'])\n",
    "    #print(type(pred))\n",
    "    temp_ex = Example.from_dict(pred, {'entities': sample['entities']})\n",
    "    example.append(temp_ex)\n",
    "  scores = scorer.score(example)\n",
    "  return scores"
   ]
  },
  {
   "cell_type": "code",
   "execution_count": 24,
   "metadata": {
    "id": "jEX8TZHHJ7a5"
   },
   "outputs": [],
   "source": [
    "# results = evaluate(nlp_ner, samples_val, )"
   ]
  },
  {
   "cell_type": "code",
   "execution_count": 25,
   "metadata": {
    "id": "L3SjYGpWKQt1"
   },
   "outputs": [],
   "source": [
    "# from print_dict import pd as pdic\n",
    "# pdic(results)"
   ]
  },
  {
   "cell_type": "markdown",
   "metadata": {
    "id": "yNn4byr_qTcM"
   },
   "source": [
    "# SemEval Evaluation Scripts"
   ]
  },
  {
   "cell_type": "code",
   "execution_count": 26,
   "metadata": {
    "id": "L7SzBSiuqTcM"
   },
   "outputs": [],
   "source": [
    "def list_to_spacy_ner_doc(ner_pred):\n",
    "  '''\n",
    "  This function takes a list of directory of NER predictions of the form\n",
    "  {'text': '...', 'entities':[(start, end, tag)]} and converts them into SpaCy Doc Object\n",
    "  '''\n",
    "  # Creates a blank Tokenizer with just the English vocab\n",
    "  nlp = spacy.blank(\"en\")\n",
    "\n",
    "  Doc.set_extension(\"rel\", default={},force=True)\n",
    "  vocab = Vocab()\n",
    "\n",
    "  # try:\n",
    "  # parsing the docanno JSON data (per-line)\n",
    "  text = ner_pred[\"text\"]\n",
    "  spans = ner_pred[\"entities\"]\n",
    "\n",
    "  \"\"\" Parsing tokens from Text \"\"\"\n",
    "  tokens = nlp(text)\n",
    "\n",
    "  entities = []\n",
    "\n",
    "  spaces = [True if tok.whitespace_ else False for tok in tokens]\n",
    "  words = [t.text for t in tokens]\n",
    "  doc = Doc(nlp.vocab, words=words, spaces=spaces)\n",
    "\n",
    "  for start, end, label in spans:\n",
    "    \"\"\" The modes should be: strict, contract, and expand \"\"\"\n",
    "      # print(eg['text'][int(span[\"start_offset\"]):int(span[\"end_offset\"])])\n",
    "    entity = doc.char_span(start, end, label=label, alignment_mode='contract')\n",
    "\n",
    "    # Not considering the spans which are Erroneous\n",
    "    if entity is None:\n",
    "      # disease_name = text.split('\\n')[0]\n",
    "      # print(f'No Entity Found in File: {disease_name};\\n Span = {start}-{end}; Phrase = {doc.text[start:end]}; Label = {label}\\n')\n",
    "      continue\n",
    "    else:\n",
    "      entities.append(entity)\n",
    "\n",
    "  # print(entities[0].label_)\n",
    "  try:\n",
    "    doc.ents = entities\n",
    "  except:\n",
    "    print(\"=>> Error\")\n",
    "    print(text)\n",
    "\n",
    "  # except:\n",
    "  #   print('Error While Loading Predicted List...')\n",
    "\n",
    "  return doc"
   ]
  },
  {
   "cell_type": "code",
   "execution_count": 27,
   "metadata": {
    "id": "1iZSMymiqTcN"
   },
   "outputs": [],
   "source": [
    "def render_sample_pred(ner_doc):\n",
    "  spacy.displacy.render(ner_doc, style=\"ent\", options=options, jupyter=True)"
   ]
  },
  {
   "cell_type": "code",
   "execution_count": 28,
   "metadata": {
    "colab": {
     "base_uri": "https://localhost:8080/"
    },
    "id": "eK9Hdy7SqTcN",
    "outputId": "f8db552e-3938-42cf-b061-5f20d248deca"
   },
   "outputs": [
    {
     "name": "stdout",
     "output_type": "stream",
     "text": [
      "{'text': \"\\xa0 \\xa0,Contact,www.linkedin.com/in/bikram-,adhikari-61716b240  (LinkedIn) Bikram Adhikari,Network Operations Center Engineer at Vianet Communications,Kathmandu, Bāgmatī, Nepal,Experience,Vianet Communications,Network Operations Center Engineer,Education,Purbanchal Vishwavidalaya,Bachelor in Information Technology,\\xa0Information Technology \\xa0·\\xa0(December,2011\\xa0-\\xa0December 2015),\\xa0 Page 1 of 1, \\xa0 \\xa0,Contact,www.linkedin.com/in/bipin-,rai-0821a1201  (LinkedIn),Top Skills,JavaScript,Project Management,English Bipin Rai,Full Stack Developer | React JS | Node JS,Kathmandu,Experience,Scrypt Spider,Frontend Web Developer,July 2021\\xa0-\\xa0Present\\xa0 (1 year 1 month),Kathmandu, Bāgmatī, Nepal,Education,Vedas College,Bachelor's,\\xa0Computer Science \\xa0·\\xa0(2016\\xa0-\\xa02021),\\xa0 Page 1 of 1, \\xa0 \\xa0,Contact,www.linkedin.com/in/suresh-,tamang-6636b4134  (LinkedIn),Top Skills,React.js,React Native,laravel Suresh Tamang,React | React Native | Blockchain Enthusiast |,Nepal,Summary,I love to accept challenges and learn new technology that help to,solve the problem of society. I love to keep update according to,technology in society like blockchain and AI.,Experience,Yojana Technologies,React Native Developer,February 2020\\xa0-\\xa0Present\\xa0 (2 years 6 months),Lalitpur, Bāgmatī, Nepal,Kasumok Co., Ltd.,Mobile Application Developer,July 2019\\xa0-\\xa0January 2020\\xa0 (7 months),Nepal,PolicyNepal,Programmer,April 2018\\xa0-\\xa0July 2019\\xa0 (1 year 4 months),kathmandu,Education,Morgan College Kathmandu,Bachelor's degree,\\xa0BIM \\xa0·\\xa0(2013\\xa0-\\xa02015),\\xa0 Page 1 of 1, \\xa0 \\xa0,Contact,www.linkedin.com/in/,kaushalrmishra  (LinkedIn),Top Skills,Python,C++,Machine Learning,Certifications,Using Python to Access Web Data,Using Databases with Python,Convolutional Neural Networks,Introduction to Deep Learning,Matrix Algebra for Engineers,Publications,Nepali Speech Recognition using,CNN and Sequence Models,Encoder decoder based nepali news,headline generation Kaushal Raj Mishra,Machine Learning Engineer Looking For New Job Opportunities,Kathmandu,Summary,An enthusisatic learner: willing to learn anything that I find intriguing.,Currently working in Machine Learning and Artificial Intelligence.,Experience,Freelance,Machine Learning Engineer,April 2022\\xa0-\\xa0Present\\xa0 (4 months),Fusemachines,2 years 4 months,Machine Learning Engineer,February 2021\\xa0-\\xa0May 2022\\xa0 (1 year 4 months),Kathmandu, Bāgmatī, Nepal,Machine Learning Engineer Associate,February 2020\\xa0-\\xa0February 2021\\xa0 (1 year 1 month),Kathmandu, Nepal,Deerwalk Inc.,Software Intern,January 2019\\xa0-\\xa0September 2019\\xa0 (9 months),Nepal,Education,Pulchowk Campus,Bachelor of Engineering - BE,\\xa0Electronics and Communication,Engineering \\xa0·\\xa0(2015\\xa0-\\xa02019),NAAMII Winter AI School 2019,Computer Science \\xa0·\\xa0(2018\\xa0-\\xa02019),\\xa0 Page 1 of 1, \\xa0 \\xa0,Contact,www.linkedin.com/in/zhenmo,(LinkedIn),Top Skills,Project Management,PMP,Business Intelligence,Certifications,Access Data Model Certification,Clarity Data Model Certification,Project Management Professional,(PMP),Certified Information Systems,Auditor (CISA),Caboodle Data Model Certification Zhen M.,Manager of Enterprise Data Warehouse at Thomas Jefferson,University / Jefferson Health,Philadelphia, Pennsylvania, United States,Summary,IT Professional with extensive experience in technology,management and proven ability to align technical solutions with,business goals in complex and large-scale organizations worldwide,Strong in professional services, project management, technical,leadership, data analytics, development, and issue resolution in,working in international environments with efficient communications,skills.,Specialties: Cloud Transformation, Data Warehousing, Data,Engineering, Data Analytics, Business Intelligence, Project,Management, Professional Services, Resource Management,,Integration, and Identity & Access Management etc.,Certified by PMI and has an active PMP credential.,Certified by ISACA and has an active CISA designation.,Experience,Thomas Jefferson University Hospitals,6 years 11 months,Manager of Enterprise Data Warehouse,November 2021\\xa0-\\xa0Present\\xa0 (9 months),Greater Philadelphia Area,Establishes robust and intelligent Enterprise Data Warehouse in highly,complex environments that connect to healthcare organization data across,clinical, academic, research, and operational systems by creating innovation &,business intelligence-driven solutions and versatile data models.,Data Warehouse Architect,November 2018\\xa0-\\xa0November 2021\\xa0 (3 years 1 month),Greater Philadelphia Area,\\xa0 Page 1 of 2\\xa0 \\xa0,Senior Data Modeler,September 2015\\xa0-\\xa0November 2018\\xa0 (3 years 3 months),Greater Philadelphia Area,Swansee Group,IT Director / Business Intelligence Consultant,July 2014\\xa0-\\xa0September 2015\\xa0 (1 year 3 months),Swansee Group is an IT Solutions and Services company that specializes in,Business Intelligence, Data Analytics, and Data Management.,Skyworth TTG,6 years 8 months,Director of Global Professional Services,January 2013\\xa0-\\xa0February 2014\\xa0 (1 year 2 months),Skyworth TTG is a global IT security company which specializes in the,technologies used between organizations to enable secure, open and robust,business corporation.,Director of Professional Services, China,April 2010\\xa0-\\xa0January 2013\\xa0 (2 years 10 months),Delivery Manager,July 2007\\xa0-\\xa0March 2010\\xa0 (2 years 9 months),IBM,IT Specialist,December 2005\\xa0-\\xa0July 2007\\xa0 (1 year 8 months),Education,University of Bristol,Master’s Degree,\\xa0Computer Science,Beijing Technology and Business University,Bachelor’s Degree,\\xa0Mechanical Engineering and Automation,\\xa0 Page 2 of 2,\", 'entities': [(71, 86, 'NAME'), (87, 121, 'SKILLS'), (147, 172, 'LOCATION'), (184, 205, 'COMPANIES WORKED AT'), (206, 240, 'WORKED AS'), (251, 276, 'UNIVERSITY'), (277, 335, 'DEGREE'), (462, 472, 'SKILLS'), (473, 491, 'SKILLS'), (492, 499, 'SKILLS'), (500, 509, 'NAME'), (510, 530, 'SKILLS'), (533, 541, 'SKILLS'), (544, 551, 'SKILLS'), (552, 561, 'LOCATION'), (573, 586, 'COMPANIES WORKED AT'), (587, 609, 'WORKED AS'), (632, 640, 'YEARS OF EXPERIENCE'), (684, 697, 'COLLEGE NAME'), (698, 726, 'DEGREE'), (839, 847, 'SKILLS'), (848, 860, 'SKILLS'), (861, 868, 'SKILLS'), (869, 882, 'NAME'), (883, 888, 'SKILLS'), (891, 903, 'SKILLS'), (1132, 1151, 'COMPANIES WORKED AT'), (1152, 1174, 'WORKED AS'), (1201, 1210, 'YEARS OF EXPERIENCE'), (1244, 1261, 'COMPANIES WORKED AT'), (1269, 1290, 'WORKED AS'), (1318, 1319, 'YEARS OF EXPERIENCE'), (1334, 1345, 'COMPANIES WORKED AT'), (1346, 1356, 'WORKED AS'), (1382, 1390, 'YEARS OF EXPERIENCE'), (1419, 1443, 'COLLEGE NAME'), (1444, 1466, 'DEGREE'), (1570, 1576, 'SKILLS'), (1589, 1597, 'SKILLS'), (1613, 1644, 'CERTIFICATION'), (1645, 1672, 'CERTIFICATION'), (1673, 1702, 'CERTIFICATION'), (1703, 1732, 'CERTIFICATION'), (1733, 1761, 'CERTIFICATION'), (1885, 1903, 'NAME'), (1904, 1929, 'SKILLS'), (1964, 1973, 'LOCATION'), (2135, 2144, 'COMPANIES WORKED AT'), (2145, 2170, 'WORKED AS'), (2194, 2195, 'YEARS OF EXPERIENCE'), (2234, 2259, 'WORKED AS'), (2287, 2295, 'YEARS OF EXPERIENCE'), (2330, 2365, 'WORKED AS'), (2398, 2406, 'YEARS OF EXPERIENCE'), (2431, 2444, 'COMPANIES WORKED AT'), (2454, 2460, 'WORKED AS'), (2493, 2494, 'YEARS OF EXPERIENCE'), (2519, 2534, 'COLLEGE NAME'), (2535, 2606, 'DEGREE'), (2763, 2781, 'SKILLS'), (2782, 2785, 'SKILLS'), (2786, 2807, 'SKILLS'), (2823, 2854, 'CERTIFICATION'), (2855, 2887, 'CERTIFICATION'), (2888, 2906, 'CERTIFICATION'), (2936, 2965, 'CERTIFICATION'), (2980, 3004, 'CERTIFICATION'), (3005, 3009, 'NAME'), (3100, 3141, 'LOCATION'), (3882, 3909, 'COMPANIES WORKED AT'), (3938, 3974, 'WORKED AS'), (4001, 4002, 'YEARS OF EXPERIENCE'), (4331, 4350, 'WORKED AS'), (4383, 4392, 'YEARS OF EXPERIENCE'), (4443, 4462, 'WORKED AS'), (4496, 4505, 'YEARS OF EXPERIENCE'), (4540, 4553, 'COMPANIES WORKED AT'), (4554, 4600, 'WORKED AS'), (4630, 4638, 'YEARS OF EXPERIENCE'), (4811, 4851, 'WORKED AS'), (4883, 4891, 'YEARS OF EXPERIENCE'), (5075, 5106, 'WORKED AS'), (5135, 5145, 'YEARS OF EXPERIENCE'), (5163, 5170, 'WORKED AS'), (5196, 5205, 'YEARS OF EXPERIENCE'), (5218, 5231, 'WORKED AS'), (5260, 5268, 'YEARS OF EXPERIENCE'), (5287, 5308, 'UNIVERSITY'), (5309, 5342, 'DEGREE'), (5343, 5385, 'UNIVERSITY'), (5386, 5442, 'DEGREE')]}\n",
      "\n"
     ]
    },
    {
     "name": "stdout",
     "output_type": "stream",
     "text": [
      "   ,Contact,www.linkedin.com/in/bikram-,adhikari-61716b240  (LinkedIn) Bikram Adhikari,Network Operations Center Engineer at Vianet Communications,Kathmandu, Bāgmatī, Nepal,Experience,Vianet Communications,Network Operations Center Engineer,Education,Purbanchal Vishwavidalaya,Bachelor in Information Technology, Information Technology  · (December,2011 - December 2015),  Page 1 of 1,    ,Contact,www.linkedin.com/in/bipin-,rai-0821a1201  (LinkedIn),Top Skills,JavaScript,Project Management,English Bipin Rai,Full Stack Developer | React JS | Node JS,Kathmandu,Experience,Scrypt Spider,Frontend Web Developer,July 2021 - Present  (1 year 1 month),Kathmandu, Bāgmatī, Nepal,Education,Vedas College,Bachelor's, Computer Science  · (2016 - 2021),  Page 1 of 1,    ,Contact,www.linkedin.com/in/suresh-,tamang-6636b4134  (LinkedIn),Top Skills,React.js,React Native,laravel Suresh Tamang,React | React Native | Blockchain Enthusiast |,Nepal,Summary,I love to accept challenges and learn new technology that help to,solve the problem of society. I love to keep update according to,technology in society like blockchain and AI.,Experience,Yojana Technologies,React Native Developer,February 2020 - Present  (2 years 6 months),Lalitpur, Bāgmatī, Nepal,Kasumok Co., Ltd.,Mobile Application Developer,July 2019 - January 2020  (7 months),Nepal,PolicyNepal,Programmer,April 2018 - July 2019  (1 year 4 months),kathmandu,Education,Morgan College Kathmandu,Bachelor's degree, BIM  · (2013 - 2015),  Page 1 of 1,    ,Contact,www.linkedin.com/in/,kaushalrmishra  (LinkedIn),Top Skills,Python,C++,Machine Learning,Certifications,Using Python to Access Web Data,Using Databases with Python,Convolutional Neural Networks,Introduction to Deep Learning,Matrix Algebra for Engineers,Publications,Nepali Speech Recognition using,CNN and Sequence Models,Encoder decoder based nepali news,headline generation Kaushal Raj Mishra,Machine Learning Engineer Looking For New Job Opportunities,Kathmandu,Summary,An enthusisatic learner: willing to learn anything that I find intriguing.,Currently working in Machine Learning and Artificial Intelligence.,Experience,Freelance,Machine Learning Engineer,April 2022 - Present  (4 months),Fusemachines,2 years 4 months,Machine Learning Engineer,February 2021 - May 2022  (1 year 4 months),Kathmandu, Bāgmatī, Nepal,Machine Learning Engineer Associate,February 2020 - February 2021  (1 year 1 month),Kathmandu, Nepal,Deerwalk Inc.,Software Intern,January 2019 - September 2019  (9 months),Nepal,Education,Pulchowk Campus,Bachelor of Engineering - BE, Electronics and Communication,Engineering  · (2015 - 2019),NAAMII Winter AI School 2019,Computer Science  · (2018 - 2019),  Page 1 of 1,    ,Contact,www.linkedin.com/in/zhenmo,(LinkedIn),Top Skills,Project Management,PMP,Business Intelligence,Certifications,Access Data Model Certification,Clarity Data Model Certification,Project Management Professional,(PMP),Certified Information Systems,Auditor (CISA),Caboodle Data Model Certification Zhen M.,Manager of Enterprise Data Warehouse at Thomas Jefferson,University / Jefferson Health,Philadelphia, Pennsylvania, United States,Summary,IT Professional with extensive experience in technology,management and proven ability to align technical solutions with,business goals in complex and large-scale organizations worldwide,Strong in professional services, project management, technical,leadership, data analytics, development, and issue resolution in,working in international environments with efficient communications,skills.,Specialties: Cloud Transformation, Data Warehousing, Data,Engineering, Data Analytics, Business Intelligence, Project,Management, Professional Services, Resource Management,,Integration, and Identity & Access Management etc.,Certified by PMI and has an active PMP credential.,Certified by ISACA and has an active CISA designation.,Experience,Thomas Jefferson University Hospitals,6 years 11 months,Manager of Enterprise Data Warehouse,November 2021 - Present  (9 months),Greater Philadelphia Area,Establishes robust and intelligent Enterprise Data Warehouse in highly,complex environments that connect to healthcare organization data across,clinical, academic, research, and operational systems by creating innovation &,business intelligence-driven solutions and versatile data models.,Data Warehouse Architect,November 2018 - November 2021  (3 years 1 month),Greater Philadelphia Area,  Page 1 of 2   ,Senior Data Modeler,September 2015 - November 2018  (3 years 3 months),Greater Philadelphia Area,Swansee Group,IT Director / Business Intelligence Consultant,July 2014 - September 2015  (1 year 3 months),Swansee Group is an IT Solutions and Services company that specializes in,Business Intelligence, Data Analytics, and Data Management.,Skyworth TTG,6 years 8 months,Director of Global Professional Services,January 2013 - February 2014  (1 year 2 months),Skyworth TTG is a global IT security company which specializes in the,technologies used between organizations to enable secure, open and robust,business corporation.,Director of Professional Services, China,April 2010 - January 2013  (2 years 10 months),Delivery Manager,July 2007 - March 2010  (2 years 9 months),IBM,IT Specialist,December 2005 - July 2007  (1 year 8 months),Education,University of Bristol,Master’s Degree, Computer Science,Beijing Technology and Business University,Bachelor’s Degree, Mechanical Engineering and Automation,  Page 2 of 2,\n",
      "\n",
      "Phrase --> Predicted Entity\n",
      "\n",
      ",Contact,www.linkedin.com/in/bikram-,adhikari-61716b240  (LinkedIn) Bikram Adhikari,Network Operations Center Engineer at Vianet Communications,Kathmandu, Bāgmatī, Nepal,Experience,Vianet Communications,Network Operations Center Engineer,Education,Purbanchal Vishwavidalaya,Bachelor in Information Technology, Information Technology  · (December,2011 - December 2015 --> WORKED AS\n",
      "),  Page 1 of 1,    ,Contact,www.linkedin.com/in/bipin-,rai-0821a1201  (LinkedIn),Top Skills,JavaScript,Project Management,English Bipin --> WORKED AS\n",
      "Rai,Full Stack Developer | React JS | Node JS,Kathmandu,Experience,Scrypt Spider,Frontend Web Developer,July 2021 - Present  (1 year 1 month),Kathmandu, Bāgmatī, Nepal,Education,Vedas College,Bachelor's, Computer Science  · (2016 - 2021),  Page 1 of 1,    ,Contact,www.linkedin.com/in/suresh-,tamang-6636b4134  (LinkedIn),Top Skills,React.js,React Native,laravel Suresh Tamang,React | React Native | Blockchain Enthusiast |,Nepal,Summary,I love to accept challenges and learn new technology that help to,solve the problem of society. --> DEGREE\n",
      "I love to keep update according to,technology in society --> CERTIFICATION\n",
      "blockchain and AI.,Experience,Yojana Technologies,React Native Developer --> CERTIFICATION\n",
      ",February 2020 - Present  (2 years 6 months),Lalitpur, Bāgmatī, Nepal,Kasumok Co., Ltd.,Mobile Application Developer,July 2019 - January 2020  (7 months),Nepal,PolicyNepal,Programmer,April 2018 - July 2019  (1 year 4 months),kathmandu,Education,Morgan College Kathmandu,Bachelor's degree, BIM  · (2013 - 2015),  Page 1 of 1, --> DEGREE\n",
      ",Contact,www.linkedin.com/in/,kaushalrmishra  (LinkedIn),Top Skills,Python,C++,Machine Learning,Certifications, --> CERTIFICATION\n",
      "Using Python to Access Web Data,Using Databases with Python,Convolutional Neural Networks,Introduction to Deep Learning,Matrix Algebra for Engineers,Publications,Nepali Speech Recognition using,CNN and Sequence Models,Encoder decoder based nepali news,headline generation Kaushal Raj Mishra,Machine Learning Engineer Looking For New Job Opportunities,Kathmandu,Summary,An enthusisatic learner: willing to learn anything that I find intriguing.,Currently --> CERTIFICATION\n",
      "working in Machine Learning and Artificial Intelligence.,Experience,Freelance,Machine Learning Engineer, --> WORKED AS\n",
      "April 2022 - Present  (4 months),Fusemachines,2 years 4 months,Machine Learning --> YEARS OF EXPERIENCE\n",
      "February 2021 - May 2022  (1 year 4 months),Kathmandu, --> YEARS OF EXPERIENCE\n",
      "Bāgmatī, Nepal,Machine --> COLLEGE NAME\n",
      "February 2020 - February 2021  (1 year 1 month),Kathmandu, Nepal,Deerwalk Inc.,Software Intern, --> YEARS OF EXPERIENCE\n",
      "January 2019 - September 2019  (9 months),Nepal,Education,Pulchowk Campus,Bachelor --> YEARS OF EXPERIENCE\n",
      "of Engineering - BE, Electronics and Communication,Engineering  · (2015 - 2019),NAAMII Winter AI School 2019,Computer Science  · (2018 - 2019),  Page 1 of 1,    ,Contact,www.linkedin.com/in/zhenmo,(LinkedIn),Top Skills,Project Management,PMP,Business Intelligence,Certifications,Access Data Model Certification,Clarity Data Model Certification,Project Management Professional,(PMP),Certified Information Systems,Auditor (CISA),Caboodle Data Model Certification Zhen M.,Manager of Enterprise Data Warehouse at Thomas Jefferson,University / Jefferson Health,Philadelphia, Pennsylvania, United States,Summary,IT Professional with extensive experience in technology,management and proven ability to align technical solutions with,business goals in complex and large-scale organizations worldwide, --> DEGREE\n",
      "Strong in professional services, project management, technical,leadership, data analytics, development, and issue resolution in,working in international environments with efficient communications,skills.,Specialties: Cloud Transformation, Data Warehousing, Data,Engineering, Data Analytics, Business Intelligence, Project,Management, Professional Services, Resource Management,,Integration, and Identity & Access Management etc.,Certified by PMI and has an active PMP credential.,Certified by ISACA and has an active CISA designation.,Experience,Thomas Jefferson University Hospitals,6 years 11 months,Manager of Enterprise Data Warehouse, --> CERTIFICATION\n",
      "November 2021 - Present  (9 months),Greater Philadelphia Area, --> YEARS OF EXPERIENCE\n",
      "Establishes robust and intelligent Enterprise Data Warehouse in highly,complex environments that connect to healthcare organization data across,clinical, academic, research, and operational systems by creating innovation &,business intelligence-driven solutions and versatile data models --> CERTIFICATION\n",
      ",Data Warehouse Architect,November 2018 - November 2021  (3 years 1 month),Greater Philadelphia Area,  Page 1 of 2   ,Senior Data Modeler,September 2015 - November 2018  (3 years 3 months),Greater Philadelphia Area,Swansee Group,IT Director / Business Intelligence Consultant,July 2014 - September 2015  (1 year 3 months),Swansee Group is an IT Solutions and Services company that specializes in,Business Intelligence, Data Analytics, and Data Management. --> WORKED AS\n",
      "TTG,6 years 8 months, --> YEARS OF EXPERIENCE\n",
      "Director of Global Professional Services, --> WORKED AS\n",
      "January 2013 - February 2014  (1 year 2 months),Skyworth --> YEARS OF EXPERIENCE\n",
      "a global IT security company which specializes in the,technologies used between organizations to enable secure, open and robust,business corporation.,Director of Professional Services, China, --> WORKED AS\n",
      "April 2010 - January 2013  (2 years 10 months),Delivery Manager,July 2007 - March 2010  (2 years 9 months),IBM,IT Specialist, --> YEARS OF EXPERIENCE\n",
      "December 2005 - July 2007  (1 year 8 months),Education,University of Bristol,Master’s Degree, Computer Science,Beijing Technology and Business University,Bachelor’s Degree, Mechanical Engineering and Automation,  Page 2 of 2, --> YEARS OF EXPERIENCE\n"
     ]
    }
   ],
   "source": [
    "# Looking into one particular samples from the ground truth of the validation set\n",
    "ground = samples_test[0]\n",
    "print(ground)\n",
    "print()\n",
    "\n",
    "pred = nlp_ner(ground['text'])\n",
    "print(pred)\n",
    "\n",
    "print('\\nPhrase --> Predicted Entity\\n')\n",
    "for ent in pred.ents:\n",
    "  print(ent.text, '-->', ent.label_)"
   ]
  },
  {
   "cell_type": "code",
   "execution_count": 29,
   "metadata": {
    "colab": {
     "base_uri": "https://localhost:8080/",
     "height": 1000
    },
    "id": "9wk6-7lNqTcR",
    "outputId": "c09a9ff6-a814-4bcf-c148-6bdefbbe9603"
   },
   "outputs": [
    {
     "name": "stdout",
     "output_type": "stream",
     "text": [
      "\n",
      "########### Prediction ###########\n",
      "\n"
     ]
    },
    {
     "data": {
      "text/html": [
       "<span class=\"tex2jax_ignore\"><div class=\"entities\" style=\"line-height: 2.5; direction: ltr\">   \n",
       "<mark class=\"entity\" style=\"background: #0D9CB4; padding: 0.45em 0.6em; margin: 0 0.25em; line-height: 1; border-radius: 0.35em;\">\n",
       "    ,Contact,www.linkedin.com/in/bikram-,adhikari-61716b240  (LinkedIn) Bikram Adhikari,Network Operations Center Engineer at Vianet Communications,Kathmandu, Bāgmatī, Nepal,Experience,Vianet Communications,Network Operations Center Engineer,Education,Purbanchal Vishwavidalaya,Bachelor in Information Technology, Information Technology  · (December,2011 - December 2015\n",
       "    <span style=\"font-size: 0.8em; font-weight: bold; line-height: 1; border-radius: 0.35em; vertical-align: middle; margin-left: 0.5rem\">WORKED AS</span>\n",
       "</mark>\n",
       "\n",
       "<mark class=\"entity\" style=\"background: #0D9CB4; padding: 0.45em 0.6em; margin: 0 0.25em; line-height: 1; border-radius: 0.35em;\">\n",
       "    ),  Page 1 of 1,    ,Contact,www.linkedin.com/in/bipin-,rai-0821a1201  (LinkedIn),Top Skills,JavaScript,Project Management,English Bipin\n",
       "    <span style=\"font-size: 0.8em; font-weight: bold; line-height: 1; border-radius: 0.35em; vertical-align: middle; margin-left: 0.5rem\">WORKED AS</span>\n",
       "</mark>\n",
       " \n",
       "<mark class=\"entity\" style=\"background: #0D350E; padding: 0.45em 0.6em; margin: 0 0.25em; line-height: 1; border-radius: 0.35em;\">\n",
       "    Rai,Full Stack Developer | React JS | Node JS,Kathmandu,Experience,Scrypt Spider,Frontend Web Developer,July 2021 - Present  (1 year 1 month),Kathmandu, Bāgmatī, Nepal,Education,Vedas College,Bachelor's, Computer Science  · (2016 - 2021),  Page 1 of 1,    ,Contact,www.linkedin.com/in/suresh-,tamang-6636b4134  (LinkedIn),Top Skills,React.js,React Native,laravel Suresh Tamang,React | React Native | Blockchain Enthusiast |,Nepal,Summary,I love to accept challenges and learn new technology that help to,solve the problem of society.\n",
       "    <span style=\"font-size: 0.8em; font-weight: bold; line-height: 1; border-radius: 0.35em; vertical-align: middle; margin-left: 0.5rem\">DEGREE</span>\n",
       "</mark>\n",
       " \n",
       "<mark class=\"entity\" style=\"background: #1AA436; padding: 0.45em 0.6em; margin: 0 0.25em; line-height: 1; border-radius: 0.35em;\">\n",
       "    I love to keep update according to,technology in society\n",
       "    <span style=\"font-size: 0.8em; font-weight: bold; line-height: 1; border-radius: 0.35em; vertical-align: middle; margin-left: 0.5rem\">CERTIFICATION</span>\n",
       "</mark>\n",
       " like \n",
       "<mark class=\"entity\" style=\"background: #1AA436; padding: 0.45em 0.6em; margin: 0 0.25em; line-height: 1; border-radius: 0.35em;\">\n",
       "    blockchain and AI.,Experience,Yojana Technologies,React Native Developer\n",
       "    <span style=\"font-size: 0.8em; font-weight: bold; line-height: 1; border-radius: 0.35em; vertical-align: middle; margin-left: 0.5rem\">CERTIFICATION</span>\n",
       "</mark>\n",
       "\n",
       "<mark class=\"entity\" style=\"background: #0D350E; padding: 0.45em 0.6em; margin: 0 0.25em; line-height: 1; border-radius: 0.35em;\">\n",
       "    ,February 2020 - Present  (2 years 6 months),Lalitpur, Bāgmatī, Nepal,Kasumok Co., Ltd.,Mobile Application Developer,July 2019 - January 2020  (7 months),Nepal,PolicyNepal,Programmer,April 2018 - July 2019  (1 year 4 months),kathmandu,Education,Morgan College Kathmandu,Bachelor's degree, BIM  · (2013 - 2015),  Page 1 of 1,\n",
       "    <span style=\"font-size: 0.8em; font-weight: bold; line-height: 1; border-radius: 0.35em; vertical-align: middle; margin-left: 0.5rem\">DEGREE</span>\n",
       "</mark>\n",
       "    \n",
       "<mark class=\"entity\" style=\"background: #1AA436; padding: 0.45em 0.6em; margin: 0 0.25em; line-height: 1; border-radius: 0.35em;\">\n",
       "    ,Contact,www.linkedin.com/in/,kaushalrmishra  (LinkedIn),Top Skills,Python,C++,Machine Learning,Certifications,\n",
       "    <span style=\"font-size: 0.8em; font-weight: bold; line-height: 1; border-radius: 0.35em; vertical-align: middle; margin-left: 0.5rem\">CERTIFICATION</span>\n",
       "</mark>\n",
       "\n",
       "<mark class=\"entity\" style=\"background: #1AA436; padding: 0.45em 0.6em; margin: 0 0.25em; line-height: 1; border-radius: 0.35em;\">\n",
       "    Using Python to Access Web Data,Using Databases with Python,Convolutional Neural Networks,Introduction to Deep Learning,Matrix Algebra for Engineers,Publications,Nepali Speech Recognition using,CNN and Sequence Models,Encoder decoder based nepali news,headline generation Kaushal Raj Mishra,Machine Learning Engineer Looking For New Job Opportunities,Kathmandu,Summary,An enthusisatic learner: willing to learn anything that I find intriguing.,Currently\n",
       "    <span style=\"font-size: 0.8em; font-weight: bold; line-height: 1; border-radius: 0.35em; vertical-align: middle; margin-left: 0.5rem\">CERTIFICATION</span>\n",
       "</mark>\n",
       " \n",
       "<mark class=\"entity\" style=\"background: #0D9CB4; padding: 0.45em 0.6em; margin: 0 0.25em; line-height: 1; border-radius: 0.35em;\">\n",
       "    working in Machine Learning and Artificial Intelligence.,Experience,Freelance,Machine Learning Engineer,\n",
       "    <span style=\"font-size: 0.8em; font-weight: bold; line-height: 1; border-radius: 0.35em; vertical-align: middle; margin-left: 0.5rem\">WORKED AS</span>\n",
       "</mark>\n",
       "\n",
       "<mark class=\"entity\" style=\"background: #5813C7; padding: 0.45em 0.6em; margin: 0 0.25em; line-height: 1; border-radius: 0.35em;\">\n",
       "    April 2022 - Present  (4 months),Fusemachines,2 years 4 months,Machine Learning\n",
       "    <span style=\"font-size: 0.8em; font-weight: bold; line-height: 1; border-radius: 0.35em; vertical-align: middle; margin-left: 0.5rem\">YEARS OF EXPERIENCE</span>\n",
       "</mark>\n",
       " Engineer,\n",
       "<mark class=\"entity\" style=\"background: #5813C7; padding: 0.45em 0.6em; margin: 0 0.25em; line-height: 1; border-radius: 0.35em;\">\n",
       "    February 2021 - May 2022  (1 year 4 months),Kathmandu,\n",
       "    <span style=\"font-size: 0.8em; font-weight: bold; line-height: 1; border-radius: 0.35em; vertical-align: middle; margin-left: 0.5rem\">YEARS OF EXPERIENCE</span>\n",
       "</mark>\n",
       " \n",
       "<mark class=\"entity\" style=\"background: orange; padding: 0.45em 0.6em; margin: 0 0.25em; line-height: 1; border-radius: 0.35em;\">\n",
       "    Bāgmatī, Nepal,Machine\n",
       "    <span style=\"font-size: 0.8em; font-weight: bold; line-height: 1; border-radius: 0.35em; vertical-align: middle; margin-left: 0.5rem\">COLLEGE NAME</span>\n",
       "</mark>\n",
       " Learning Engineer Associate,\n",
       "<mark class=\"entity\" style=\"background: #5813C7; padding: 0.45em 0.6em; margin: 0 0.25em; line-height: 1; border-radius: 0.35em;\">\n",
       "    February 2020 - February 2021  (1 year 1 month),Kathmandu, Nepal,Deerwalk Inc.,Software Intern,\n",
       "    <span style=\"font-size: 0.8em; font-weight: bold; line-height: 1; border-radius: 0.35em; vertical-align: middle; margin-left: 0.5rem\">YEARS OF EXPERIENCE</span>\n",
       "</mark>\n",
       "\n",
       "<mark class=\"entity\" style=\"background: #5813C7; padding: 0.45em 0.6em; margin: 0 0.25em; line-height: 1; border-radius: 0.35em;\">\n",
       "    January 2019 - September 2019  (9 months),Nepal,Education,Pulchowk Campus,Bachelor\n",
       "    <span style=\"font-size: 0.8em; font-weight: bold; line-height: 1; border-radius: 0.35em; vertical-align: middle; margin-left: 0.5rem\">YEARS OF EXPERIENCE</span>\n",
       "</mark>\n",
       " \n",
       "<mark class=\"entity\" style=\"background: #0D350E; padding: 0.45em 0.6em; margin: 0 0.25em; line-height: 1; border-radius: 0.35em;\">\n",
       "    of Engineering - BE, Electronics and Communication,Engineering  · (2015 - 2019),NAAMII Winter AI School 2019,Computer Science  · (2018 - 2019),  Page 1 of 1,    ,Contact,www.linkedin.com/in/zhenmo,(LinkedIn),Top Skills,Project Management,PMP,Business Intelligence,Certifications,Access Data Model Certification,Clarity Data Model Certification,Project Management Professional,(PMP),Certified Information Systems,Auditor (CISA),Caboodle Data Model Certification Zhen M.,Manager of Enterprise Data Warehouse at Thomas Jefferson,University / Jefferson Health,Philadelphia, Pennsylvania, United States,Summary,IT Professional with extensive experience in technology,management and proven ability to align technical solutions with,business goals in complex and large-scale organizations worldwide,\n",
       "    <span style=\"font-size: 0.8em; font-weight: bold; line-height: 1; border-radius: 0.35em; vertical-align: middle; margin-left: 0.5rem\">DEGREE</span>\n",
       "</mark>\n",
       "\n",
       "<mark class=\"entity\" style=\"background: #1AA436; padding: 0.45em 0.6em; margin: 0 0.25em; line-height: 1; border-radius: 0.35em;\">\n",
       "    Strong in professional services, project management, technical,leadership, data analytics, development, and issue resolution in,working in international environments with efficient communications,skills.,Specialties: Cloud Transformation, Data Warehousing, Data,Engineering, Data Analytics, Business Intelligence, Project,Management, Professional Services, Resource Management,,Integration, and Identity &amp; Access Management etc.,Certified by PMI and has an active PMP credential.,Certified by ISACA and has an active CISA designation.,Experience,Thomas Jefferson University Hospitals,6 years 11 months,Manager of Enterprise Data Warehouse,\n",
       "    <span style=\"font-size: 0.8em; font-weight: bold; line-height: 1; border-radius: 0.35em; vertical-align: middle; margin-left: 0.5rem\">CERTIFICATION</span>\n",
       "</mark>\n",
       "\n",
       "<mark class=\"entity\" style=\"background: #5813C7; padding: 0.45em 0.6em; margin: 0 0.25em; line-height: 1; border-radius: 0.35em;\">\n",
       "    November 2021 - Present  (9 months),Greater Philadelphia Area,\n",
       "    <span style=\"font-size: 0.8em; font-weight: bold; line-height: 1; border-radius: 0.35em; vertical-align: middle; margin-left: 0.5rem\">YEARS OF EXPERIENCE</span>\n",
       "</mark>\n",
       "\n",
       "<mark class=\"entity\" style=\"background: #1AA436; padding: 0.45em 0.6em; margin: 0 0.25em; line-height: 1; border-radius: 0.35em;\">\n",
       "    Establishes robust and intelligent Enterprise Data Warehouse in highly,complex environments that connect to healthcare organization data across,clinical, academic, research, and operational systems by creating innovation &amp;,business intelligence-driven solutions and versatile data models\n",
       "    <span style=\"font-size: 0.8em; font-weight: bold; line-height: 1; border-radius: 0.35em; vertical-align: middle; margin-left: 0.5rem\">CERTIFICATION</span>\n",
       "</mark>\n",
       ".\n",
       "<mark class=\"entity\" style=\"background: #0D9CB4; padding: 0.45em 0.6em; margin: 0 0.25em; line-height: 1; border-radius: 0.35em;\">\n",
       "    ,Data Warehouse Architect,November 2018 - November 2021  (3 years 1 month),Greater Philadelphia Area,  Page 1 of 2   ,Senior Data Modeler,September 2015 - November 2018  (3 years 3 months),Greater Philadelphia Area,Swansee Group,IT Director / Business Intelligence Consultant,July 2014 - September 2015  (1 year 3 months),Swansee Group is an IT Solutions and Services company that specializes in,Business Intelligence, Data Analytics, and Data Management.\n",
       "    <span style=\"font-size: 0.8em; font-weight: bold; line-height: 1; border-radius: 0.35em; vertical-align: middle; margin-left: 0.5rem\">WORKED AS</span>\n",
       "</mark>\n",
       ",Skyworth \n",
       "<mark class=\"entity\" style=\"background: #5813C7; padding: 0.45em 0.6em; margin: 0 0.25em; line-height: 1; border-radius: 0.35em;\">\n",
       "    TTG,6 years 8 months,\n",
       "    <span style=\"font-size: 0.8em; font-weight: bold; line-height: 1; border-radius: 0.35em; vertical-align: middle; margin-left: 0.5rem\">YEARS OF EXPERIENCE</span>\n",
       "</mark>\n",
       "\n",
       "<mark class=\"entity\" style=\"background: #0D9CB4; padding: 0.45em 0.6em; margin: 0 0.25em; line-height: 1; border-radius: 0.35em;\">\n",
       "    Director of Global Professional Services,\n",
       "    <span style=\"font-size: 0.8em; font-weight: bold; line-height: 1; border-radius: 0.35em; vertical-align: middle; margin-left: 0.5rem\">WORKED AS</span>\n",
       "</mark>\n",
       "\n",
       "<mark class=\"entity\" style=\"background: #5813C7; padding: 0.45em 0.6em; margin: 0 0.25em; line-height: 1; border-radius: 0.35em;\">\n",
       "    January 2013 - February 2014  (1 year 2 months),Skyworth\n",
       "    <span style=\"font-size: 0.8em; font-weight: bold; line-height: 1; border-radius: 0.35em; vertical-align: middle; margin-left: 0.5rem\">YEARS OF EXPERIENCE</span>\n",
       "</mark>\n",
       " TTG is \n",
       "<mark class=\"entity\" style=\"background: #0D9CB4; padding: 0.45em 0.6em; margin: 0 0.25em; line-height: 1; border-radius: 0.35em;\">\n",
       "    a global IT security company which specializes in the,technologies used between organizations to enable secure, open and robust,business corporation.,Director of Professional Services, China,\n",
       "    <span style=\"font-size: 0.8em; font-weight: bold; line-height: 1; border-radius: 0.35em; vertical-align: middle; margin-left: 0.5rem\">WORKED AS</span>\n",
       "</mark>\n",
       "\n",
       "<mark class=\"entity\" style=\"background: #5813C7; padding: 0.45em 0.6em; margin: 0 0.25em; line-height: 1; border-radius: 0.35em;\">\n",
       "    April 2010 - January 2013  (2 years 10 months),Delivery Manager,July 2007 - March 2010  (2 years 9 months),IBM,IT Specialist,\n",
       "    <span style=\"font-size: 0.8em; font-weight: bold; line-height: 1; border-radius: 0.35em; vertical-align: middle; margin-left: 0.5rem\">YEARS OF EXPERIENCE</span>\n",
       "</mark>\n",
       "\n",
       "<mark class=\"entity\" style=\"background: #5813C7; padding: 0.45em 0.6em; margin: 0 0.25em; line-height: 1; border-radius: 0.35em;\">\n",
       "    December 2005 - July 2007  (1 year 8 months),Education,University of Bristol,Master’s Degree, Computer Science,Beijing Technology and Business University,Bachelor’s Degree, Mechanical Engineering and Automation,  Page 2 of 2,\n",
       "    <span style=\"font-size: 0.8em; font-weight: bold; line-height: 1; border-radius: 0.35em; vertical-align: middle; margin-left: 0.5rem\">YEARS OF EXPERIENCE</span>\n",
       "</mark>\n",
       "</div></span>"
      ],
      "text/plain": [
       "<IPython.core.display.HTML object>"
      ]
     },
     "metadata": {},
     "output_type": "display_data"
    },
    {
     "name": "stdout",
     "output_type": "stream",
     "text": [
      "\n",
      "########### Ground Truth ###########\n",
      "\n"
     ]
    },
    {
     "data": {
      "text/html": [
       "<span class=\"tex2jax_ignore\"><div class=\"entities\" style=\"line-height: 2.5; direction: ltr\">   ,Contact,www.linkedin.com/in/bikram-,adhikari-61716b240  (LinkedIn) \n",
       "<mark class=\"entity\" style=\"background: yellow; padding: 0.45em 0.6em; margin: 0 0.25em; line-height: 1; border-radius: 0.35em;\">\n",
       "    Bikram Adhikari\n",
       "    <span style=\"font-size: 0.8em; font-weight: bold; line-height: 1; border-radius: 0.35em; vertical-align: middle; margin-left: 0.5rem\">NAME</span>\n",
       "</mark>\n",
       ",\n",
       "<mark class=\"entity\" style=\"background: #008000; padding: 0.45em 0.6em; margin: 0 0.25em; line-height: 1; border-radius: 0.35em;\">\n",
       "    Network Operations Center Engineer\n",
       "    <span style=\"font-size: 0.8em; font-weight: bold; line-height: 1; border-radius: 0.35em; vertical-align: middle; margin-left: 0.5rem\">SKILLS</span>\n",
       "</mark>\n",
       " at Vianet Communications,\n",
       "<mark class=\"entity\" style=\"background: white; padding: 0.45em 0.6em; margin: 0 0.25em; line-height: 1; border-radius: 0.35em;\">\n",
       "    Kathmandu, Bāgmatī, Nepal\n",
       "    <span style=\"font-size: 0.8em; font-weight: bold; line-height: 1; border-radius: 0.35em; vertical-align: middle; margin-left: 0.5rem\">LOCATION</span>\n",
       "</mark>\n",
       ",Experience,\n",
       "<mark class=\"entity\" style=\"background: #BADCA1; padding: 0.45em 0.6em; margin: 0 0.25em; line-height: 1; border-radius: 0.35em;\">\n",
       "    Vianet Communications\n",
       "    <span style=\"font-size: 0.8em; font-weight: bold; line-height: 1; border-radius: 0.35em; vertical-align: middle; margin-left: 0.5rem\">COMPANIES WORKED AT</span>\n",
       "</mark>\n",
       ",\n",
       "<mark class=\"entity\" style=\"background: #0D9CB4; padding: 0.45em 0.6em; margin: 0 0.25em; line-height: 1; border-radius: 0.35em;\">\n",
       "    Network Operations Center Engineer\n",
       "    <span style=\"font-size: 0.8em; font-weight: bold; line-height: 1; border-radius: 0.35em; vertical-align: middle; margin-left: 0.5rem\">WORKED AS</span>\n",
       "</mark>\n",
       ",Education,\n",
       "<mark class=\"entity\" style=\"background: #1AE0F9; padding: 0.45em 0.6em; margin: 0 0.25em; line-height: 1; border-radius: 0.35em;\">\n",
       "    Purbanchal Vishwavidalaya\n",
       "    <span style=\"font-size: 0.8em; font-weight: bold; line-height: 1; border-radius: 0.35em; vertical-align: middle; margin-left: 0.5rem\">UNIVERSITY</span>\n",
       "</mark>\n",
       ",\n",
       "<mark class=\"entity\" style=\"background: #0D350E; padding: 0.45em 0.6em; margin: 0 0.25em; line-height: 1; border-radius: 0.35em;\">\n",
       "    Bachelor in Information Technology, Information Technology\n",
       "    <span style=\"font-size: 0.8em; font-weight: bold; line-height: 1; border-radius: 0.35em; vertical-align: middle; margin-left: 0.5rem\">DEGREE</span>\n",
       "</mark>\n",
       "  · (December,2011 - December 2015),  Page 1 of 1,    ,Contact,www.linkedin.com/in/bipin-,rai-0821a1201  (LinkedIn),Top Skills,\n",
       "<mark class=\"entity\" style=\"background: #008000; padding: 0.45em 0.6em; margin: 0 0.25em; line-height: 1; border-radius: 0.35em;\">\n",
       "    JavaScript\n",
       "    <span style=\"font-size: 0.8em; font-weight: bold; line-height: 1; border-radius: 0.35em; vertical-align: middle; margin-left: 0.5rem\">SKILLS</span>\n",
       "</mark>\n",
       ",\n",
       "<mark class=\"entity\" style=\"background: #008000; padding: 0.45em 0.6em; margin: 0 0.25em; line-height: 1; border-radius: 0.35em;\">\n",
       "    Project Management\n",
       "    <span style=\"font-size: 0.8em; font-weight: bold; line-height: 1; border-radius: 0.35em; vertical-align: middle; margin-left: 0.5rem\">SKILLS</span>\n",
       "</mark>\n",
       ",\n",
       "<mark class=\"entity\" style=\"background: #008000; padding: 0.45em 0.6em; margin: 0 0.25em; line-height: 1; border-radius: 0.35em;\">\n",
       "    English\n",
       "    <span style=\"font-size: 0.8em; font-weight: bold; line-height: 1; border-radius: 0.35em; vertical-align: middle; margin-left: 0.5rem\">SKILLS</span>\n",
       "</mark>\n",
       " \n",
       "<mark class=\"entity\" style=\"background: yellow; padding: 0.45em 0.6em; margin: 0 0.25em; line-height: 1; border-radius: 0.35em;\">\n",
       "    Bipin Rai\n",
       "    <span style=\"font-size: 0.8em; font-weight: bold; line-height: 1; border-radius: 0.35em; vertical-align: middle; margin-left: 0.5rem\">NAME</span>\n",
       "</mark>\n",
       ",\n",
       "<mark class=\"entity\" style=\"background: #008000; padding: 0.45em 0.6em; margin: 0 0.25em; line-height: 1; border-radius: 0.35em;\">\n",
       "    Full Stack Developer\n",
       "    <span style=\"font-size: 0.8em; font-weight: bold; line-height: 1; border-radius: 0.35em; vertical-align: middle; margin-left: 0.5rem\">SKILLS</span>\n",
       "</mark>\n",
       " | \n",
       "<mark class=\"entity\" style=\"background: #008000; padding: 0.45em 0.6em; margin: 0 0.25em; line-height: 1; border-radius: 0.35em;\">\n",
       "    React JS\n",
       "    <span style=\"font-size: 0.8em; font-weight: bold; line-height: 1; border-radius: 0.35em; vertical-align: middle; margin-left: 0.5rem\">SKILLS</span>\n",
       "</mark>\n",
       " | \n",
       "<mark class=\"entity\" style=\"background: #008000; padding: 0.45em 0.6em; margin: 0 0.25em; line-height: 1; border-radius: 0.35em;\">\n",
       "    Node JS\n",
       "    <span style=\"font-size: 0.8em; font-weight: bold; line-height: 1; border-radius: 0.35em; vertical-align: middle; margin-left: 0.5rem\">SKILLS</span>\n",
       "</mark>\n",
       ",\n",
       "<mark class=\"entity\" style=\"background: white; padding: 0.45em 0.6em; margin: 0 0.25em; line-height: 1; border-radius: 0.35em;\">\n",
       "    Kathmandu\n",
       "    <span style=\"font-size: 0.8em; font-weight: bold; line-height: 1; border-radius: 0.35em; vertical-align: middle; margin-left: 0.5rem\">LOCATION</span>\n",
       "</mark>\n",
       ",Experience,\n",
       "<mark class=\"entity\" style=\"background: #BADCA1; padding: 0.45em 0.6em; margin: 0 0.25em; line-height: 1; border-radius: 0.35em;\">\n",
       "    Scrypt Spider\n",
       "    <span style=\"font-size: 0.8em; font-weight: bold; line-height: 1; border-radius: 0.35em; vertical-align: middle; margin-left: 0.5rem\">COMPANIES WORKED AT</span>\n",
       "</mark>\n",
       ",\n",
       "<mark class=\"entity\" style=\"background: #0D9CB4; padding: 0.45em 0.6em; margin: 0 0.25em; line-height: 1; border-radius: 0.35em;\">\n",
       "    Frontend Web Developer\n",
       "    <span style=\"font-size: 0.8em; font-weight: bold; line-height: 1; border-radius: 0.35em; vertical-align: middle; margin-left: 0.5rem\">WORKED AS</span>\n",
       "</mark>\n",
       ",July 2021 - Present  (\n",
       "<mark class=\"entity\" style=\"background: #5813C7; padding: 0.45em 0.6em; margin: 0 0.25em; line-height: 1; border-radius: 0.35em;\">\n",
       "    1 year 1\n",
       "    <span style=\"font-size: 0.8em; font-weight: bold; line-height: 1; border-radius: 0.35em; vertical-align: middle; margin-left: 0.5rem\">YEARS OF EXPERIENCE</span>\n",
       "</mark>\n",
       " month),Kathmandu, Bāgmatī, Nepal,Education,\n",
       "<mark class=\"entity\" style=\"background: orange; padding: 0.45em 0.6em; margin: 0 0.25em; line-height: 1; border-radius: 0.35em;\">\n",
       "    Vedas College\n",
       "    <span style=\"font-size: 0.8em; font-weight: bold; line-height: 1; border-radius: 0.35em; vertical-align: middle; margin-left: 0.5rem\">COLLEGE NAME</span>\n",
       "</mark>\n",
       ",\n",
       "<mark class=\"entity\" style=\"background: #0D350E; padding: 0.45em 0.6em; margin: 0 0.25em; line-height: 1; border-radius: 0.35em;\">\n",
       "    Bachelor's, Computer Science\n",
       "    <span style=\"font-size: 0.8em; font-weight: bold; line-height: 1; border-radius: 0.35em; vertical-align: middle; margin-left: 0.5rem\">DEGREE</span>\n",
       "</mark>\n",
       "  · (2016 - 2021),  Page 1 of 1,    ,Contact,www.linkedin.com/in/suresh-,tamang-6636b4134  (LinkedIn),Top Skills,\n",
       "<mark class=\"entity\" style=\"background: #008000; padding: 0.45em 0.6em; margin: 0 0.25em; line-height: 1; border-radius: 0.35em;\">\n",
       "    React.js\n",
       "    <span style=\"font-size: 0.8em; font-weight: bold; line-height: 1; border-radius: 0.35em; vertical-align: middle; margin-left: 0.5rem\">SKILLS</span>\n",
       "</mark>\n",
       ",\n",
       "<mark class=\"entity\" style=\"background: #008000; padding: 0.45em 0.6em; margin: 0 0.25em; line-height: 1; border-radius: 0.35em;\">\n",
       "    React Native\n",
       "    <span style=\"font-size: 0.8em; font-weight: bold; line-height: 1; border-radius: 0.35em; vertical-align: middle; margin-left: 0.5rem\">SKILLS</span>\n",
       "</mark>\n",
       ",\n",
       "<mark class=\"entity\" style=\"background: #008000; padding: 0.45em 0.6em; margin: 0 0.25em; line-height: 1; border-radius: 0.35em;\">\n",
       "    laravel\n",
       "    <span style=\"font-size: 0.8em; font-weight: bold; line-height: 1; border-radius: 0.35em; vertical-align: middle; margin-left: 0.5rem\">SKILLS</span>\n",
       "</mark>\n",
       " \n",
       "<mark class=\"entity\" style=\"background: yellow; padding: 0.45em 0.6em; margin: 0 0.25em; line-height: 1; border-radius: 0.35em;\">\n",
       "    Suresh Tamang\n",
       "    <span style=\"font-size: 0.8em; font-weight: bold; line-height: 1; border-radius: 0.35em; vertical-align: middle; margin-left: 0.5rem\">NAME</span>\n",
       "</mark>\n",
       ",\n",
       "<mark class=\"entity\" style=\"background: #008000; padding: 0.45em 0.6em; margin: 0 0.25em; line-height: 1; border-radius: 0.35em;\">\n",
       "    React\n",
       "    <span style=\"font-size: 0.8em; font-weight: bold; line-height: 1; border-radius: 0.35em; vertical-align: middle; margin-left: 0.5rem\">SKILLS</span>\n",
       "</mark>\n",
       " | \n",
       "<mark class=\"entity\" style=\"background: #008000; padding: 0.45em 0.6em; margin: 0 0.25em; line-height: 1; border-radius: 0.35em;\">\n",
       "    React Native\n",
       "    <span style=\"font-size: 0.8em; font-weight: bold; line-height: 1; border-radius: 0.35em; vertical-align: middle; margin-left: 0.5rem\">SKILLS</span>\n",
       "</mark>\n",
       " | Blockchain Enthusiast |,Nepal,Summary,I love to accept challenges and learn new technology that help to,solve the problem of society. I love to keep update according to,technology in society like blockchain and AI.,Experience,\n",
       "<mark class=\"entity\" style=\"background: #BADCA1; padding: 0.45em 0.6em; margin: 0 0.25em; line-height: 1; border-radius: 0.35em;\">\n",
       "    Yojana Technologies\n",
       "    <span style=\"font-size: 0.8em; font-weight: bold; line-height: 1; border-radius: 0.35em; vertical-align: middle; margin-left: 0.5rem\">COMPANIES WORKED AT</span>\n",
       "</mark>\n",
       ",\n",
       "<mark class=\"entity\" style=\"background: #0D9CB4; padding: 0.45em 0.6em; margin: 0 0.25em; line-height: 1; border-radius: 0.35em;\">\n",
       "    React Native Developer\n",
       "    <span style=\"font-size: 0.8em; font-weight: bold; line-height: 1; border-radius: 0.35em; vertical-align: middle; margin-left: 0.5rem\">WORKED AS</span>\n",
       "</mark>\n",
       ",February 2020 - Present  (\n",
       "<mark class=\"entity\" style=\"background: #5813C7; padding: 0.45em 0.6em; margin: 0 0.25em; line-height: 1; border-radius: 0.35em;\">\n",
       "    2 years 6\n",
       "    <span style=\"font-size: 0.8em; font-weight: bold; line-height: 1; border-radius: 0.35em; vertical-align: middle; margin-left: 0.5rem\">YEARS OF EXPERIENCE</span>\n",
       "</mark>\n",
       " months),Lalitpur, Bāgmatī, Nepal,\n",
       "<mark class=\"entity\" style=\"background: #BADCA1; padding: 0.45em 0.6em; margin: 0 0.25em; line-height: 1; border-radius: 0.35em;\">\n",
       "    Kasumok Co., Ltd.\n",
       "    <span style=\"font-size: 0.8em; font-weight: bold; line-height: 1; border-radius: 0.35em; vertical-align: middle; margin-left: 0.5rem\">COMPANIES WORKED AT</span>\n",
       "</mark>\n",
       ",Mobile \n",
       "<mark class=\"entity\" style=\"background: #0D9CB4; padding: 0.45em 0.6em; margin: 0 0.25em; line-height: 1; border-radius: 0.35em;\">\n",
       "    Application Developer\n",
       "    <span style=\"font-size: 0.8em; font-weight: bold; line-height: 1; border-radius: 0.35em; vertical-align: middle; margin-left: 0.5rem\">WORKED AS</span>\n",
       "</mark>\n",
       ",July 2019 - January 2020  (\n",
       "<mark class=\"entity\" style=\"background: #5813C7; padding: 0.45em 0.6em; margin: 0 0.25em; line-height: 1; border-radius: 0.35em;\">\n",
       "    7\n",
       "    <span style=\"font-size: 0.8em; font-weight: bold; line-height: 1; border-radius: 0.35em; vertical-align: middle; margin-left: 0.5rem\">YEARS OF EXPERIENCE</span>\n",
       "</mark>\n",
       " months),Nepal,\n",
       "<mark class=\"entity\" style=\"background: #BADCA1; padding: 0.45em 0.6em; margin: 0 0.25em; line-height: 1; border-radius: 0.35em;\">\n",
       "    PolicyNepal\n",
       "    <span style=\"font-size: 0.8em; font-weight: bold; line-height: 1; border-radius: 0.35em; vertical-align: middle; margin-left: 0.5rem\">COMPANIES WORKED AT</span>\n",
       "</mark>\n",
       ",\n",
       "<mark class=\"entity\" style=\"background: #0D9CB4; padding: 0.45em 0.6em; margin: 0 0.25em; line-height: 1; border-radius: 0.35em;\">\n",
       "    Programmer\n",
       "    <span style=\"font-size: 0.8em; font-weight: bold; line-height: 1; border-radius: 0.35em; vertical-align: middle; margin-left: 0.5rem\">WORKED AS</span>\n",
       "</mark>\n",
       ",April 2018 - July 2019  (\n",
       "<mark class=\"entity\" style=\"background: #5813C7; padding: 0.45em 0.6em; margin: 0 0.25em; line-height: 1; border-radius: 0.35em;\">\n",
       "    1 year 4\n",
       "    <span style=\"font-size: 0.8em; font-weight: bold; line-height: 1; border-radius: 0.35em; vertical-align: middle; margin-left: 0.5rem\">YEARS OF EXPERIENCE</span>\n",
       "</mark>\n",
       " months),kathmandu,Education,\n",
       "<mark class=\"entity\" style=\"background: orange; padding: 0.45em 0.6em; margin: 0 0.25em; line-height: 1; border-radius: 0.35em;\">\n",
       "    Morgan College Kathmandu\n",
       "    <span style=\"font-size: 0.8em; font-weight: bold; line-height: 1; border-radius: 0.35em; vertical-align: middle; margin-left: 0.5rem\">COLLEGE NAME</span>\n",
       "</mark>\n",
       ",\n",
       "<mark class=\"entity\" style=\"background: #0D350E; padding: 0.45em 0.6em; margin: 0 0.25em; line-height: 1; border-radius: 0.35em;\">\n",
       "    Bachelor's degree, BIM\n",
       "    <span style=\"font-size: 0.8em; font-weight: bold; line-height: 1; border-radius: 0.35em; vertical-align: middle; margin-left: 0.5rem\">DEGREE</span>\n",
       "</mark>\n",
       "  · (2013 - 2015),  Page 1 of 1,    ,Contact,www.linkedin.com/in/,kaushalrmishra  (LinkedIn),Top Skills,\n",
       "<mark class=\"entity\" style=\"background: #008000; padding: 0.45em 0.6em; margin: 0 0.25em; line-height: 1; border-radius: 0.35em;\">\n",
       "    Python\n",
       "    <span style=\"font-size: 0.8em; font-weight: bold; line-height: 1; border-radius: 0.35em; vertical-align: middle; margin-left: 0.5rem\">SKILLS</span>\n",
       "</mark>\n",
       ",C++,Machine \n",
       "<mark class=\"entity\" style=\"background: #008000; padding: 0.45em 0.6em; margin: 0 0.25em; line-height: 1; border-radius: 0.35em;\">\n",
       "    Learning\n",
       "    <span style=\"font-size: 0.8em; font-weight: bold; line-height: 1; border-radius: 0.35em; vertical-align: middle; margin-left: 0.5rem\">SKILLS</span>\n",
       "</mark>\n",
       ",Certifications,\n",
       "<mark class=\"entity\" style=\"background: #1AA436; padding: 0.45em 0.6em; margin: 0 0.25em; line-height: 1; border-radius: 0.35em;\">\n",
       "    Using Python to Access Web Data\n",
       "    <span style=\"font-size: 0.8em; font-weight: bold; line-height: 1; border-radius: 0.35em; vertical-align: middle; margin-left: 0.5rem\">CERTIFICATION</span>\n",
       "</mark>\n",
       ",\n",
       "<mark class=\"entity\" style=\"background: #1AA436; padding: 0.45em 0.6em; margin: 0 0.25em; line-height: 1; border-radius: 0.35em;\">\n",
       "    Using Databases with Python\n",
       "    <span style=\"font-size: 0.8em; font-weight: bold; line-height: 1; border-radius: 0.35em; vertical-align: middle; margin-left: 0.5rem\">CERTIFICATION</span>\n",
       "</mark>\n",
       ",\n",
       "<mark class=\"entity\" style=\"background: #1AA436; padding: 0.45em 0.6em; margin: 0 0.25em; line-height: 1; border-radius: 0.35em;\">\n",
       "    Convolutional Neural Networks\n",
       "    <span style=\"font-size: 0.8em; font-weight: bold; line-height: 1; border-radius: 0.35em; vertical-align: middle; margin-left: 0.5rem\">CERTIFICATION</span>\n",
       "</mark>\n",
       ",\n",
       "<mark class=\"entity\" style=\"background: #1AA436; padding: 0.45em 0.6em; margin: 0 0.25em; line-height: 1; border-radius: 0.35em;\">\n",
       "    Introduction to Deep Learning\n",
       "    <span style=\"font-size: 0.8em; font-weight: bold; line-height: 1; border-radius: 0.35em; vertical-align: middle; margin-left: 0.5rem\">CERTIFICATION</span>\n",
       "</mark>\n",
       ",\n",
       "<mark class=\"entity\" style=\"background: #1AA436; padding: 0.45em 0.6em; margin: 0 0.25em; line-height: 1; border-radius: 0.35em;\">\n",
       "    Matrix Algebra for Engineers\n",
       "    <span style=\"font-size: 0.8em; font-weight: bold; line-height: 1; border-radius: 0.35em; vertical-align: middle; margin-left: 0.5rem\">CERTIFICATION</span>\n",
       "</mark>\n",
       ",Publications,Nepali Speech Recognition using,CNN and Sequence Models,Encoder decoder based nepali news,headline generation \n",
       "<mark class=\"entity\" style=\"background: yellow; padding: 0.45em 0.6em; margin: 0 0.25em; line-height: 1; border-radius: 0.35em;\">\n",
       "    Kaushal Raj Mishra\n",
       "    <span style=\"font-size: 0.8em; font-weight: bold; line-height: 1; border-radius: 0.35em; vertical-align: middle; margin-left: 0.5rem\">NAME</span>\n",
       "</mark>\n",
       ",\n",
       "<mark class=\"entity\" style=\"background: #008000; padding: 0.45em 0.6em; margin: 0 0.25em; line-height: 1; border-radius: 0.35em;\">\n",
       "    Machine Learning Engineer\n",
       "    <span style=\"font-size: 0.8em; font-weight: bold; line-height: 1; border-radius: 0.35em; vertical-align: middle; margin-left: 0.5rem\">SKILLS</span>\n",
       "</mark>\n",
       " Looking For New Job Opportunities,\n",
       "<mark class=\"entity\" style=\"background: white; padding: 0.45em 0.6em; margin: 0 0.25em; line-height: 1; border-radius: 0.35em;\">\n",
       "    Kathmandu\n",
       "    <span style=\"font-size: 0.8em; font-weight: bold; line-height: 1; border-radius: 0.35em; vertical-align: middle; margin-left: 0.5rem\">LOCATION</span>\n",
       "</mark>\n",
       ",Summary,An enthusisatic learner: willing to learn anything that I find intriguing.,Currently working in Machine Learning and Artificial Intelligence.,Experience,\n",
       "<mark class=\"entity\" style=\"background: #BADCA1; padding: 0.45em 0.6em; margin: 0 0.25em; line-height: 1; border-radius: 0.35em;\">\n",
       "    Freelance\n",
       "    <span style=\"font-size: 0.8em; font-weight: bold; line-height: 1; border-radius: 0.35em; vertical-align: middle; margin-left: 0.5rem\">COMPANIES WORKED AT</span>\n",
       "</mark>\n",
       ",\n",
       "<mark class=\"entity\" style=\"background: #0D9CB4; padding: 0.45em 0.6em; margin: 0 0.25em; line-height: 1; border-radius: 0.35em;\">\n",
       "    Machine Learning Engineer\n",
       "    <span style=\"font-size: 0.8em; font-weight: bold; line-height: 1; border-radius: 0.35em; vertical-align: middle; margin-left: 0.5rem\">WORKED AS</span>\n",
       "</mark>\n",
       ",April 2022 - Present  (\n",
       "<mark class=\"entity\" style=\"background: #5813C7; padding: 0.45em 0.6em; margin: 0 0.25em; line-height: 1; border-radius: 0.35em;\">\n",
       "    4\n",
       "    <span style=\"font-size: 0.8em; font-weight: bold; line-height: 1; border-radius: 0.35em; vertical-align: middle; margin-left: 0.5rem\">YEARS OF EXPERIENCE</span>\n",
       "</mark>\n",
       " months),Fusemachines,2 years 4 months,\n",
       "<mark class=\"entity\" style=\"background: #0D9CB4; padding: 0.45em 0.6em; margin: 0 0.25em; line-height: 1; border-radius: 0.35em;\">\n",
       "    Machine Learning Engineer\n",
       "    <span style=\"font-size: 0.8em; font-weight: bold; line-height: 1; border-radius: 0.35em; vertical-align: middle; margin-left: 0.5rem\">WORKED AS</span>\n",
       "</mark>\n",
       ",February 2021 - May 2022  (\n",
       "<mark class=\"entity\" style=\"background: #5813C7; padding: 0.45em 0.6em; margin: 0 0.25em; line-height: 1; border-radius: 0.35em;\">\n",
       "    1 year 4\n",
       "    <span style=\"font-size: 0.8em; font-weight: bold; line-height: 1; border-radius: 0.35em; vertical-align: middle; margin-left: 0.5rem\">YEARS OF EXPERIENCE</span>\n",
       "</mark>\n",
       " months),Kathmandu, Bāgmatī, Nepal,\n",
       "<mark class=\"entity\" style=\"background: #0D9CB4; padding: 0.45em 0.6em; margin: 0 0.25em; line-height: 1; border-radius: 0.35em;\">\n",
       "    Machine Learning Engineer Associate\n",
       "    <span style=\"font-size: 0.8em; font-weight: bold; line-height: 1; border-radius: 0.35em; vertical-align: middle; margin-left: 0.5rem\">WORKED AS</span>\n",
       "</mark>\n",
       ",February 2020 - February 2021  (\n",
       "<mark class=\"entity\" style=\"background: #5813C7; padding: 0.45em 0.6em; margin: 0 0.25em; line-height: 1; border-radius: 0.35em;\">\n",
       "    1 year 1\n",
       "    <span style=\"font-size: 0.8em; font-weight: bold; line-height: 1; border-radius: 0.35em; vertical-align: middle; margin-left: 0.5rem\">YEARS OF EXPERIENCE</span>\n",
       "</mark>\n",
       " month),Kathmandu, Nepal,\n",
       "<mark class=\"entity\" style=\"background: #BADCA1; padding: 0.45em 0.6em; margin: 0 0.25em; line-height: 1; border-radius: 0.35em;\">\n",
       "    Deerwalk Inc.\n",
       "    <span style=\"font-size: 0.8em; font-weight: bold; line-height: 1; border-radius: 0.35em; vertical-align: middle; margin-left: 0.5rem\">COMPANIES WORKED AT</span>\n",
       "</mark>\n",
       ",Software \n",
       "<mark class=\"entity\" style=\"background: #0D9CB4; padding: 0.45em 0.6em; margin: 0 0.25em; line-height: 1; border-radius: 0.35em;\">\n",
       "    Intern\n",
       "    <span style=\"font-size: 0.8em; font-weight: bold; line-height: 1; border-radius: 0.35em; vertical-align: middle; margin-left: 0.5rem\">WORKED AS</span>\n",
       "</mark>\n",
       ",January 2019 - September 2019  (\n",
       "<mark class=\"entity\" style=\"background: #5813C7; padding: 0.45em 0.6em; margin: 0 0.25em; line-height: 1; border-radius: 0.35em;\">\n",
       "    9\n",
       "    <span style=\"font-size: 0.8em; font-weight: bold; line-height: 1; border-radius: 0.35em; vertical-align: middle; margin-left: 0.5rem\">YEARS OF EXPERIENCE</span>\n",
       "</mark>\n",
       " months),Nepal,Education,\n",
       "<mark class=\"entity\" style=\"background: orange; padding: 0.45em 0.6em; margin: 0 0.25em; line-height: 1; border-radius: 0.35em;\">\n",
       "    Pulchowk Campus\n",
       "    <span style=\"font-size: 0.8em; font-weight: bold; line-height: 1; border-radius: 0.35em; vertical-align: middle; margin-left: 0.5rem\">COLLEGE NAME</span>\n",
       "</mark>\n",
       ",\n",
       "<mark class=\"entity\" style=\"background: #0D350E; padding: 0.45em 0.6em; margin: 0 0.25em; line-height: 1; border-radius: 0.35em;\">\n",
       "    Bachelor of Engineering - BE, Electronics and Communication,Engineering\n",
       "    <span style=\"font-size: 0.8em; font-weight: bold; line-height: 1; border-radius: 0.35em; vertical-align: middle; margin-left: 0.5rem\">DEGREE</span>\n",
       "</mark>\n",
       "  · (2015 - 2019),NAAMII Winter AI School 2019,Computer Science  · (2018 - 2019),  Page 1 of 1,    ,Contact,www.linkedin.com/in/zhenmo,(LinkedIn),Top Skills,\n",
       "<mark class=\"entity\" style=\"background: #008000; padding: 0.45em 0.6em; margin: 0 0.25em; line-height: 1; border-radius: 0.35em;\">\n",
       "    Project Management\n",
       "    <span style=\"font-size: 0.8em; font-weight: bold; line-height: 1; border-radius: 0.35em; vertical-align: middle; margin-left: 0.5rem\">SKILLS</span>\n",
       "</mark>\n",
       ",\n",
       "<mark class=\"entity\" style=\"background: #008000; padding: 0.45em 0.6em; margin: 0 0.25em; line-height: 1; border-radius: 0.35em;\">\n",
       "    PMP\n",
       "    <span style=\"font-size: 0.8em; font-weight: bold; line-height: 1; border-radius: 0.35em; vertical-align: middle; margin-left: 0.5rem\">SKILLS</span>\n",
       "</mark>\n",
       ",\n",
       "<mark class=\"entity\" style=\"background: #008000; padding: 0.45em 0.6em; margin: 0 0.25em; line-height: 1; border-radius: 0.35em;\">\n",
       "    Business Intelligence\n",
       "    <span style=\"font-size: 0.8em; font-weight: bold; line-height: 1; border-radius: 0.35em; vertical-align: middle; margin-left: 0.5rem\">SKILLS</span>\n",
       "</mark>\n",
       ",Certifications,\n",
       "<mark class=\"entity\" style=\"background: #1AA436; padding: 0.45em 0.6em; margin: 0 0.25em; line-height: 1; border-radius: 0.35em;\">\n",
       "    Access Data Model Certification\n",
       "    <span style=\"font-size: 0.8em; font-weight: bold; line-height: 1; border-radius: 0.35em; vertical-align: middle; margin-left: 0.5rem\">CERTIFICATION</span>\n",
       "</mark>\n",
       ",\n",
       "<mark class=\"entity\" style=\"background: #1AA436; padding: 0.45em 0.6em; margin: 0 0.25em; line-height: 1; border-radius: 0.35em;\">\n",
       "    Clarity Data Model Certification\n",
       "    <span style=\"font-size: 0.8em; font-weight: bold; line-height: 1; border-radius: 0.35em; vertical-align: middle; margin-left: 0.5rem\">CERTIFICATION</span>\n",
       "</mark>\n",
       ",\n",
       "<mark class=\"entity\" style=\"background: #1AA436; padding: 0.45em 0.6em; margin: 0 0.25em; line-height: 1; border-radius: 0.35em;\">\n",
       "    Project Management\n",
       "    <span style=\"font-size: 0.8em; font-weight: bold; line-height: 1; border-radius: 0.35em; vertical-align: middle; margin-left: 0.5rem\">CERTIFICATION</span>\n",
       "</mark>\n",
       " Professional,(PMP),Certified \n",
       "<mark class=\"entity\" style=\"background: #1AA436; padding: 0.45em 0.6em; margin: 0 0.25em; line-height: 1; border-radius: 0.35em;\">\n",
       "    Information Systems,Auditor (\n",
       "    <span style=\"font-size: 0.8em; font-weight: bold; line-height: 1; border-radius: 0.35em; vertical-align: middle; margin-left: 0.5rem\">CERTIFICATION</span>\n",
       "</mark>\n",
       "CISA),Caboodle \n",
       "<mark class=\"entity\" style=\"background: #1AA436; padding: 0.45em 0.6em; margin: 0 0.25em; line-height: 1; border-radius: 0.35em;\">\n",
       "    Data Model Certification\n",
       "    <span style=\"font-size: 0.8em; font-weight: bold; line-height: 1; border-radius: 0.35em; vertical-align: middle; margin-left: 0.5rem\">CERTIFICATION</span>\n",
       "</mark>\n",
       " \n",
       "<mark class=\"entity\" style=\"background: yellow; padding: 0.45em 0.6em; margin: 0 0.25em; line-height: 1; border-radius: 0.35em;\">\n",
       "    Zhen\n",
       "    <span style=\"font-size: 0.8em; font-weight: bold; line-height: 1; border-radius: 0.35em; vertical-align: middle; margin-left: 0.5rem\">NAME</span>\n",
       "</mark>\n",
       " M.,Manager of Enterprise Data Warehouse at Thomas Jefferson,University / Jefferson Health,\n",
       "<mark class=\"entity\" style=\"background: white; padding: 0.45em 0.6em; margin: 0 0.25em; line-height: 1; border-radius: 0.35em;\">\n",
       "    Philadelphia, Pennsylvania, United States\n",
       "    <span style=\"font-size: 0.8em; font-weight: bold; line-height: 1; border-radius: 0.35em; vertical-align: middle; margin-left: 0.5rem\">LOCATION</span>\n",
       "</mark>\n",
       ",Summary,IT Professional with extensive experience in technology,management and proven ability to align technical solutions with,business goals in complex and large-scale organizations worldwide,Strong in professional services, project management, technical,leadership, data analytics, development, and issue resolution in,working in international environments with efficient communications,skills.,Specialties: Cloud Transformation, Data Warehousing, Data,Engineering, Data Analytics, Business Intelligence, Project,Management, Professional Services, Resource Management,,Integration, and Identity &amp; Access Management etc.,Certified by PMI and has an active PMP credential.,Certified by ISACA and has an active CISA designation.,Experience,\n",
       "<mark class=\"entity\" style=\"background: #BADCA1; padding: 0.45em 0.6em; margin: 0 0.25em; line-height: 1; border-radius: 0.35em;\">\n",
       "    Thomas Jefferson University\n",
       "    <span style=\"font-size: 0.8em; font-weight: bold; line-height: 1; border-radius: 0.35em; vertical-align: middle; margin-left: 0.5rem\">COMPANIES WORKED AT</span>\n",
       "</mark>\n",
       " Hospitals,6 years 11 months,\n",
       "<mark class=\"entity\" style=\"background: #0D9CB4; padding: 0.45em 0.6em; margin: 0 0.25em; line-height: 1; border-radius: 0.35em;\">\n",
       "    Manager of Enterprise Data Warehouse\n",
       "    <span style=\"font-size: 0.8em; font-weight: bold; line-height: 1; border-radius: 0.35em; vertical-align: middle; margin-left: 0.5rem\">WORKED AS</span>\n",
       "</mark>\n",
       ",November 2021 - Present  (\n",
       "<mark class=\"entity\" style=\"background: #5813C7; padding: 0.45em 0.6em; margin: 0 0.25em; line-height: 1; border-radius: 0.35em;\">\n",
       "    9\n",
       "    <span style=\"font-size: 0.8em; font-weight: bold; line-height: 1; border-radius: 0.35em; vertical-align: middle; margin-left: 0.5rem\">YEARS OF EXPERIENCE</span>\n",
       "</mark>\n",
       " months),Greater Philadelphia Area,Establishes robust and intelligent Enterprise Data Warehouse in highly,complex environments that connect to healthcare organization data across,clinical, academic, research, and operational systems by creating innovation &amp;,business intelligence-driven solutions and versatile data models.,Data \n",
       "<mark class=\"entity\" style=\"background: #0D9CB4; padding: 0.45em 0.6em; margin: 0 0.25em; line-height: 1; border-radius: 0.35em;\">\n",
       "    Warehouse Architect\n",
       "    <span style=\"font-size: 0.8em; font-weight: bold; line-height: 1; border-radius: 0.35em; vertical-align: middle; margin-left: 0.5rem\">WORKED AS</span>\n",
       "</mark>\n",
       ",November 2018 - November 2021  (\n",
       "<mark class=\"entity\" style=\"background: #5813C7; padding: 0.45em 0.6em; margin: 0 0.25em; line-height: 1; border-radius: 0.35em;\">\n",
       "    3 years 1\n",
       "    <span style=\"font-size: 0.8em; font-weight: bold; line-height: 1; border-radius: 0.35em; vertical-align: middle; margin-left: 0.5rem\">YEARS OF EXPERIENCE</span>\n",
       "</mark>\n",
       " month),Greater Philadelphia Area,  Page 1 of 2   ,\n",
       "<mark class=\"entity\" style=\"background: #0D9CB4; padding: 0.45em 0.6em; margin: 0 0.25em; line-height: 1; border-radius: 0.35em;\">\n",
       "    Senior Data Modeler\n",
       "    <span style=\"font-size: 0.8em; font-weight: bold; line-height: 1; border-radius: 0.35em; vertical-align: middle; margin-left: 0.5rem\">WORKED AS</span>\n",
       "</mark>\n",
       ",September 2015 - November 2018  (\n",
       "<mark class=\"entity\" style=\"background: #5813C7; padding: 0.45em 0.6em; margin: 0 0.25em; line-height: 1; border-radius: 0.35em;\">\n",
       "    3 years 3\n",
       "    <span style=\"font-size: 0.8em; font-weight: bold; line-height: 1; border-radius: 0.35em; vertical-align: middle; margin-left: 0.5rem\">YEARS OF EXPERIENCE</span>\n",
       "</mark>\n",
       " months),Greater Philadelphia Area,\n",
       "<mark class=\"entity\" style=\"background: #BADCA1; padding: 0.45em 0.6em; margin: 0 0.25em; line-height: 1; border-radius: 0.35em;\">\n",
       "    Swansee Group\n",
       "    <span style=\"font-size: 0.8em; font-weight: bold; line-height: 1; border-radius: 0.35em; vertical-align: middle; margin-left: 0.5rem\">COMPANIES WORKED AT</span>\n",
       "</mark>\n",
       ",\n",
       "<mark class=\"entity\" style=\"background: #0D9CB4; padding: 0.45em 0.6em; margin: 0 0.25em; line-height: 1; border-radius: 0.35em;\">\n",
       "    IT Director / Business Intelligence Consultant\n",
       "    <span style=\"font-size: 0.8em; font-weight: bold; line-height: 1; border-radius: 0.35em; vertical-align: middle; margin-left: 0.5rem\">WORKED AS</span>\n",
       "</mark>\n",
       ",July 2014 - September 2015  (\n",
       "<mark class=\"entity\" style=\"background: #5813C7; padding: 0.45em 0.6em; margin: 0 0.25em; line-height: 1; border-radius: 0.35em;\">\n",
       "    1 year 3\n",
       "    <span style=\"font-size: 0.8em; font-weight: bold; line-height: 1; border-radius: 0.35em; vertical-align: middle; margin-left: 0.5rem\">YEARS OF EXPERIENCE</span>\n",
       "</mark>\n",
       " months),Swansee Group is an IT Solutions and Services company that specializes in,Business Intelligence, Data Analytics, and Data Management.,Skyworth TTG,6 years 8 months,\n",
       "<mark class=\"entity\" style=\"background: #0D9CB4; padding: 0.45em 0.6em; margin: 0 0.25em; line-height: 1; border-radius: 0.35em;\">\n",
       "    Director of Global Professional Services\n",
       "    <span style=\"font-size: 0.8em; font-weight: bold; line-height: 1; border-radius: 0.35em; vertical-align: middle; margin-left: 0.5rem\">WORKED AS</span>\n",
       "</mark>\n",
       ",January 2013 - February 2014  (\n",
       "<mark class=\"entity\" style=\"background: #5813C7; padding: 0.45em 0.6em; margin: 0 0.25em; line-height: 1; border-radius: 0.35em;\">\n",
       "    1 year 2\n",
       "    <span style=\"font-size: 0.8em; font-weight: bold; line-height: 1; border-radius: 0.35em; vertical-align: middle; margin-left: 0.5rem\">YEARS OF EXPERIENCE</span>\n",
       "</mark>\n",
       " months),Skyworth TTG is a global IT security company which specializes in the,technologies used between organizations to enable secure, open and robust,business corporation.,Director \n",
       "<mark class=\"entity\" style=\"background: #0D9CB4; padding: 0.45em 0.6em; margin: 0 0.25em; line-height: 1; border-radius: 0.35em;\">\n",
       "    of Professional Services, China\n",
       "    <span style=\"font-size: 0.8em; font-weight: bold; line-height: 1; border-radius: 0.35em; vertical-align: middle; margin-left: 0.5rem\">WORKED AS</span>\n",
       "</mark>\n",
       ",April 2010 - January 2013  (\n",
       "<mark class=\"entity\" style=\"background: #5813C7; padding: 0.45em 0.6em; margin: 0 0.25em; line-height: 1; border-radius: 0.35em;\">\n",
       "    2 years 10\n",
       "    <span style=\"font-size: 0.8em; font-weight: bold; line-height: 1; border-radius: 0.35em; vertical-align: middle; margin-left: 0.5rem\">YEARS OF EXPERIENCE</span>\n",
       "</mark>\n",
       " months),Delivery \n",
       "<mark class=\"entity\" style=\"background: #0D9CB4; padding: 0.45em 0.6em; margin: 0 0.25em; line-height: 1; border-radius: 0.35em;\">\n",
       "    Manager\n",
       "    <span style=\"font-size: 0.8em; font-weight: bold; line-height: 1; border-radius: 0.35em; vertical-align: middle; margin-left: 0.5rem\">WORKED AS</span>\n",
       "</mark>\n",
       ",July 2007 - March 2010  (\n",
       "<mark class=\"entity\" style=\"background: #5813C7; padding: 0.45em 0.6em; margin: 0 0.25em; line-height: 1; border-radius: 0.35em;\">\n",
       "    2 years 9\n",
       "    <span style=\"font-size: 0.8em; font-weight: bold; line-height: 1; border-radius: 0.35em; vertical-align: middle; margin-left: 0.5rem\">YEARS OF EXPERIENCE</span>\n",
       "</mark>\n",
       " months),IBM,\n",
       "<mark class=\"entity\" style=\"background: #0D9CB4; padding: 0.45em 0.6em; margin: 0 0.25em; line-height: 1; border-radius: 0.35em;\">\n",
       "    IT Specialist\n",
       "    <span style=\"font-size: 0.8em; font-weight: bold; line-height: 1; border-radius: 0.35em; vertical-align: middle; margin-left: 0.5rem\">WORKED AS</span>\n",
       "</mark>\n",
       ",December 2005 - July 2007  (\n",
       "<mark class=\"entity\" style=\"background: #5813C7; padding: 0.45em 0.6em; margin: 0 0.25em; line-height: 1; border-radius: 0.35em;\">\n",
       "    1 year 8\n",
       "    <span style=\"font-size: 0.8em; font-weight: bold; line-height: 1; border-radius: 0.35em; vertical-align: middle; margin-left: 0.5rem\">YEARS OF EXPERIENCE</span>\n",
       "</mark>\n",
       " months),Education,\n",
       "<mark class=\"entity\" style=\"background: #1AE0F9; padding: 0.45em 0.6em; margin: 0 0.25em; line-height: 1; border-radius: 0.35em;\">\n",
       "    University of Bristol\n",
       "    <span style=\"font-size: 0.8em; font-weight: bold; line-height: 1; border-radius: 0.35em; vertical-align: middle; margin-left: 0.5rem\">UNIVERSITY</span>\n",
       "</mark>\n",
       ",\n",
       "<mark class=\"entity\" style=\"background: #0D350E; padding: 0.45em 0.6em; margin: 0 0.25em; line-height: 1; border-radius: 0.35em;\">\n",
       "    Master’s Degree, Computer Science\n",
       "    <span style=\"font-size: 0.8em; font-weight: bold; line-height: 1; border-radius: 0.35em; vertical-align: middle; margin-left: 0.5rem\">DEGREE</span>\n",
       "</mark>\n",
       ",\n",
       "<mark class=\"entity\" style=\"background: #1AE0F9; padding: 0.45em 0.6em; margin: 0 0.25em; line-height: 1; border-radius: 0.35em;\">\n",
       "    Beijing Technology and Business University\n",
       "    <span style=\"font-size: 0.8em; font-weight: bold; line-height: 1; border-radius: 0.35em; vertical-align: middle; margin-left: 0.5rem\">UNIVERSITY</span>\n",
       "</mark>\n",
       ",\n",
       "<mark class=\"entity\" style=\"background: #0D350E; padding: 0.45em 0.6em; margin: 0 0.25em; line-height: 1; border-radius: 0.35em;\">\n",
       "    Bachelor’s Degree, Mechanical Engineering and Automation\n",
       "    <span style=\"font-size: 0.8em; font-weight: bold; line-height: 1; border-radius: 0.35em; vertical-align: middle; margin-left: 0.5rem\">DEGREE</span>\n",
       "</mark>\n",
       ",  Page 2 of 2,</div></span>"
      ],
      "text/plain": [
       "<IPython.core.display.HTML object>"
      ]
     },
     "metadata": {},
     "output_type": "display_data"
    }
   ],
   "source": [
    "# Visualizing the NER Predictions against the Ground Truth 'samples'\n",
    "print('\\n########### Prediction ###########\\n')\n",
    "render_sample_pred(pred)\n",
    "print('\\n########### Ground Truth ###########\\n')\n",
    "render_sample_pred(list_to_spacy_ner_doc(ground))"
   ]
  },
  {
   "cell_type": "code",
   "execution_count": 30,
   "metadata": {
    "id": "PjBe-lm3qTcR"
   },
   "outputs": [],
   "source": [
    "def spacy_evaluate(ner_predictions, samples, show_res=False):\n",
    "  '''Spacy Evaluation Function - Not going to use it\n",
    "  Given a trained spacy ner model along with json formatted data, this function will evaluate the model on the data'''\n",
    "  scorer = Scorer()\n",
    "  example = []\n",
    "  for pred, sample in zip(ner_predictions, samples):\n",
    "    # print(pred)\n",
    "    pred_doc = list_to_spacy_ner_doc(pred)\n",
    "\n",
    "    if show_res:\n",
    "      print('\\n########### Prediction ###########\\n')\n",
    "      render_sample_pred(pred_doc)\n",
    "      print('\\n########### Ground Truth ###########\\n')\n",
    "      render_sample_pred(list_to_spacy_ner_doc(sample))\n",
    "\n",
    "    temp_ex = Example.from_dict(pred_doc, {'entities': sample['entities']})\n",
    "    example.append(temp_ex)\n",
    "\n",
    "  scores = scorer.score(example)\n",
    "  return scores"
   ]
  },
  {
   "cell_type": "code",
   "execution_count": 31,
   "metadata": {
    "id": "9Hh6zAJuqTcR"
   },
   "outputs": [],
   "source": [
    "def save_predictions(ner_predictions, filename, semeval_format=True, docanno_format=True):\n",
    "  # Saving the predictions as JSON - each dictionary on a line\n",
    "  semeval_ent = []\n",
    "  with open(OUTPUT_DIR+'/'+filename, 'w', encoding='UTF-8') as json_file:\n",
    "    for pred in ner_predictions:\n",
    "      tmp_ent = []\n",
    "      if semeval_format:\n",
    "        if docanno_format:\n",
    "            # Prodigy/Docanno formatted Ground Truth to work with nereval library - for SemEval 2013 - 9.1 task.\n",
    "            for ent in pred['entities']:\n",
    "              # saved in this format: [{\"label\": \"PER\", \"start\": 2, \"end\": 4}, ... ]\n",
    "              tmp_ent.append({\"label\": ent[2], \"start\": ent[0], \"end\": ent[1]})\n",
    "\n",
    "        else:\n",
    "            # Spacy Doc object to work with nereval library - for SemEval 2013 - 9.1 task.\n",
    "            for ent in pred.ents:\n",
    "              # saved in this format: [{\"label\": \"PER\", \"start\": 2, \"end\": 4}, ... ]\n",
    "              tmp_ent.append({\"label\": ent.label_, \"start\": ent.start_char, \"end\": ent.end_char})\n",
    "\n",
    "        semeval_ent.append(tmp_ent)\n",
    "\n",
    "      else:\n",
    "        # this is regullar spacy format, can be used for spacy's default evaluation later also for input of Ex-2\n",
    "        # saved in this format: {\"text\": \"\", \"entities\": [[36, 40, \"Complication_E\"], [44, 51, \"Anatomy_E\"], ...]}\n",
    "        for ent in pred.ents:\n",
    "            tmp_ent.append([ent.start_char, ent.end_char, ent.label_])\n",
    "\n",
    "        pred_json = {\"text\": pred.text, \"entities\": tmp_ent}\n",
    "        json_file.write(json.dumps(pred_json, ensure_ascii=False))\n",
    "        json_file.write('\\n')\n",
    "\n",
    "    if semeval_format:\n",
    "      # dumping it into a JSON file\n",
    "      json_file.write(json.dumps(semeval_ent, ensure_ascii=False))\n",
    "\n",
    "  return semeval_ent\n",
    "  # # This is single line JSON Dump of the entile list of dictionary - parser cannot parse it directly\n",
    "  # with open(OUTPUT_DIR+'/predition.jsonl', 'w') as fout:\n",
    "  #     json.dump(ner_predictions, fout)"
   ]
  },
  {
   "cell_type": "code",
   "execution_count": 32,
   "metadata": {
    "id": "ur8SoLvGqTcR"
   },
   "outputs": [],
   "source": [
    "def preprocess_results(results_by_tag):\n",
    "    results_by_entity = []\n",
    "    for entity in ENTITY_LABELS:\n",
    "        if entity != 'Code_E':\n",
    "            df = pd.DataFrame(results_by_tag[entity])\n",
    "            df = df.round(decimals = 2)\n",
    "            df.insert(0,'Entity','')\n",
    "            df['Entity'] = entity\n",
    "            results_by_entity.append(df)\n",
    "    return results_by_entity"
   ]
  },
  {
   "cell_type": "code",
   "execution_count": 33,
   "metadata": {
    "id": "4GsGfy8LqTcR"
   },
   "outputs": [],
   "source": [
    "def semeval_evaluation(true, pred):\n",
    "    evaluator = Evaluator(true, pred, tags=ENTITY_LABELS)\n",
    "    results, results_by_tag = evaluator.evaluate()\n",
    "\n",
    "    results = pd.DataFrame(results)\n",
    "    results.to_excel(OUTPUT_DIR+'/'+'overall_benchmark.xlsx')\n",
    "\n",
    "    results_by_entity = pd.concat(preprocess_results(results_by_tag))\n",
    "    results_by_entity.to_excel(OUTPUT_DIR+'/'+'entity_benchmark.xlsx')\n",
    "\n",
    "    return results, results_by_entity"
   ]
  },
  {
   "cell_type": "markdown",
   "metadata": {
    "id": "MsELgPSoqTcS"
   },
   "source": [
    "### Validation Evaluation"
   ]
  },
  {
   "cell_type": "code",
   "execution_count": null,
   "metadata": {
    "id": "cpRaNuzBqTcS"
   },
   "outputs": [],
   "source": [
    "start_time = time.time()\n",
    "# Saving the predictions in a list for Validation Set\n",
    "ner_predictions_val = []\n",
    "\n",
    "for sample in samples_val:\n",
    "    ner_predictions_val.append(nlp_ner(sample['text']))"
   ]
  },
  {
   "cell_type": "code",
   "execution_count": null,
   "metadata": {
    "id": "ufj-i2cVqTcS"
   },
   "outputs": [],
   "source": [
    "print(ner_predictions_val[0])"
   ]
  },
  {
   "cell_type": "code",
   "execution_count": null,
   "metadata": {
    "id": "5HjZAON3qTcS"
   },
   "outputs": [],
   "source": [
    "# saving the ground and predictions into a JSONL file for later evaluation.\n",
    "semeval_ground_val = save_predictions(samples_val, filename= 'ground_val_semEval.jsonl')\n",
    "semeval_pred_val = save_predictions(ner_predictions_val, filename='predition_val_semEval.jsonl', semeval_format=True, docanno_format=False)"
   ]
  },
  {
   "cell_type": "code",
   "execution_count": null,
   "metadata": {
    "id": "0gX1kiQiqTcV"
   },
   "outputs": [],
   "source": [
    "# Validation evaluation following SemEval 2013 metrics\n",
    "results, results_by_entity = semeval_evaluation(true=semeval_ground_val, pred=semeval_pred_val)\n",
    "end_time = time.time()\n",
    "print(f'\\nTotal Validation Time = {end_time - start_time} (sec)')"
   ]
  },
  {
   "cell_type": "markdown",
   "metadata": {
    "id": "opgFlxZqqTcW"
   },
   "source": [
    "### Test Evaluation"
   ]
  },
  {
   "cell_type": "code",
   "execution_count": 34,
   "metadata": {
    "id": "yMFywS2WqTcW"
   },
   "outputs": [],
   "source": [
    "start_time = time.time()\n",
    "# Saving the predictions in a list for Test Set\n",
    "ner_predictions_test = []\n",
    "\n",
    "for sample in samples_test:\n",
    "    ner_predictions_test.append(nlp_ner(sample['text']))"
   ]
  },
  {
   "cell_type": "code",
   "execution_count": 35,
   "metadata": {
    "id": "rpuXgYNEqTcW"
   },
   "outputs": [],
   "source": [
    "# saving the grond and predictions into a JSONL file for later evaluation.\n",
    "semeval_ground_test = save_predictions(samples_test, filename= 'ground_test.jsonl')\n",
    "semeval_pred_test = save_predictions(ner_predictions_test, filename='predition_test.jsonl', semeval_format=True, docanno_format=False)"
   ]
  },
  {
   "cell_type": "code",
   "execution_count": 36,
   "metadata": {
    "colab": {
     "base_uri": "https://localhost:8080/"
    },
    "id": "zyJOtyXDqTcW",
    "outputId": "eb1c366f-9db6-46ba-eea1-6fab6539dbcf"
   },
   "outputs": [
    {
     "name": "stdout",
     "output_type": "stream",
     "text": [
      "\n",
      "Total Test Time = 77.91499400138855 (sec)\n"
     ]
    }
   ],
   "source": [
    "# Test evaluation following SemEval 2013 metrics\n",
    "results, results_by_entity = semeval_evaluation(true=semeval_ground_test, pred=semeval_pred_test)\n",
    "end_time = time.time()\n",
    "print(f'\\nTotal Test Time = {end_time - start_time} (sec)')"
   ]
  },
  {
   "cell_type": "code",
   "execution_count": 37,
   "metadata": {
    "colab": {
     "base_uri": "https://localhost:8080/"
    },
    "id": "I4qXiHRfqTcW",
    "outputId": "da67cefd-07c1-47b5-cf79-9b1e5247ed43"
   },
   "outputs": [
    {
     "name": "stdout",
     "output_type": "stream",
     "text": [
      "\n",
      "########### Overall Results ###########\n",
      "\n",
      "Precision: 0.2555023923444976\n",
      "Recall: 0.1245916938870742\n",
      "F1: 0.16750313676286074\n",
      "\n"
     ]
    }
   ],
   "source": [
    "print('\\n########### Overall Results ###########\\n')\n",
    "print(f\"Precision: {results['partial']['precision']}\\nRecall: {results['partial']['recall']}\\nF1: {results['partial']['f1']}\\n\")"
   ]
  },
  {
   "cell_type": "code",
   "execution_count": null,
   "metadata": {
    "id": "xL-zwSBWqTcX"
   },
   "outputs": [],
   "source": []
  }
 ],
 "metadata": {
  "accelerator": "GPU",
  "colab": {
   "gpuType": "T4",
   "provenance": []
  },
  "kernelspec": {
   "display_name": "Python 3 (ipykernel)",
   "language": "python",
   "name": "python3"
  },
  "language_info": {
   "codemirror_mode": {
    "name": "ipython",
    "version": 3
   },
   "file_extension": ".py",
   "mimetype": "text/x-python",
   "name": "python",
   "nbconvert_exporter": "python",
   "pygments_lexer": "ipython3",
   "version": "3.9.16"
  }
 },
 "nbformat": 4,
 "nbformat_minor": 1
}
